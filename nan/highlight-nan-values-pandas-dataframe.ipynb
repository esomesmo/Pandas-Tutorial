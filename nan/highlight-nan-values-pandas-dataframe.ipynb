{
 "cells": [
  {
   "cell_type": "markdown",
   "id": "371cb2a4",
   "metadata": {},
   "source": [
    "# How to Highlight NaN Values in Pandas DataFrame"
   ]
  },
  {
   "cell_type": "code",
   "execution_count": 1,
   "id": "77dc76df",
   "metadata": {},
   "outputs": [
    {
     "data": {
      "text/html": [
       "<div>\n",
       "<style scoped>\n",
       "    .dataframe tbody tr th:only-of-type {\n",
       "        vertical-align: middle;\n",
       "    }\n",
       "\n",
       "    .dataframe tbody tr th {\n",
       "        vertical-align: top;\n",
       "    }\n",
       "\n",
       "    .dataframe thead th {\n",
       "        text-align: right;\n",
       "    }\n",
       "</style>\n",
       "<table border=\"1\" class=\"dataframe\">\n",
       "  <thead>\n",
       "    <tr style=\"text-align: right;\">\n",
       "      <th></th>\n",
       "      <th>0</th>\n",
       "      <th>1</th>\n",
       "      <th>2</th>\n",
       "      <th>3</th>\n",
       "      <th>4</th>\n",
       "    </tr>\n",
       "  </thead>\n",
       "  <tbody>\n",
       "    <tr>\n",
       "      <th>0</th>\n",
       "      <td>51</td>\n",
       "      <td>25</td>\n",
       "      <td>0</td>\n",
       "      <td>28</td>\n",
       "      <td>21</td>\n",
       "    </tr>\n",
       "    <tr>\n",
       "      <th>1</th>\n",
       "      <td>83</td>\n",
       "      <td>3</td>\n",
       "      <td>1</td>\n",
       "      <td>5</td>\n",
       "      <td>62</td>\n",
       "    </tr>\n",
       "    <tr>\n",
       "      <th>2</th>\n",
       "      <td>92</td>\n",
       "      <td>19</td>\n",
       "      <td>4</td>\n",
       "      <td>10</td>\n",
       "      <td>24</td>\n",
       "    </tr>\n",
       "    <tr>\n",
       "      <th>3</th>\n",
       "      <td>12</td>\n",
       "      <td>54</td>\n",
       "      <td>24</td>\n",
       "      <td>5</td>\n",
       "      <td>90</td>\n",
       "    </tr>\n",
       "    <tr>\n",
       "      <th>4</th>\n",
       "      <td>46</td>\n",
       "      <td>83</td>\n",
       "      <td>51</td>\n",
       "      <td>85</td>\n",
       "      <td>97</td>\n",
       "    </tr>\n",
       "  </tbody>\n",
       "</table>\n",
       "</div>"
      ],
      "text/plain": [
       "    0   1   2   3   4\n",
       "0  51  25   0  28  21\n",
       "1  83   3   1   5  62\n",
       "2  92  19   4  10  24\n",
       "3  12  54  24   5  90\n",
       "4  46  83  51  85  97"
      ]
     },
     "execution_count": 1,
     "metadata": {},
     "output_type": "execute_result"
    }
   ],
   "source": [
    "import pandas as pd\n",
    "import numpy as np\n",
    "df = pd.DataFrame(np.random.randint(0,100,size=(5, 5)), columns=list(range(0, 5)))\n",
    "df"
   ]
  },
  {
   "cell_type": "code",
   "execution_count": 2,
   "id": "9e3c58f7",
   "metadata": {},
   "outputs": [
    {
     "data": {
      "text/plain": [
       "array([[2, 1],\n",
       "       [2, 2],\n",
       "       [1, 1],\n",
       "       [2, 0],\n",
       "       [2, 0]])"
      ]
     },
     "execution_count": 2,
     "metadata": {},
     "output_type": "execute_result"
    }
   ],
   "source": [
    "randoms = np.random.choice(4,(5,2),replace=True) \n",
    "randoms"
   ]
  },
  {
   "cell_type": "code",
   "execution_count": 3,
   "id": "3dc7a301",
   "metadata": {},
   "outputs": [
    {
     "data": {
      "text/html": [
       "<div>\n",
       "<style scoped>\n",
       "    .dataframe tbody tr th:only-of-type {\n",
       "        vertical-align: middle;\n",
       "    }\n",
       "\n",
       "    .dataframe tbody tr th {\n",
       "        vertical-align: top;\n",
       "    }\n",
       "\n",
       "    .dataframe thead th {\n",
       "        text-align: right;\n",
       "    }\n",
       "</style>\n",
       "<table border=\"1\" class=\"dataframe\">\n",
       "  <thead>\n",
       "    <tr style=\"text-align: right;\">\n",
       "      <th></th>\n",
       "      <th>0</th>\n",
       "      <th>1</th>\n",
       "      <th>2</th>\n",
       "      <th>3</th>\n",
       "      <th>4</th>\n",
       "    </tr>\n",
       "  </thead>\n",
       "  <tbody>\n",
       "    <tr>\n",
       "      <th>0</th>\n",
       "      <td>51.0</td>\n",
       "      <td>25.0</td>\n",
       "      <td>0.0</td>\n",
       "      <td>28</td>\n",
       "      <td>21</td>\n",
       "    </tr>\n",
       "    <tr>\n",
       "      <th>1</th>\n",
       "      <td>83.0</td>\n",
       "      <td>NaN</td>\n",
       "      <td>1.0</td>\n",
       "      <td>5</td>\n",
       "      <td>62</td>\n",
       "    </tr>\n",
       "    <tr>\n",
       "      <th>2</th>\n",
       "      <td>NaN</td>\n",
       "      <td>NaN</td>\n",
       "      <td>NaN</td>\n",
       "      <td>10</td>\n",
       "      <td>24</td>\n",
       "    </tr>\n",
       "    <tr>\n",
       "      <th>3</th>\n",
       "      <td>12.0</td>\n",
       "      <td>54.0</td>\n",
       "      <td>24.0</td>\n",
       "      <td>5</td>\n",
       "      <td>90</td>\n",
       "    </tr>\n",
       "    <tr>\n",
       "      <th>4</th>\n",
       "      <td>46.0</td>\n",
       "      <td>83.0</td>\n",
       "      <td>51.0</td>\n",
       "      <td>85</td>\n",
       "      <td>97</td>\n",
       "    </tr>\n",
       "  </tbody>\n",
       "</table>\n",
       "</div>"
      ],
      "text/plain": [
       "      0     1     2   3   4\n",
       "0  51.0  25.0   0.0  28  21\n",
       "1  83.0   NaN   1.0   5  62\n",
       "2   NaN   NaN   NaN  10  24\n",
       "3  12.0  54.0  24.0   5  90\n",
       "4  46.0  83.0  51.0  85  97"
      ]
     },
     "execution_count": 3,
     "metadata": {},
     "output_type": "execute_result"
    }
   ],
   "source": [
    "for pair in randoms:\n",
    "    df.loc[pair[0],pair[1]] = np.nan\n",
    "df    "
   ]
  },
  {
   "cell_type": "markdown",
   "id": "83678a4c",
   "metadata": {},
   "source": [
    "## Step 2: Highlight NaN values with lambda and pd.isna"
   ]
  },
  {
   "cell_type": "code",
   "execution_count": 4,
   "id": "b6a30ffd",
   "metadata": {},
   "outputs": [
    {
     "data": {
      "text/html": [
       "<style type=\"text/css\">\n",
       "#T_aa833_row1_col1, #T_aa833_row2_col0, #T_aa833_row2_col1, #T_aa833_row2_col2 {\n",
       "  color: red;\n",
       "}\n",
       "</style>\n",
       "<table id=\"T_aa833_\">\n",
       "  <thead>\n",
       "    <tr>\n",
       "      <th class=\"blank level0\" >&nbsp;</th>\n",
       "      <th class=\"col_heading level0 col0\" >0</th>\n",
       "      <th class=\"col_heading level0 col1\" >1</th>\n",
       "      <th class=\"col_heading level0 col2\" >2</th>\n",
       "      <th class=\"col_heading level0 col3\" >3</th>\n",
       "      <th class=\"col_heading level0 col4\" >4</th>\n",
       "    </tr>\n",
       "  </thead>\n",
       "  <tbody>\n",
       "    <tr>\n",
       "      <th id=\"T_aa833_level0_row0\" class=\"row_heading level0 row0\" >0</th>\n",
       "      <td id=\"T_aa833_row0_col0\" class=\"data row0 col0\" >51.000000</td>\n",
       "      <td id=\"T_aa833_row0_col1\" class=\"data row0 col1\" >25.000000</td>\n",
       "      <td id=\"T_aa833_row0_col2\" class=\"data row0 col2\" >0.000000</td>\n",
       "      <td id=\"T_aa833_row0_col3\" class=\"data row0 col3\" >28</td>\n",
       "      <td id=\"T_aa833_row0_col4\" class=\"data row0 col4\" >21</td>\n",
       "    </tr>\n",
       "    <tr>\n",
       "      <th id=\"T_aa833_level0_row1\" class=\"row_heading level0 row1\" >1</th>\n",
       "      <td id=\"T_aa833_row1_col0\" class=\"data row1 col0\" >83.000000</td>\n",
       "      <td id=\"T_aa833_row1_col1\" class=\"data row1 col1\" >nan</td>\n",
       "      <td id=\"T_aa833_row1_col2\" class=\"data row1 col2\" >1.000000</td>\n",
       "      <td id=\"T_aa833_row1_col3\" class=\"data row1 col3\" >5</td>\n",
       "      <td id=\"T_aa833_row1_col4\" class=\"data row1 col4\" >62</td>\n",
       "    </tr>\n",
       "    <tr>\n",
       "      <th id=\"T_aa833_level0_row2\" class=\"row_heading level0 row2\" >2</th>\n",
       "      <td id=\"T_aa833_row2_col0\" class=\"data row2 col0\" >nan</td>\n",
       "      <td id=\"T_aa833_row2_col1\" class=\"data row2 col1\" >nan</td>\n",
       "      <td id=\"T_aa833_row2_col2\" class=\"data row2 col2\" >nan</td>\n",
       "      <td id=\"T_aa833_row2_col3\" class=\"data row2 col3\" >10</td>\n",
       "      <td id=\"T_aa833_row2_col4\" class=\"data row2 col4\" >24</td>\n",
       "    </tr>\n",
       "    <tr>\n",
       "      <th id=\"T_aa833_level0_row3\" class=\"row_heading level0 row3\" >3</th>\n",
       "      <td id=\"T_aa833_row3_col0\" class=\"data row3 col0\" >12.000000</td>\n",
       "      <td id=\"T_aa833_row3_col1\" class=\"data row3 col1\" >54.000000</td>\n",
       "      <td id=\"T_aa833_row3_col2\" class=\"data row3 col2\" >24.000000</td>\n",
       "      <td id=\"T_aa833_row3_col3\" class=\"data row3 col3\" >5</td>\n",
       "      <td id=\"T_aa833_row3_col4\" class=\"data row3 col4\" >90</td>\n",
       "    </tr>\n",
       "    <tr>\n",
       "      <th id=\"T_aa833_level0_row4\" class=\"row_heading level0 row4\" >4</th>\n",
       "      <td id=\"T_aa833_row4_col0\" class=\"data row4 col0\" >46.000000</td>\n",
       "      <td id=\"T_aa833_row4_col1\" class=\"data row4 col1\" >83.000000</td>\n",
       "      <td id=\"T_aa833_row4_col2\" class=\"data row4 col2\" >51.000000</td>\n",
       "      <td id=\"T_aa833_row4_col3\" class=\"data row4 col3\" >85</td>\n",
       "      <td id=\"T_aa833_row4_col4\" class=\"data row4 col4\" >97</td>\n",
       "    </tr>\n",
       "  </tbody>\n",
       "</table>\n"
      ],
      "text/plain": [
       "<pandas.io.formats.style.Styler at 0x7f6773a501f0>"
      ]
     },
     "execution_count": 4,
     "metadata": {},
     "output_type": "execute_result"
    }
   ],
   "source": [
    "df.style.applymap(lambda x: 'color: red' if pd.isna(x) else '')"
   ]
  },
  {
   "cell_type": "markdown",
   "id": "8f65a99d",
   "metadata": {},
   "source": [
    "## Step 3: Highlight NaN values by changing background"
   ]
  },
  {
   "cell_type": "code",
   "execution_count": 5,
   "id": "9f6abd56",
   "metadata": {},
   "outputs": [
    {
     "data": {
      "text/html": [
       "<style type=\"text/css\">\n",
       "#T_2203d_row1_col1, #T_2203d_row2_col0, #T_2203d_row2_col1, #T_2203d_row2_col2 {\n",
       "  background-color: yellow;\n",
       "}\n",
       "</style>\n",
       "<table id=\"T_2203d_\">\n",
       "  <thead>\n",
       "    <tr>\n",
       "      <th class=\"blank level0\" >&nbsp;</th>\n",
       "      <th class=\"col_heading level0 col0\" >0</th>\n",
       "      <th class=\"col_heading level0 col1\" >1</th>\n",
       "      <th class=\"col_heading level0 col2\" >2</th>\n",
       "      <th class=\"col_heading level0 col3\" >3</th>\n",
       "      <th class=\"col_heading level0 col4\" >4</th>\n",
       "    </tr>\n",
       "  </thead>\n",
       "  <tbody>\n",
       "    <tr>\n",
       "      <th id=\"T_2203d_level0_row0\" class=\"row_heading level0 row0\" >0</th>\n",
       "      <td id=\"T_2203d_row0_col0\" class=\"data row0 col0\" >51.000000</td>\n",
       "      <td id=\"T_2203d_row0_col1\" class=\"data row0 col1\" >25.000000</td>\n",
       "      <td id=\"T_2203d_row0_col2\" class=\"data row0 col2\" >0.000000</td>\n",
       "      <td id=\"T_2203d_row0_col3\" class=\"data row0 col3\" >28</td>\n",
       "      <td id=\"T_2203d_row0_col4\" class=\"data row0 col4\" >21</td>\n",
       "    </tr>\n",
       "    <tr>\n",
       "      <th id=\"T_2203d_level0_row1\" class=\"row_heading level0 row1\" >1</th>\n",
       "      <td id=\"T_2203d_row1_col0\" class=\"data row1 col0\" >83.000000</td>\n",
       "      <td id=\"T_2203d_row1_col1\" class=\"data row1 col1\" >nan</td>\n",
       "      <td id=\"T_2203d_row1_col2\" class=\"data row1 col2\" >1.000000</td>\n",
       "      <td id=\"T_2203d_row1_col3\" class=\"data row1 col3\" >5</td>\n",
       "      <td id=\"T_2203d_row1_col4\" class=\"data row1 col4\" >62</td>\n",
       "    </tr>\n",
       "    <tr>\n",
       "      <th id=\"T_2203d_level0_row2\" class=\"row_heading level0 row2\" >2</th>\n",
       "      <td id=\"T_2203d_row2_col0\" class=\"data row2 col0\" >nan</td>\n",
       "      <td id=\"T_2203d_row2_col1\" class=\"data row2 col1\" >nan</td>\n",
       "      <td id=\"T_2203d_row2_col2\" class=\"data row2 col2\" >nan</td>\n",
       "      <td id=\"T_2203d_row2_col3\" class=\"data row2 col3\" >10</td>\n",
       "      <td id=\"T_2203d_row2_col4\" class=\"data row2 col4\" >24</td>\n",
       "    </tr>\n",
       "    <tr>\n",
       "      <th id=\"T_2203d_level0_row3\" class=\"row_heading level0 row3\" >3</th>\n",
       "      <td id=\"T_2203d_row3_col0\" class=\"data row3 col0\" >12.000000</td>\n",
       "      <td id=\"T_2203d_row3_col1\" class=\"data row3 col1\" >54.000000</td>\n",
       "      <td id=\"T_2203d_row3_col2\" class=\"data row3 col2\" >24.000000</td>\n",
       "      <td id=\"T_2203d_row3_col3\" class=\"data row3 col3\" >5</td>\n",
       "      <td id=\"T_2203d_row3_col4\" class=\"data row3 col4\" >90</td>\n",
       "    </tr>\n",
       "    <tr>\n",
       "      <th id=\"T_2203d_level0_row4\" class=\"row_heading level0 row4\" >4</th>\n",
       "      <td id=\"T_2203d_row4_col0\" class=\"data row4 col0\" >46.000000</td>\n",
       "      <td id=\"T_2203d_row4_col1\" class=\"data row4 col1\" >83.000000</td>\n",
       "      <td id=\"T_2203d_row4_col2\" class=\"data row4 col2\" >51.000000</td>\n",
       "      <td id=\"T_2203d_row4_col3\" class=\"data row4 col3\" >85</td>\n",
       "      <td id=\"T_2203d_row4_col4\" class=\"data row4 col4\" >97</td>\n",
       "    </tr>\n",
       "  </tbody>\n",
       "</table>\n"
      ],
      "text/plain": [
       "<pandas.io.formats.style.Styler at 0x7f677078c8b0>"
      ]
     },
     "execution_count": 5,
     "metadata": {},
     "output_type": "execute_result"
    }
   ],
   "source": [
    "df.style.applymap(lambda x: '' if x==x else 'background-color: yellow')"
   ]
  },
  {
   "cell_type": "markdown",
   "id": "205b967d",
   "metadata": {},
   "source": [
    "## Step 4: Highlight NaN values in specific columns"
   ]
  },
  {
   "cell_type": "code",
   "execution_count": 6,
   "id": "5117f103",
   "metadata": {},
   "outputs": [
    {
     "data": {
      "text/html": [
       "<style type=\"text/css\">\n",
       "#T_74994_row2_col2 {\n",
       "  background-color: yellow;\n",
       "}\n",
       "</style>\n",
       "<table id=\"T_74994_\">\n",
       "  <thead>\n",
       "    <tr>\n",
       "      <th class=\"blank level0\" >&nbsp;</th>\n",
       "      <th class=\"col_heading level0 col0\" >0</th>\n",
       "      <th class=\"col_heading level0 col1\" >1</th>\n",
       "      <th class=\"col_heading level0 col2\" >2</th>\n",
       "      <th class=\"col_heading level0 col3\" >3</th>\n",
       "      <th class=\"col_heading level0 col4\" >4</th>\n",
       "    </tr>\n",
       "  </thead>\n",
       "  <tbody>\n",
       "    <tr>\n",
       "      <th id=\"T_74994_level0_row0\" class=\"row_heading level0 row0\" >0</th>\n",
       "      <td id=\"T_74994_row0_col0\" class=\"data row0 col0\" >51.000000</td>\n",
       "      <td id=\"T_74994_row0_col1\" class=\"data row0 col1\" >25.000000</td>\n",
       "      <td id=\"T_74994_row0_col2\" class=\"data row0 col2\" >0.000000</td>\n",
       "      <td id=\"T_74994_row0_col3\" class=\"data row0 col3\" >28</td>\n",
       "      <td id=\"T_74994_row0_col4\" class=\"data row0 col4\" >21</td>\n",
       "    </tr>\n",
       "    <tr>\n",
       "      <th id=\"T_74994_level0_row1\" class=\"row_heading level0 row1\" >1</th>\n",
       "      <td id=\"T_74994_row1_col0\" class=\"data row1 col0\" >83.000000</td>\n",
       "      <td id=\"T_74994_row1_col1\" class=\"data row1 col1\" >nan</td>\n",
       "      <td id=\"T_74994_row1_col2\" class=\"data row1 col2\" >1.000000</td>\n",
       "      <td id=\"T_74994_row1_col3\" class=\"data row1 col3\" >5</td>\n",
       "      <td id=\"T_74994_row1_col4\" class=\"data row1 col4\" >62</td>\n",
       "    </tr>\n",
       "    <tr>\n",
       "      <th id=\"T_74994_level0_row2\" class=\"row_heading level0 row2\" >2</th>\n",
       "      <td id=\"T_74994_row2_col0\" class=\"data row2 col0\" >nan</td>\n",
       "      <td id=\"T_74994_row2_col1\" class=\"data row2 col1\" >nan</td>\n",
       "      <td id=\"T_74994_row2_col2\" class=\"data row2 col2\" >nan</td>\n",
       "      <td id=\"T_74994_row2_col3\" class=\"data row2 col3\" >10</td>\n",
       "      <td id=\"T_74994_row2_col4\" class=\"data row2 col4\" >24</td>\n",
       "    </tr>\n",
       "    <tr>\n",
       "      <th id=\"T_74994_level0_row3\" class=\"row_heading level0 row3\" >3</th>\n",
       "      <td id=\"T_74994_row3_col0\" class=\"data row3 col0\" >12.000000</td>\n",
       "      <td id=\"T_74994_row3_col1\" class=\"data row3 col1\" >54.000000</td>\n",
       "      <td id=\"T_74994_row3_col2\" class=\"data row3 col2\" >24.000000</td>\n",
       "      <td id=\"T_74994_row3_col3\" class=\"data row3 col3\" >5</td>\n",
       "      <td id=\"T_74994_row3_col4\" class=\"data row3 col4\" >90</td>\n",
       "    </tr>\n",
       "    <tr>\n",
       "      <th id=\"T_74994_level0_row4\" class=\"row_heading level0 row4\" >4</th>\n",
       "      <td id=\"T_74994_row4_col0\" class=\"data row4 col0\" >46.000000</td>\n",
       "      <td id=\"T_74994_row4_col1\" class=\"data row4 col1\" >83.000000</td>\n",
       "      <td id=\"T_74994_row4_col2\" class=\"data row4 col2\" >51.000000</td>\n",
       "      <td id=\"T_74994_row4_col3\" class=\"data row4 col3\" >85</td>\n",
       "      <td id=\"T_74994_row4_col4\" class=\"data row4 col4\" >97</td>\n",
       "    </tr>\n",
       "  </tbody>\n",
       "</table>\n"
      ],
      "text/plain": [
       "<pandas.io.formats.style.Styler at 0x7f67707aa9a0>"
      ]
     },
     "execution_count": 6,
     "metadata": {},
     "output_type": "execute_result"
    }
   ],
   "source": [
    "df.style.applymap(lambda x: '' if x==x else 'background-color: yellow', subset=[2,3])"
   ]
  },
  {
   "cell_type": "markdown",
   "id": "bc9cf2c0",
   "metadata": {},
   "source": [
    "## Step 5: Highlight NaN values in specific columns and rows"
   ]
  },
  {
   "cell_type": "code",
   "execution_count": 7,
   "id": "42e44a11",
   "metadata": {},
   "outputs": [
    {
     "data": {
      "text/html": [
       "<style type=\"text/css\">\n",
       "#T_d0559_row1_col1, #T_d0559_row2_col0, #T_d0559_row2_col1, #T_d0559_row2_col2 {\n",
       "  background-color: yellow;\n",
       "}\n",
       "</style>\n",
       "<table id=\"T_d0559_\">\n",
       "  <thead>\n",
       "    <tr>\n",
       "      <th class=\"blank level0\" >&nbsp;</th>\n",
       "      <th class=\"col_heading level0 col0\" >0</th>\n",
       "      <th class=\"col_heading level0 col1\" >1</th>\n",
       "      <th class=\"col_heading level0 col2\" >2</th>\n",
       "      <th class=\"col_heading level0 col3\" >3</th>\n",
       "      <th class=\"col_heading level0 col4\" >4</th>\n",
       "    </tr>\n",
       "  </thead>\n",
       "  <tbody>\n",
       "    <tr>\n",
       "      <th id=\"T_d0559_level0_row0\" class=\"row_heading level0 row0\" >0</th>\n",
       "      <td id=\"T_d0559_row0_col0\" class=\"data row0 col0\" >51.000000</td>\n",
       "      <td id=\"T_d0559_row0_col1\" class=\"data row0 col1\" >25.000000</td>\n",
       "      <td id=\"T_d0559_row0_col2\" class=\"data row0 col2\" >0.000000</td>\n",
       "      <td id=\"T_d0559_row0_col3\" class=\"data row0 col3\" >28</td>\n",
       "      <td id=\"T_d0559_row0_col4\" class=\"data row0 col4\" >21</td>\n",
       "    </tr>\n",
       "    <tr>\n",
       "      <th id=\"T_d0559_level0_row1\" class=\"row_heading level0 row1\" >1</th>\n",
       "      <td id=\"T_d0559_row1_col0\" class=\"data row1 col0\" >83.000000</td>\n",
       "      <td id=\"T_d0559_row1_col1\" class=\"data row1 col1\" >nan</td>\n",
       "      <td id=\"T_d0559_row1_col2\" class=\"data row1 col2\" >1.000000</td>\n",
       "      <td id=\"T_d0559_row1_col3\" class=\"data row1 col3\" >5</td>\n",
       "      <td id=\"T_d0559_row1_col4\" class=\"data row1 col4\" >62</td>\n",
       "    </tr>\n",
       "    <tr>\n",
       "      <th id=\"T_d0559_level0_row2\" class=\"row_heading level0 row2\" >2</th>\n",
       "      <td id=\"T_d0559_row2_col0\" class=\"data row2 col0\" >nan</td>\n",
       "      <td id=\"T_d0559_row2_col1\" class=\"data row2 col1\" >nan</td>\n",
       "      <td id=\"T_d0559_row2_col2\" class=\"data row2 col2\" >nan</td>\n",
       "      <td id=\"T_d0559_row2_col3\" class=\"data row2 col3\" >10</td>\n",
       "      <td id=\"T_d0559_row2_col4\" class=\"data row2 col4\" >24</td>\n",
       "    </tr>\n",
       "    <tr>\n",
       "      <th id=\"T_d0559_level0_row3\" class=\"row_heading level0 row3\" >3</th>\n",
       "      <td id=\"T_d0559_row3_col0\" class=\"data row3 col0\" >12.000000</td>\n",
       "      <td id=\"T_d0559_row3_col1\" class=\"data row3 col1\" >54.000000</td>\n",
       "      <td id=\"T_d0559_row3_col2\" class=\"data row3 col2\" >24.000000</td>\n",
       "      <td id=\"T_d0559_row3_col3\" class=\"data row3 col3\" >5</td>\n",
       "      <td id=\"T_d0559_row3_col4\" class=\"data row3 col4\" >90</td>\n",
       "    </tr>\n",
       "    <tr>\n",
       "      <th id=\"T_d0559_level0_row4\" class=\"row_heading level0 row4\" >4</th>\n",
       "      <td id=\"T_d0559_row4_col0\" class=\"data row4 col0\" >46.000000</td>\n",
       "      <td id=\"T_d0559_row4_col1\" class=\"data row4 col1\" >83.000000</td>\n",
       "      <td id=\"T_d0559_row4_col2\" class=\"data row4 col2\" >51.000000</td>\n",
       "      <td id=\"T_d0559_row4_col3\" class=\"data row4 col3\" >85</td>\n",
       "      <td id=\"T_d0559_row4_col4\" class=\"data row4 col4\" >97</td>\n",
       "    </tr>\n",
       "  </tbody>\n",
       "</table>\n"
      ],
      "text/plain": [
       "<pandas.io.formats.style.Styler at 0x7f67707a1640>"
      ]
     },
     "execution_count": 7,
     "metadata": {},
     "output_type": "execute_result"
    }
   ],
   "source": [
    "df.style.applymap(lambda x: '' if x==x else 'background-color: yellow', subset=([0,1,2], slice(None)))"
   ]
  },
  {
   "cell_type": "code",
   "execution_count": null,
   "id": "1c3d12a1",
   "metadata": {},
   "outputs": [],
   "source": []
  }
 ],
 "metadata": {
  "kernelspec": {
   "display_name": "Python 3",
   "language": "python",
   "name": "python3"
  },
  "language_info": {
   "codemirror_mode": {
    "name": "ipython",
    "version": 3
   },
   "file_extension": ".py",
   "mimetype": "text/x-python",
   "name": "python",
   "nbconvert_exporter": "python",
   "pygments_lexer": "ipython3",
   "version": "3.8.0"
  },
  "toc": {
   "base_numbering": 1,
   "nav_menu": {},
   "number_sections": true,
   "sideBar": true,
   "skip_h1_title": false,
   "title_cell": "Table of Contents",
   "title_sidebar": "Contents",
   "toc_cell": false,
   "toc_position": {},
   "toc_section_display": true,
   "toc_window_display": false
  }
 },
 "nbformat": 4,
 "nbformat_minor": 5
}
