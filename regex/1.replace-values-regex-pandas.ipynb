{
 "cells": [
  {
   "cell_type": "markdown",
   "id": "7fae7a79",
   "metadata": {},
   "source": [
    "# How to Replace Values With Regex in Pandas"
   ]
  },
  {
   "cell_type": "code",
   "execution_count": 1,
   "id": "0faa0ffc",
   "metadata": {},
   "outputs": [
    {
     "data": {
      "text/html": [
       "<div>\n",
       "<style scoped>\n",
       "    .dataframe tbody tr th:only-of-type {\n",
       "        vertical-align: middle;\n",
       "    }\n",
       "\n",
       "    .dataframe tbody tr th {\n",
       "        vertical-align: top;\n",
       "    }\n",
       "\n",
       "    .dataframe thead th {\n",
       "        text-align: right;\n",
       "    }\n",
       "</style>\n",
       "<table border=\"1\" class=\"dataframe\">\n",
       "  <thead>\n",
       "    <tr style=\"text-align: right;\">\n",
       "      <th></th>\n",
       "      <th>internship</th>\n",
       "      <th>company_name</th>\n",
       "      <th>skills</th>\n",
       "      <th>perks</th>\n",
       "      <th>location</th>\n",
       "      <th>duration</th>\n",
       "      <th>stipend</th>\n",
       "      <th>applicants</th>\n",
       "      <th>ifSkillsorPerksMissingUseThis</th>\n",
       "    </tr>\n",
       "  </thead>\n",
       "  <tbody>\n",
       "    <tr>\n",
       "      <th>0</th>\n",
       "      <td>Software Testing</td>\n",
       "      <td>Times Internet</td>\n",
       "      <td>Software Testing</td>\n",
       "      <td>Certificate, 5 days a week</td>\n",
       "      <td>Noida</td>\n",
       "      <td>6 Months</td>\n",
       "      <td>8000 /month</td>\n",
       "      <td>119 applicants</td>\n",
       "      <td>Software Testing, Certificate\\n5 days a week</td>\n",
       "    </tr>\n",
       "    <tr>\n",
       "      <th>1</th>\n",
       "      <td>Technical Operations - Networking And Monitoring</td>\n",
       "      <td>Paytm Payments Bank</td>\n",
       "      <td>Java, SQL, Unix, Oracle, MS SQL Server, Hibern...</td>\n",
       "      <td>Certificate, Letter of recommendation, 5 days ...</td>\n",
       "      <td>Noida</td>\n",
       "      <td>6 Months</td>\n",
       "      <td>10000 /month</td>\n",
       "      <td>194 applicants</td>\n",
       "      <td>Java\\nSQL\\nUnix\\nOracle\\nMS SQL Server\\nHibern...</td>\n",
       "    </tr>\n",
       "    <tr>\n",
       "      <th>2</th>\n",
       "      <td>Software Project Management</td>\n",
       "      <td>IIT Bombay</td>\n",
       "      <td>English Proficiency (Spoken), English Proficie...</td>\n",
       "      <td>Certificate, Letter of recommendation, Flexibl...</td>\n",
       "      <td>Work From Home</td>\n",
       "      <td>6 Months</td>\n",
       "      <td>1000-2000 /month</td>\n",
       "      <td>113 applicants</td>\n",
       "      <td>English Proficiency (Spoken)\\nEnglish Proficie...</td>\n",
       "    </tr>\n",
       "    <tr>\n",
       "      <th>3</th>\n",
       "      <td>Web Development</td>\n",
       "      <td>IIT Bombay</td>\n",
       "      <td>HTML, CSS, Flask, Python, Django</td>\n",
       "      <td>Certificate, Letter of recommendation, Flexibl...</td>\n",
       "      <td>Work From Home</td>\n",
       "      <td>6 Months</td>\n",
       "      <td>1000-2000 /month</td>\n",
       "      <td>183 applicants</td>\n",
       "      <td>HTML\\nCSS\\nFlask\\nPython\\nDjango, Certificate\\...</td>\n",
       "    </tr>\n",
       "    <tr>\n",
       "      <th>4</th>\n",
       "      <td>Front End Development</td>\n",
       "      <td>IIT Bombay</td>\n",
       "      <td>HTML, CSS, JavaScript, ReactJS, Redux</td>\n",
       "      <td>Certificate, Letter of recommendation, Flexibl...</td>\n",
       "      <td>Work From Home</td>\n",
       "      <td>6 Months</td>\n",
       "      <td>1000-2000 /month</td>\n",
       "      <td>205 applicants</td>\n",
       "      <td>HTML\\nCSS\\nJavaScript\\nReactJS\\nRedux, Certifi...</td>\n",
       "    </tr>\n",
       "  </tbody>\n",
       "</table>\n",
       "</div>"
      ],
      "text/plain": [
       "                                         internship         company_name  \\\n",
       "0                                  Software Testing       Times Internet   \n",
       "1  Technical Operations - Networking And Monitoring  Paytm Payments Bank   \n",
       "2                       Software Project Management           IIT Bombay   \n",
       "3                                   Web Development           IIT Bombay   \n",
       "4                             Front End Development           IIT Bombay   \n",
       "\n",
       "                                              skills  \\\n",
       "0                                   Software Testing   \n",
       "1  Java, SQL, Unix, Oracle, MS SQL Server, Hibern...   \n",
       "2  English Proficiency (Spoken), English Proficie...   \n",
       "3                   HTML, CSS, Flask, Python, Django   \n",
       "4              HTML, CSS, JavaScript, ReactJS, Redux   \n",
       "\n",
       "                                               perks        location  \\\n",
       "0                         Certificate, 5 days a week           Noida   \n",
       "1  Certificate, Letter of recommendation, 5 days ...           Noida   \n",
       "2  Certificate, Letter of recommendation, Flexibl...  Work From Home   \n",
       "3  Certificate, Letter of recommendation, Flexibl...  Work From Home   \n",
       "4  Certificate, Letter of recommendation, Flexibl...  Work From Home   \n",
       "\n",
       "   duration           stipend      applicants  \\\n",
       "0  6 Months       8000 /month  119 applicants   \n",
       "1  6 Months      10000 /month  194 applicants   \n",
       "2  6 Months  1000-2000 /month  113 applicants   \n",
       "3  6 Months  1000-2000 /month  183 applicants   \n",
       "4  6 Months  1000-2000 /month  205 applicants   \n",
       "\n",
       "                       ifSkillsorPerksMissingUseThis  \n",
       "0       Software Testing, Certificate\\n5 days a week  \n",
       "1  Java\\nSQL\\nUnix\\nOracle\\nMS SQL Server\\nHibern...  \n",
       "2  English Proficiency (Spoken)\\nEnglish Proficie...  \n",
       "3  HTML\\nCSS\\nFlask\\nPython\\nDjango, Certificate\\...  \n",
       "4  HTML\\nCSS\\nJavaScript\\nReactJS\\nRedux, Certifi...  "
      ]
     },
     "execution_count": 1,
     "metadata": {},
     "output_type": "execute_result"
    }
   ],
   "source": [
    "import pandas as pd\n",
    "\n",
    "df = pd.read_csv(f'../data/internshala_dataset_raw.csv')\n",
    "df.head()"
   ]
  },
  {
   "cell_type": "markdown",
   "id": "9d4cf02d",
   "metadata": {},
   "source": [
    "## Step 2: Replace String Values with Regex in Column"
   ]
  },
  {
   "cell_type": "markdown",
   "id": "83104280",
   "metadata": {},
   "source": [
    "### Replace single string value"
   ]
  },
  {
   "cell_type": "code",
   "execution_count": 2,
   "id": "168deda8",
   "metadata": {},
   "outputs": [
    {
     "data": {
      "text/plain": [
       "0                         119\n",
       "1                         194\n",
       "2                         113\n",
       "3                         183\n",
       "4                         205\n",
       "                ...          \n",
       "2562                       30\n",
       "2563    Be an early applicant\n",
       "2564    Be an early applicant\n",
       "2565    Be an early applicant\n",
       "2566    Be an early applicant\n",
       "Name: applicants, Length: 2567, dtype: object"
      ]
     },
     "execution_count": 2,
     "metadata": {},
     "output_type": "execute_result"
    }
   ],
   "source": [
    "df['applicants'].str.replace(r'\\sapplicants', '', regex=True)"
   ]
  },
  {
   "cell_type": "markdown",
   "id": "db8e3e8e",
   "metadata": {},
   "source": [
    "### Replace multiple string value"
   ]
  },
  {
   "cell_type": "code",
   "execution_count": 3,
   "id": "3f735e1f",
   "metadata": {},
   "outputs": [
    {
     "data": {
      "text/plain": [
       "0       119\n",
       "1       194\n",
       "2       113\n",
       "3       183\n",
       "4       205\n",
       "       ... \n",
       "2562     30\n",
       "2563       \n",
       "2564       \n",
       "2565       \n",
       "2566       \n",
       "Name: applicants, Length: 2567, dtype: object"
      ]
     },
     "execution_count": 3,
     "metadata": {},
     "output_type": "execute_result"
    }
   ],
   "source": [
    "df['applicants'].str.replace(r'(\\sapplicants|Be an early applicant)', '', regex=True)"
   ]
  },
  {
   "cell_type": "markdown",
   "id": "ec56eead",
   "metadata": {},
   "source": [
    "### Replace multiple string values with different replacement"
   ]
  },
  {
   "cell_type": "code",
   "execution_count": 4,
   "id": "43c55a0b",
   "metadata": {},
   "outputs": [
    {
     "data": {
      "text/plain": [
       "0       119\n",
       "1       194\n",
       "2       113\n",
       "3       183\n",
       "4       205\n",
       "       ... \n",
       "2562     30\n",
       "2563      0\n",
       "2564      0\n",
       "2565      0\n",
       "2566      0\n",
       "Name: applicants, Length: 2567, dtype: object"
      ]
     },
     "execution_count": 4,
     "metadata": {},
     "output_type": "execute_result"
    }
   ],
   "source": [
    "df['applicants'].replace([r'(\\d+) applicants', 'Be an early applicant'],[r'\\1',0], regex=True)"
   ]
  },
  {
   "cell_type": "markdown",
   "id": "a8160dda",
   "metadata": {},
   "source": [
    "## Step 3: Regex replace with capture group"
   ]
  },
  {
   "cell_type": "code",
   "execution_count": 5,
   "id": "3df6719d",
   "metadata": {},
   "outputs": [
    {
     "data": {
      "text/plain": [
       "0                         119\n",
       "1                         194\n",
       "2                         113\n",
       "3                         183\n",
       "4                         205\n",
       "                ...          \n",
       "2562                       30\n",
       "2563    Be an early applicant\n",
       "2564    Be an early applicant\n",
       "2565    Be an early applicant\n",
       "2566    Be an early applicant\n",
       "Name: applicants, Length: 2567, dtype: object"
      ]
     },
     "execution_count": 5,
     "metadata": {},
     "output_type": "execute_result"
    }
   ],
   "source": [
    "df['applicants'].replace(to_replace=r\"([0-9,\\.]+)(.*)\", value=r\"\\1\", regex=True)"
   ]
  },
  {
   "cell_type": "markdown",
   "id": "76211517",
   "metadata": {},
   "source": [
    "## Step 4: Regex replace only special characters"
   ]
  },
  {
   "cell_type": "code",
   "execution_count": 6,
   "id": "9241600e",
   "metadata": {},
   "outputs": [
    {
     "data": {
      "text/plain": [
       "0                                      Software Testing\n",
       "1       Technical Operations  Networking And Monitoring\n",
       "2                           Software Project Management\n",
       "3                                       Web Development\n",
       "4                                 Front End Development\n",
       "                             ...                       \n",
       "2562                             Internet Of Things IoT\n",
       "2563                                    Summer Research\n",
       "2564                 Academic Research Computer Science\n",
       "2565                                   Computer Science\n",
       "2566                                   Computer Science\n",
       "Name: internship, Length: 2567, dtype: object"
      ]
     },
     "execution_count": 6,
     "metadata": {},
     "output_type": "execute_result"
    }
   ],
   "source": [
    "df['internship'].str.replace(r'[^0-9a-zA-Z:,\\s]+', '', regex=True)"
   ]
  },
  {
   "cell_type": "markdown",
   "id": "c88fb2cc",
   "metadata": {},
   "source": [
    "## Step 5: Regex replace numbers or non-digit characters"
   ]
  },
  {
   "cell_type": "markdown",
   "id": "b7e64dec",
   "metadata": {},
   "source": [
    "### Replace all non numeric symbols and map in case of missing"
   ]
  },
  {
   "cell_type": "code",
   "execution_count": 7,
   "id": "6295f65f",
   "metadata": {},
   "outputs": [
    {
     "data": {
      "text/plain": [
       "0       119\n",
       "1       194\n",
       "2       113\n",
       "3       183\n",
       "4       205\n",
       "       ... \n",
       "2562     30\n",
       "2563      0\n",
       "2564      0\n",
       "2565      0\n",
       "2566      0\n",
       "Name: applicants, Length: 2567, dtype: int64"
      ]
     },
     "execution_count": 7,
     "metadata": {},
     "output_type": "execute_result"
    }
   ],
   "source": [
    "df['applicants'].str.replace(r'\\D+', '', regex=True).replace({'':0}).astype('int')"
   ]
  },
  {
   "cell_type": "code",
   "execution_count": 8,
   "id": "7426a15b",
   "metadata": {},
   "outputs": [
    {
     "data": {
      "text/plain": [
       "<AxesSubplot:>"
      ]
     },
     "execution_count": 8,
     "metadata": {},
     "output_type": "execute_result"
    },
    {
     "data": {
      "image/png": "[encoded data removed]",
      "text/plain": [
       "<Figure size 432x288 with 1 Axes>"
      ]
     },
     "metadata": {
      "needs_background": "light"
     },
     "output_type": "display_data"
    }
   ],
   "source": [
    "df['applicants'].str.replace(r'\\D+', '', regex=True).replace({'':0}).astype('int').plot()"
   ]
  },
  {
   "cell_type": "markdown",
   "id": "fc819b16",
   "metadata": {},
   "source": [
    "### Replace all numbers from Pandas column"
   ]
  },
  {
   "cell_type": "code",
   "execution_count": 9,
   "id": "be742f24",
   "metadata": {},
   "outputs": [
    {
     "data": {
      "text/plain": [
       "0                  applicants\n",
       "1                  applicants\n",
       "2                  applicants\n",
       "3                  applicants\n",
       "4                  applicants\n",
       "                ...          \n",
       "2562               applicants\n",
       "2563    Be an early applicant\n",
       "2564    Be an early applicant\n",
       "2565    Be an early applicant\n",
       "2566    Be an early applicant\n",
       "Name: applicants, Length: 2567, dtype: object"
      ]
     },
     "execution_count": 9,
     "metadata": {},
     "output_type": "execute_result"
    }
   ],
   "source": [
    "df['applicants'].replace(to_replace=r\"\\d+\", value=r\" \", regex=True)"
   ]
  },
  {
   "cell_type": "markdown",
   "id": "63d1e9d2",
   "metadata": {},
   "source": [
    "## Step 6: Regex replace all values in DataFrame"
   ]
  },
  {
   "cell_type": "code",
   "execution_count": 10,
   "id": "f096a949",
   "metadata": {},
   "outputs": [
    {
     "data": {
      "text/html": [
       "<div>\n",
       "<style scoped>\n",
       "    .dataframe tbody tr th:only-of-type {\n",
       "        vertical-align: middle;\n",
       "    }\n",
       "\n",
       "    .dataframe tbody tr th {\n",
       "        vertical-align: top;\n",
       "    }\n",
       "\n",
       "    .dataframe thead th {\n",
       "        text-align: right;\n",
       "    }\n",
       "</style>\n",
       "<table border=\"1\" class=\"dataframe\">\n",
       "  <thead>\n",
       "    <tr style=\"text-align: right;\">\n",
       "      <th></th>\n",
       "      <th>stipend</th>\n",
       "      <th>applicants</th>\n",
       "      <th>internship</th>\n",
       "      <th>duration</th>\n",
       "    </tr>\n",
       "  </thead>\n",
       "  <tbody>\n",
       "    <tr>\n",
       "      <th>0</th>\n",
       "      <td>/month</td>\n",
       "      <td>applicants</td>\n",
       "      <td>Software Testing</td>\n",
       "      <td>Months</td>\n",
       "    </tr>\n",
       "    <tr>\n",
       "      <th>1</th>\n",
       "      <td>/month</td>\n",
       "      <td>applicants</td>\n",
       "      <td>Technical Operations - Networking And Monitoring</td>\n",
       "      <td>Months</td>\n",
       "    </tr>\n",
       "    <tr>\n",
       "      <th>2</th>\n",
       "      <td>-  /month</td>\n",
       "      <td>applicants</td>\n",
       "      <td>Software Project Management</td>\n",
       "      <td>Months</td>\n",
       "    </tr>\n",
       "    <tr>\n",
       "      <th>3</th>\n",
       "      <td>-  /month</td>\n",
       "      <td>applicants</td>\n",
       "      <td>Web Development</td>\n",
       "      <td>Months</td>\n",
       "    </tr>\n",
       "    <tr>\n",
       "      <th>4</th>\n",
       "      <td>-  /month</td>\n",
       "      <td>applicants</td>\n",
       "      <td>Front End Development</td>\n",
       "      <td>Months</td>\n",
       "    </tr>\n",
       "    <tr>\n",
       "      <th>...</th>\n",
       "      <td>...</td>\n",
       "      <td>...</td>\n",
       "      <td>...</td>\n",
       "      <td>...</td>\n",
       "    </tr>\n",
       "    <tr>\n",
       "      <th>2562</th>\n",
       "      <td>-  /month</td>\n",
       "      <td>applicants</td>\n",
       "      <td>Internet Of Things (IoT)</td>\n",
       "      <td>Months</td>\n",
       "    </tr>\n",
       "    <tr>\n",
       "      <th>2563</th>\n",
       "      <td>/month</td>\n",
       "      <td>Be an early applicant</td>\n",
       "      <td>Summer Research</td>\n",
       "      <td>Months</td>\n",
       "    </tr>\n",
       "    <tr>\n",
       "      <th>2564</th>\n",
       "      <td>Not provided</td>\n",
       "      <td>Be an early applicant</td>\n",
       "      <td>Academic Research (Computer Science)</td>\n",
       "      <td>Months</td>\n",
       "    </tr>\n",
       "    <tr>\n",
       "      <th>2565</th>\n",
       "      <td>/month</td>\n",
       "      <td>Be an early applicant</td>\n",
       "      <td>Computer Science</td>\n",
       "      <td>Months</td>\n",
       "    </tr>\n",
       "    <tr>\n",
       "      <th>2566</th>\n",
       "      <td>/month</td>\n",
       "      <td>Be an early applicant</td>\n",
       "      <td>Computer Science</td>\n",
       "      <td>Months</td>\n",
       "    </tr>\n",
       "  </tbody>\n",
       "</table>\n",
       "<p>2567 rows × 4 columns</p>\n",
       "</div>"
      ],
      "text/plain": [
       "           stipend             applicants  \\\n",
       "0           /month             applicants   \n",
       "1           /month             applicants   \n",
       "2        -  /month             applicants   \n",
       "3        -  /month             applicants   \n",
       "4        -  /month             applicants   \n",
       "...            ...                    ...   \n",
       "2562     -  /month             applicants   \n",
       "2563        /month  Be an early applicant   \n",
       "2564  Not provided  Be an early applicant   \n",
       "2565        /month  Be an early applicant   \n",
       "2566        /month  Be an early applicant   \n",
       "\n",
       "                                            internship  duration  \n",
       "0                                     Software Testing    Months  \n",
       "1     Technical Operations - Networking And Monitoring    Months  \n",
       "2                          Software Project Management    Months  \n",
       "3                                      Web Development    Months  \n",
       "4                                Front End Development    Months  \n",
       "...                                                ...       ...  \n",
       "2562                          Internet Of Things (IoT)    Months  \n",
       "2563                                   Summer Research    Months  \n",
       "2564              Academic Research (Computer Science)    Months  \n",
       "2565                                  Computer Science    Months  \n",
       "2566                                  Computer Science    Months  \n",
       "\n",
       "[2567 rows x 4 columns]"
      ]
     },
     "execution_count": 10,
     "metadata": {},
     "output_type": "execute_result"
    }
   ],
   "source": [
    "cols = ['stipend', 'applicants', 'internship', 'duration']\n",
    "df[cols].replace(to_replace=r\"\\d+\", value=r\" \", regex=True)"
   ]
  },
  {
   "cell_type": "code",
   "execution_count": null,
   "id": "bd85856a",
   "metadata": {},
   "outputs": [],
   "source": []
  }
 ],
 "metadata": {
  "kernelspec": {
   "display_name": "Python 3",
   "language": "python",
   "name": "python3"
  },
  "language_info": {
   "codemirror_mode": {
    "name": "ipython",
    "version": 3
   },
   "file_extension": ".py",
   "mimetype": "text/x-python",
   "name": "python",
   "nbconvert_exporter": "python",
   "pygments_lexer": "ipython3",
   "version": "3.8.0"
  }
 },
 "nbformat": 4,
 "nbformat_minor": 5
}
