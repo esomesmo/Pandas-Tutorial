{
 "cells": [
  {
   "cell_type": "markdown",
   "id": "7fae7a79",
   "metadata": {},
   "source": [
    "# How to Replace Regex Groups in Pandas"
   ]
  },
  {
   "cell_type": "code",
   "execution_count": 1,
   "id": "0faa0ffc",
   "metadata": {},
   "outputs": [
    {
     "data": {
      "text/html": [
       "<div>\n",
       "<style scoped>\n",
       "    .dataframe tbody tr th:only-of-type {\n",
       "        vertical-align: middle;\n",
       "    }\n",
       "\n",
       "    .dataframe tbody tr th {\n",
       "        vertical-align: top;\n",
       "    }\n",
       "\n",
       "    .dataframe thead th {\n",
       "        text-align: right;\n",
       "    }\n",
       "</style>\n",
       "<table border=\"1\" class=\"dataframe\">\n",
       "  <thead>\n",
       "    <tr style=\"text-align: right;\">\n",
       "      <th></th>\n",
       "      <th>internship</th>\n",
       "      <th>company_name</th>\n",
       "      <th>skills</th>\n",
       "      <th>perks</th>\n",
       "      <th>location</th>\n",
       "      <th>duration</th>\n",
       "      <th>stipend</th>\n",
       "      <th>applicants</th>\n",
       "      <th>ifSkillsorPerksMissingUseThis</th>\n",
       "    </tr>\n",
       "  </thead>\n",
       "  <tbody>\n",
       "    <tr>\n",
       "      <th>0</th>\n",
       "      <td>Software Testing</td>\n",
       "      <td>Times Internet</td>\n",
       "      <td>Software Testing</td>\n",
       "      <td>Certificate, 5 days a week</td>\n",
       "      <td>Noida</td>\n",
       "      <td>6 Months</td>\n",
       "      <td>8000 /month</td>\n",
       "      <td>119 applicants</td>\n",
       "      <td>Software Testing, Certificate\\n5 days a week</td>\n",
       "    </tr>\n",
       "    <tr>\n",
       "      <th>1</th>\n",
       "      <td>Technical Operations - Networking And Monitoring</td>\n",
       "      <td>Paytm Payments Bank</td>\n",
       "      <td>Java, SQL, Unix, Oracle, MS SQL Server, Hibern...</td>\n",
       "      <td>Certificate, Letter of recommendation, 5 days ...</td>\n",
       "      <td>Noida</td>\n",
       "      <td>6 Months</td>\n",
       "      <td>10000 /month</td>\n",
       "      <td>194 applicants</td>\n",
       "      <td>Java\\nSQL\\nUnix\\nOracle\\nMS SQL Server\\nHibern...</td>\n",
       "    </tr>\n",
       "    <tr>\n",
       "      <th>2</th>\n",
       "      <td>Software Project Management</td>\n",
       "      <td>IIT Bombay</td>\n",
       "      <td>English Proficiency (Spoken), English Proficie...</td>\n",
       "      <td>Certificate, Letter of recommendation, Flexibl...</td>\n",
       "      <td>Work From Home</td>\n",
       "      <td>6 Months</td>\n",
       "      <td>1000-2000 /month</td>\n",
       "      <td>113 applicants</td>\n",
       "      <td>English Proficiency (Spoken)\\nEnglish Proficie...</td>\n",
       "    </tr>\n",
       "    <tr>\n",
       "      <th>3</th>\n",
       "      <td>Web Development</td>\n",
       "      <td>IIT Bombay</td>\n",
       "      <td>HTML, CSS, Flask, Python, Django</td>\n",
       "      <td>Certificate, Letter of recommendation, Flexibl...</td>\n",
       "      <td>Work From Home</td>\n",
       "      <td>6 Months</td>\n",
       "      <td>1000-2000 /month</td>\n",
       "      <td>183 applicants</td>\n",
       "      <td>HTML\\nCSS\\nFlask\\nPython\\nDjango, Certificate\\...</td>\n",
       "    </tr>\n",
       "    <tr>\n",
       "      <th>4</th>\n",
       "      <td>Front End Development</td>\n",
       "      <td>IIT Bombay</td>\n",
       "      <td>HTML, CSS, JavaScript, ReactJS, Redux</td>\n",
       "      <td>Certificate, Letter of recommendation, Flexibl...</td>\n",
       "      <td>Work From Home</td>\n",
       "      <td>6 Months</td>\n",
       "      <td>1000-2000 /month</td>\n",
       "      <td>205 applicants</td>\n",
       "      <td>HTML\\nCSS\\nJavaScript\\nReactJS\\nRedux, Certifi...</td>\n",
       "    </tr>\n",
       "  </tbody>\n",
       "</table>\n",
       "</div>"
      ],
      "text/plain": [
       "                                         internship         company_name  \\\n",
       "0                                  Software Testing       Times Internet   \n",
       "1  Technical Operations - Networking And Monitoring  Paytm Payments Bank   \n",
       "2                       Software Project Management           IIT Bombay   \n",
       "3                                   Web Development           IIT Bombay   \n",
       "4                             Front End Development           IIT Bombay   \n",
       "\n",
       "                                              skills  \\\n",
       "0                                   Software Testing   \n",
       "1  Java, SQL, Unix, Oracle, MS SQL Server, Hibern...   \n",
       "2  English Proficiency (Spoken), English Proficie...   \n",
       "3                   HTML, CSS, Flask, Python, Django   \n",
       "4              HTML, CSS, JavaScript, ReactJS, Redux   \n",
       "\n",
       "                                               perks        location  \\\n",
       "0                         Certificate, 5 days a week           Noida   \n",
       "1  Certificate, Letter of recommendation, 5 days ...           Noida   \n",
       "2  Certificate, Letter of recommendation, Flexibl...  Work From Home   \n",
       "3  Certificate, Letter of recommendation, Flexibl...  Work From Home   \n",
       "4  Certificate, Letter of recommendation, Flexibl...  Work From Home   \n",
       "\n",
       "   duration           stipend      applicants  \\\n",
       "0  6 Months       8000 /month  119 applicants   \n",
       "1  6 Months      10000 /month  194 applicants   \n",
       "2  6 Months  1000-2000 /month  113 applicants   \n",
       "3  6 Months  1000-2000 /month  183 applicants   \n",
       "4  6 Months  1000-2000 /month  205 applicants   \n",
       "\n",
       "                       ifSkillsorPerksMissingUseThis  \n",
       "0       Software Testing, Certificate\\n5 days a week  \n",
       "1  Java\\nSQL\\nUnix\\nOracle\\nMS SQL Server\\nHibern...  \n",
       "2  English Proficiency (Spoken)\\nEnglish Proficie...  \n",
       "3  HTML\\nCSS\\nFlask\\nPython\\nDjango, Certificate\\...  \n",
       "4  HTML\\nCSS\\nJavaScript\\nReactJS\\nRedux, Certifi...  "
      ]
     },
     "execution_count": 1,
     "metadata": {},
     "output_type": "execute_result"
    }
   ],
   "source": [
    "import pandas as pd\n",
    "\n",
    "df = pd.read_csv(f'../data/internshala_dataset_raw.csv')\n",
    "df.head()"
   ]
  },
  {
   "cell_type": "code",
   "execution_count": 2,
   "id": "1317cc25",
   "metadata": {},
   "outputs": [
    {
     "data": {
      "text/html": [
       "<div>\n",
       "<style scoped>\n",
       "    .dataframe tbody tr th:only-of-type {\n",
       "        vertical-align: middle;\n",
       "    }\n",
       "\n",
       "    .dataframe tbody tr th {\n",
       "        vertical-align: top;\n",
       "    }\n",
       "\n",
       "    .dataframe thead th {\n",
       "        text-align: right;\n",
       "    }\n",
       "</style>\n",
       "<table border=\"1\" class=\"dataframe\">\n",
       "  <thead>\n",
       "    <tr style=\"text-align: right;\">\n",
       "      <th></th>\n",
       "      <th>Date</th>\n",
       "      <th>Time</th>\n",
       "      <th>Latitude</th>\n",
       "      <th>Longitude</th>\n",
       "      <th>Depth</th>\n",
       "      <th>Magnitude Type</th>\n",
       "    </tr>\n",
       "  </thead>\n",
       "  <tbody>\n",
       "    <tr>\n",
       "      <th>0</th>\n",
       "      <td>01/02/1965</td>\n",
       "      <td>13:44:18</td>\n",
       "      <td>19.246</td>\n",
       "      <td>145.616</td>\n",
       "      <td>131.6</td>\n",
       "      <td>MW</td>\n",
       "    </tr>\n",
       "    <tr>\n",
       "      <th>1</th>\n",
       "      <td>01/04/1965</td>\n",
       "      <td>11:29:49</td>\n",
       "      <td>1.863</td>\n",
       "      <td>127.352</td>\n",
       "      <td>80</td>\n",
       "      <td>MW</td>\n",
       "    </tr>\n",
       "    <tr>\n",
       "      <th>2</th>\n",
       "      <td>01/05/1965</td>\n",
       "      <td>18:05:58</td>\n",
       "      <td>-20.579</td>\n",
       "      <td>-173.972</td>\n",
       "      <td>20</td>\n",
       "      <td>MW</td>\n",
       "    </tr>\n",
       "    <tr>\n",
       "      <th>3</th>\n",
       "      <td>01/08/1965</td>\n",
       "      <td>18:49:43</td>\n",
       "      <td>-59.076</td>\n",
       "      <td>-23.557</td>\n",
       "      <td>15</td>\n",
       "      <td>MW</td>\n",
       "    </tr>\n",
       "    <tr>\n",
       "      <th>4</th>\n",
       "      <td>01/09/1965</td>\n",
       "      <td>13:32:50</td>\n",
       "      <td>11.938</td>\n",
       "      <td>126.427</td>\n",
       "      <td>15</td>\n",
       "      <td>MW</td>\n",
       "    </tr>\n",
       "    <tr>\n",
       "      <th>...</th>\n",
       "      <td>...</td>\n",
       "      <td>...</td>\n",
       "      <td>...</td>\n",
       "      <td>...</td>\n",
       "      <td>...</td>\n",
       "      <td>...</td>\n",
       "    </tr>\n",
       "    <tr>\n",
       "      <th>23407</th>\n",
       "      <td>12/28/2016</td>\n",
       "      <td>08:22:12</td>\n",
       "      <td>38.3917</td>\n",
       "      <td>-118.8941</td>\n",
       "      <td>12.3</td>\n",
       "      <td>ML</td>\n",
       "    </tr>\n",
       "    <tr>\n",
       "      <th>23408</th>\n",
       "      <td>12/28/2016</td>\n",
       "      <td>09:13:47</td>\n",
       "      <td>38.3777</td>\n",
       "      <td>-118.8957</td>\n",
       "      <td>8.8</td>\n",
       "      <td>ML</td>\n",
       "    </tr>\n",
       "    <tr>\n",
       "      <th>23409</th>\n",
       "      <td>12/28/2016</td>\n",
       "      <td>12:38:51</td>\n",
       "      <td>36.9179</td>\n",
       "      <td>140.4262</td>\n",
       "      <td>10</td>\n",
       "      <td>MWW</td>\n",
       "    </tr>\n",
       "    <tr>\n",
       "      <th>23410</th>\n",
       "      <td>12/29/2016</td>\n",
       "      <td>22:30:19</td>\n",
       "      <td>-9.0283</td>\n",
       "      <td>118.6639</td>\n",
       "      <td>79</td>\n",
       "      <td>MWW</td>\n",
       "    </tr>\n",
       "    <tr>\n",
       "      <th>23411</th>\n",
       "      <td>12/30/2016</td>\n",
       "      <td>20:08:28</td>\n",
       "      <td>37.3973</td>\n",
       "      <td>141.4103</td>\n",
       "      <td>11.94</td>\n",
       "      <td>MB</td>\n",
       "    </tr>\n",
       "  </tbody>\n",
       "</table>\n",
       "<p>23412 rows × 6 columns</p>\n",
       "</div>"
      ],
      "text/plain": [
       "             Date      Time Latitude  Longitude  Depth Magnitude Type\n",
       "0      01/02/1965  13:44:18   19.246    145.616  131.6             MW\n",
       "1      01/04/1965  11:29:49    1.863    127.352     80             MW\n",
       "2      01/05/1965  18:05:58  -20.579   -173.972     20             MW\n",
       "3      01/08/1965  18:49:43  -59.076    -23.557     15             MW\n",
       "4      01/09/1965  13:32:50   11.938    126.427     15             MW\n",
       "...           ...       ...      ...        ...    ...            ...\n",
       "23407  12/28/2016  08:22:12  38.3917  -118.8941   12.3             ML\n",
       "23408  12/28/2016  09:13:47  38.3777  -118.8957    8.8             ML\n",
       "23409  12/28/2016  12:38:51  36.9179   140.4262     10            MWW\n",
       "23410  12/29/2016  22:30:19  -9.0283   118.6639     79            MWW\n",
       "23411  12/30/2016  20:08:28  37.3973   141.4103  11.94             MB\n",
       "\n",
       "[23412 rows x 6 columns]"
      ]
     },
     "execution_count": 2,
     "metadata": {},
     "output_type": "execute_result"
    }
   ],
   "source": [
    "import pandas as pd\n",
    "\n",
    "cols = ['Date', 'Time', 'Latitude', 'Longitude', 'Depth', 'Magnitude Type']\n",
    "df_e = pd.read_csv(f'../data/earthquakes_1965_2016_database.csv.zip', dtype=str)[cols]\n",
    "\n",
    "df_e"
   ]
  },
  {
   "cell_type": "markdown",
   "id": "a64e490b",
   "metadata": {},
   "source": [
    "## How to match and replace regex groups in Pandas"
   ]
  },
  {
   "cell_type": "code",
   "execution_count": 3,
   "id": "d27939f6",
   "metadata": {},
   "outputs": [
    {
     "data": {
      "text/plain": [
       "0        01/02/1965\n",
       "1        01/04/1965\n",
       "2        01/05/1965\n",
       "3        01/08/1965\n",
       "4        01/09/1965\n",
       "            ...    \n",
       "23407    12/28/2016\n",
       "23408    12/28/2016\n",
       "23409    12/28/2016\n",
       "23410    12/29/2016\n",
       "23411    12/30/2016\n",
       "Name: Date, Length: 23412, dtype: object"
      ]
     },
     "execution_count": 3,
     "metadata": {},
     "output_type": "execute_result"
    }
   ],
   "source": [
    "df_e['Date']"
   ]
  },
  {
   "cell_type": "code",
   "execution_count": 4,
   "id": "9be4aa32",
   "metadata": {},
   "outputs": [
    {
     "data": {
      "text/plain": [
       "0        02 01 '65\n",
       "1        04 01 '65\n",
       "2        05 01 '65\n",
       "3        08 01 '65\n",
       "4        09 01 '65\n",
       "           ...    \n",
       "23407    28 12 '16\n",
       "23408    28 12 '16\n",
       "23409    28 12 '16\n",
       "23410    29 12 '16\n",
       "23411    30 12 '16\n",
       "Name: Date, Length: 23412, dtype: object"
      ]
     },
     "execution_count": 4,
     "metadata": {},
     "output_type": "execute_result"
    }
   ],
   "source": [
    "df_e['Date'].str.replace(r'(\\d{2})/(\\d{2})/\\d{2}(\\d{2})', r\"\\2 \\1 '\\3\", regex=True)"
   ]
  },
  {
   "cell_type": "code",
   "execution_count": 5,
   "id": "56fd1bc9",
   "metadata": {},
   "outputs": [
    {
     "data": {
      "text/plain": [
       "0        1965-02-01\n",
       "1        1965-04-01\n",
       "2        1965-05-01\n",
       "3        1965-08-01\n",
       "4        1965-09-01\n",
       "            ...    \n",
       "23407    2016-28-12\n",
       "23408    2016-28-12\n",
       "23409    2016-28-12\n",
       "23410    2016-29-12\n",
       "23411    2016-30-12\n",
       "Name: Date, Length: 23412, dtype: object"
      ]
     },
     "execution_count": 5,
     "metadata": {},
     "output_type": "execute_result"
    }
   ],
   "source": [
    "df_e['Date'].str.replace(r'(\\d{2})/(\\d{2})/(\\d{4})', r\"\\3-\\2-\\1\", regex=True)"
   ]
  },
  {
   "cell_type": "markdown",
   "id": "c3368619",
   "metadata": {},
   "source": [
    "## How to match and replace regex groups - string patterns"
   ]
  },
  {
   "cell_type": "code",
   "execution_count": 6,
   "id": "b24fc9ce",
   "metadata": {},
   "outputs": [
    {
     "data": {
      "text/plain": [
       "0                Noida\n",
       "1                Noida\n",
       "2       Work From Home\n",
       "3       Work From Home\n",
       "4       Work From Home\n",
       "             ...      \n",
       "2562           Lucknow\n",
       "2563             Delhi\n",
       "2564    Work From Home\n",
       "2565          Nainital\n",
       "2566          Nainital\n",
       "Name: location, Length: 2567, dtype: object"
      ]
     },
     "execution_count": 6,
     "metadata": {},
     "output_type": "execute_result"
    }
   ],
   "source": [
    "df['location']"
   ]
  },
  {
   "cell_type": "code",
   "execution_count": 7,
   "id": "92416fe2",
   "metadata": {},
   "outputs": [
    {
     "data": {
      "text/plain": [
       "0          Noida\n",
       "1          Noida\n",
       "2           Home\n",
       "3           Home\n",
       "4           Home\n",
       "          ...   \n",
       "2562     Lucknow\n",
       "2563       Delhi\n",
       "2564        Home\n",
       "2565    Nainital\n",
       "2566    Nainital\n",
       "Name: location, Length: 2567, dtype: object"
      ]
     },
     "execution_count": 7,
     "metadata": {},
     "output_type": "execute_result"
    }
   ],
   "source": [
    "df['location'].str.replace(r'(.*) (.*) (.*)', r\"\\3\", regex=True)"
   ]
  },
  {
   "cell_type": "code",
   "execution_count": 8,
   "id": "54dd1135",
   "metadata": {},
   "outputs": [
    {
     "data": {
      "text/plain": [
       "0                                        Software Testing\n",
       "1       Java, SQL, Unix, Oracle, MS SQL Server, Hibern...\n",
       "2       English Proficiency (Spoken), English Proficie...\n",
       "3                        HTML, CSS, Flask, Python, Django\n",
       "4                   HTML, CSS, JavaScript, ReactJS, Redux\n",
       "                              ...                        \n",
       "2562    AutoCAD, Autodesk Inventor, Arduino, Circuit D...\n",
       "2563                                                  NaN\n",
       "2564                                                  NaN\n",
       "2565                                                  NaN\n",
       "2566                                                  NaN\n",
       "Name: skills, Length: 2567, dtype: object"
      ]
     },
     "execution_count": 8,
     "metadata": {},
     "output_type": "execute_result"
    }
   ],
   "source": [
    "df['skills']"
   ]
  },
  {
   "cell_type": "code",
   "execution_count": 9,
   "id": "f998808a",
   "metadata": {},
   "outputs": [
    {
     "data": {
      "text/plain": [
       "0                                        Software Testing\n",
       "1       Java, SQL, Unix, Oracle, MS SQL Server, Hibern...\n",
       "2       English Proficiency (Spoken), English Proficie...\n",
       "3                        HTML, CSS, Flask, Python, Django\n",
       "4                   HTML, CSS, JavaScript, ReactJS, Redux\n",
       "                              ...                        \n",
       "2562    AutoCAD, Autodesk Inventor, Arduino, Circuit D...\n",
       "2563                                                  NaN\n",
       "2564                                                  NaN\n",
       "2565                                                  NaN\n",
       "2566                                                  NaN\n",
       "Name: skills, Length: 2567, dtype: object"
      ]
     },
     "execution_count": 9,
     "metadata": {},
     "output_type": "execute_result"
    }
   ],
   "source": [
    "df['skills'].str.replace(r'(.*)(\\(.*\\))(.*)', r\"\\1\\3\", regex=True)"
   ]
  },
  {
   "cell_type": "code",
   "execution_count": 10,
   "id": "50013b26",
   "metadata": {},
   "outputs": [
    {
     "data": {
      "text/plain": [
       "0                            Software Testing\n",
       "1                                      (Java)\n",
       "2                                   (Written)\n",
       "3            HTML, CSS, Flask, Python, Django\n",
       "4       HTML, CSS, JavaScript, ReactJS, Redux\n",
       "                        ...                  \n",
       "2562                                    (IoT)\n",
       "2563                                      NaN\n",
       "2564                                      NaN\n",
       "2565                                      NaN\n",
       "2566                                      NaN\n",
       "Name: skills, Length: 2567, dtype: object"
      ]
     },
     "execution_count": 10,
     "metadata": {},
     "output_type": "execute_result"
    }
   ],
   "source": [
    "df['skills'].str.replace(r'(.*)(\\(.*\\))(.*)', r\"\\2\", regex=True)"
   ]
  },
  {
   "cell_type": "code",
   "execution_count": 11,
   "id": "84ad22b9",
   "metadata": {},
   "outputs": [
    {
     "data": {
      "text/plain": [
       "0                            Software Testing\n",
       "1                                      (Java)\n",
       "2                                    (Spoken)\n",
       "3            HTML, CSS, Flask, Python, Django\n",
       "4       HTML, CSS, JavaScript, ReactJS, Redux\n",
       "                        ...                  \n",
       "2562                                    (IoT)\n",
       "2563                                      NaN\n",
       "2564                                      NaN\n",
       "2565                                      NaN\n",
       "2566                                      NaN\n",
       "Name: skills, Length: 2567, dtype: object"
      ]
     },
     "execution_count": 11,
     "metadata": {},
     "output_type": "execute_result"
    }
   ],
   "source": [
    "df['skills'].str.replace(r'(.*?)(\\(.*?\\))(.*)', r\"\\2\", regex=True)"
   ]
  },
  {
   "cell_type": "markdown",
   "id": "83104280",
   "metadata": {},
   "source": [
    "## How to match and replace regex groups - numeric patterns"
   ]
  },
  {
   "cell_type": "code",
   "execution_count": 12,
   "id": "f34f9c50",
   "metadata": {},
   "outputs": [
    {
     "data": {
      "text/plain": [
       "0            8000 /month\n",
       "1           10000 /month\n",
       "2       1000-2000 /month\n",
       "3       1000-2000 /month\n",
       "4       1000-2000 /month\n",
       "              ...       \n",
       "2562    2000-5000 /month\n",
       "2563         5000 /month\n",
       "2564        Not provided\n",
       "2565        10000 /month\n",
       "2566        10000 /month\n",
       "Name: stipend, Length: 2567, dtype: object"
      ]
     },
     "execution_count": 12,
     "metadata": {},
     "output_type": "execute_result"
    }
   ],
   "source": [
    "df['stipend']"
   ]
  },
  {
   "cell_type": "code",
   "execution_count": 13,
   "id": "bd85856a",
   "metadata": {},
   "outputs": [
    {
     "data": {
      "text/plain": [
       "0        8000 /month\n",
       "1       10000 /month\n",
       "2        2000 /month\n",
       "3        2000 /month\n",
       "4        2000 /month\n",
       "            ...     \n",
       "2562     5000 /month\n",
       "2563     5000 /month\n",
       "2564    Not provided\n",
       "2565    10000 /month\n",
       "2566    10000 /month\n",
       "Name: stipend, Length: 2567, dtype: object"
      ]
     },
     "execution_count": 13,
     "metadata": {},
     "output_type": "execute_result"
    }
   ],
   "source": [
    "df['stipend'].str.replace(r'(\\d+)-(\\d+)(.*)', r\"\\2\\3\", regex=True)"
   ]
  },
  {
   "cell_type": "code",
   "execution_count": 14,
   "id": "5bbc46c1",
   "metadata": {},
   "outputs": [
    {
     "data": {
      "text/plain": [
       "0        8000 /month\n",
       "1       10000 /month\n",
       "2        1000 /month\n",
       "3        1000 /month\n",
       "4        1000 /month\n",
       "            ...     \n",
       "2562     2000 /month\n",
       "2563     5000 /month\n",
       "2564    Not provided\n",
       "2565    10000 /month\n",
       "2566    10000 /month\n",
       "Name: stipend, Length: 2567, dtype: object"
      ]
     },
     "execution_count": 14,
     "metadata": {},
     "output_type": "execute_result"
    }
   ],
   "source": [
    "df['stipend'].str.replace(r'(\\d+)-(\\d+)(.*)', r\"\\1\\3\", regex=True)"
   ]
  },
  {
   "cell_type": "code",
   "execution_count": null,
   "id": "309a8ab4",
   "metadata": {},
   "outputs": [],
   "source": []
  }
 ],
 "metadata": {
  "kernelspec": {
   "display_name": "Python 3",
   "language": "python",
   "name": "python3"
  },
  "language_info": {
   "codemirror_mode": {
    "name": "ipython",
    "version": 3
   },
   "file_extension": ".py",
   "mimetype": "text/x-python",
   "name": "python",
   "nbconvert_exporter": "python",
   "pygments_lexer": "ipython3",
   "version": "3.8.0"
  },
  "toc": {
   "base_numbering": 1,
   "nav_menu": {},
   "number_sections": false,
   "sideBar": true,
   "skip_h1_title": false,
   "title_cell": "Table of Contents",
   "title_sidebar": "Contents",
   "toc_cell": false,
   "toc_position": {},
   "toc_section_display": true,
   "toc_window_display": false
  }
 },
 "nbformat": 4,
 "nbformat_minor": 5
}
