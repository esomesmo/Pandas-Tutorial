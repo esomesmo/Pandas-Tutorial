{
 "cells": [
  {
   "cell_type": "markdown",
   "id": "7fae7a79",
   "metadata": {},
   "source": [
    "# How to Replace Values in Column Based On Another DataFrame in Pandas"
   ]
  },
  {
   "cell_type": "code",
   "execution_count": 1,
   "id": "0faa0ffc",
   "metadata": {},
   "outputs": [
    {
     "data": {
      "text/html": [
       "<div>\n",
       "<style scoped>\n",
       "    .dataframe tbody tr th:only-of-type {\n",
       "        vertical-align: middle;\n",
       "    }\n",
       "\n",
       "    .dataframe tbody tr th {\n",
       "        vertical-align: top;\n",
       "    }\n",
       "\n",
       "    .dataframe thead th {\n",
       "        text-align: right;\n",
       "    }\n",
       "</style>\n",
       "<table border=\"1\" class=\"dataframe\">\n",
       "  <thead>\n",
       "    <tr style=\"text-align: right;\">\n",
       "      <th></th>\n",
       "      <th>Date</th>\n",
       "      <th>Time</th>\n",
       "      <th>Latitude</th>\n",
       "      <th>Longitude</th>\n",
       "      <th>Depth</th>\n",
       "      <th>Magnitude Type</th>\n",
       "    </tr>\n",
       "  </thead>\n",
       "  <tbody>\n",
       "    <tr>\n",
       "      <th>23405</th>\n",
       "      <td>12/27/2016</td>\n",
       "      <td>23:20:56</td>\n",
       "      <td>45.7192</td>\n",
       "      <td>26.523</td>\n",
       "      <td>97</td>\n",
       "      <td>MWW</td>\n",
       "    </tr>\n",
       "    <tr>\n",
       "      <th>23406</th>\n",
       "      <td>12/28/2016</td>\n",
       "      <td>08:18:01</td>\n",
       "      <td>38.3754</td>\n",
       "      <td>-118.8977</td>\n",
       "      <td>10.8</td>\n",
       "      <td>ML</td>\n",
       "    </tr>\n",
       "    <tr>\n",
       "      <th>23407</th>\n",
       "      <td>12/28/2016</td>\n",
       "      <td>08:22:12</td>\n",
       "      <td>38.3917</td>\n",
       "      <td>-118.8941</td>\n",
       "      <td>12.3</td>\n",
       "      <td>ML</td>\n",
       "    </tr>\n",
       "    <tr>\n",
       "      <th>23408</th>\n",
       "      <td>12/28/2016</td>\n",
       "      <td>09:13:47</td>\n",
       "      <td>38.3777</td>\n",
       "      <td>-118.8957</td>\n",
       "      <td>8.8</td>\n",
       "      <td>ML</td>\n",
       "    </tr>\n",
       "    <tr>\n",
       "      <th>23409</th>\n",
       "      <td>12/28/2016</td>\n",
       "      <td>12:38:51</td>\n",
       "      <td>36.9179</td>\n",
       "      <td>140.4262</td>\n",
       "      <td>10</td>\n",
       "      <td>MWW</td>\n",
       "    </tr>\n",
       "    <tr>\n",
       "      <th>23410</th>\n",
       "      <td>12/29/2016</td>\n",
       "      <td>22:30:19</td>\n",
       "      <td>-9.0283</td>\n",
       "      <td>118.6639</td>\n",
       "      <td>79</td>\n",
       "      <td>MWW</td>\n",
       "    </tr>\n",
       "    <tr>\n",
       "      <th>23411</th>\n",
       "      <td>12/30/2016</td>\n",
       "      <td>20:08:28</td>\n",
       "      <td>37.3973</td>\n",
       "      <td>141.4103</td>\n",
       "      <td>11.94</td>\n",
       "      <td>MB</td>\n",
       "    </tr>\n",
       "  </tbody>\n",
       "</table>\n",
       "</div>"
      ],
      "text/plain": [
       "             Date      Time Latitude  Longitude  Depth Magnitude Type\n",
       "23405  12/27/2016  23:20:56  45.7192     26.523     97            MWW\n",
       "23406  12/28/2016  08:18:01  38.3754  -118.8977   10.8             ML\n",
       "23407  12/28/2016  08:22:12  38.3917  -118.8941   12.3             ML\n",
       "23408  12/28/2016  09:13:47  38.3777  -118.8957    8.8             ML\n",
       "23409  12/28/2016  12:38:51  36.9179   140.4262     10            MWW\n",
       "23410  12/29/2016  22:30:19  -9.0283   118.6639     79            MWW\n",
       "23411  12/30/2016  20:08:28  37.3973   141.4103  11.94             MB"
      ]
     },
     "execution_count": 1,
     "metadata": {},
     "output_type": "execute_result"
    }
   ],
   "source": [
    "import pandas as pd\n",
    "\n",
    "df = pd.read_csv(f'../data/earthquakes_1965_2016_database.csv.zip', dtype=str)\n",
    "cols = ['Date', 'Time', 'Latitude', 'Longitude', 'Depth', 'Magnitude Type']\n",
    "df = df[cols]\n",
    "df = df.tail(7)\n",
    "df"
   ]
  },
  {
   "cell_type": "code",
   "execution_count": 2,
   "id": "1d60494b",
   "metadata": {},
   "outputs": [],
   "source": [
    "import pyperclip\n",
    "\n",
    "pyperclip.copy((df.head().to_html(classes='table table-striped text-center', justify='center', index=False)))\n"
   ]
  },
  {
   "cell_type": "markdown",
   "id": "10d29e5b",
   "metadata": {},
   "source": [
    "## Replace single character in Pandas Column with .str.replace"
   ]
  },
  {
   "cell_type": "code",
   "execution_count": 3,
   "id": "9da3a672",
   "metadata": {},
   "outputs": [
    {
     "name": "stderr",
     "output_type": "stream",
     "text": [
      "/tmp/ipykernel_27767/4235268408.py:1: FutureWarning: The default value of regex will change from True to False in a future version. In addition, single character regular expressions will *not* be treated as literal strings when regex=True.\n",
      "  df['Depth'].str.replace('.',',')\n"
     ]
    },
    {
     "data": {
      "text/plain": [
       "23405       97\n",
       "23406     10,8\n",
       "23407     12,3\n",
       "23408      8,8\n",
       "23409       10\n",
       "23410       79\n",
       "23411    11,94\n",
       "Name: Depth, dtype: object"
      ]
     },
     "execution_count": 3,
     "metadata": {},
     "output_type": "execute_result"
    }
   ],
   "source": [
    "df['Depth'].str.replace('.',',')"
   ]
  },
  {
   "cell_type": "code",
   "execution_count": 4,
   "id": "bb6a1a2c",
   "metadata": {},
   "outputs": [
    {
     "data": {
      "text/plain": [
       "23405       97\n",
       "23406     10,8\n",
       "23407     12,3\n",
       "23408      8,8\n",
       "23409       10\n",
       "23410       79\n",
       "23411    11,94\n",
       "Name: Depth, dtype: object"
      ]
     },
     "execution_count": 4,
     "metadata": {},
     "output_type": "execute_result"
    }
   ],
   "source": [
    "df['Depth'].str.replace('.',',', regex= True)"
   ]
  },
  {
   "cell_type": "markdown",
   "id": "ff471a38",
   "metadata": {},
   "source": [
    "## Replace regex pattern in Pandas Column"
   ]
  },
  {
   "cell_type": "code",
   "execution_count": 5,
   "id": "e8d841bf",
   "metadata": {},
   "outputs": [
    {
     "data": {
      "text/plain": [
       "23405    2016-27-12\n",
       "23406    2016-28-12\n",
       "23407    2016-28-12\n",
       "23408    2016-28-12\n",
       "23409    2016-28-12\n",
       "23410    2016-29-12\n",
       "23411    2016-30-12\n",
       "Name: Date, dtype: object"
      ]
     },
     "execution_count": 5,
     "metadata": {},
     "output_type": "execute_result"
    }
   ],
   "source": [
    "df['Date'].str.replace(r'(\\d{2})/(\\d{2})/(\\d{4})', r\"\\3-\\2-\\1\", regex=True)"
   ]
  },
  {
   "cell_type": "code",
   "execution_count": 6,
   "id": "bddbc361",
   "metadata": {},
   "outputs": [
    {
     "data": {
      "text/plain": [
       "23405    27 12 '16\n",
       "23406    28 12 '16\n",
       "23407    28 12 '16\n",
       "23408    28 12 '16\n",
       "23409    28 12 '16\n",
       "23410    29 12 '16\n",
       "23411    30 12 '16\n",
       "Name: Date, dtype: object"
      ]
     },
     "execution_count": 6,
     "metadata": {},
     "output_type": "execute_result"
    }
   ],
   "source": [
    "df['Date'].str.replace(r'(\\d{2})/(\\d{2})/\\d{2}(\\d{2})', r\"\\2 \\1 '\\3\", regex=True)"
   ]
  },
  {
   "cell_type": "markdown",
   "id": "5d2af921",
   "metadata": {},
   "source": [
    "## Replace text in whole DataFrame"
   ]
  },
  {
   "cell_type": "code",
   "execution_count": 7,
   "id": "168deda8",
   "metadata": {},
   "outputs": [
    {
     "data": {
      "text/html": [
       "<div>\n",
       "<style scoped>\n",
       "    .dataframe tbody tr th:only-of-type {\n",
       "        vertical-align: middle;\n",
       "    }\n",
       "\n",
       "    .dataframe tbody tr th {\n",
       "        vertical-align: top;\n",
       "    }\n",
       "\n",
       "    .dataframe thead th {\n",
       "        text-align: right;\n",
       "    }\n",
       "</style>\n",
       "<table border=\"1\" class=\"dataframe\">\n",
       "  <thead>\n",
       "    <tr style=\"text-align: right;\">\n",
       "      <th></th>\n",
       "      <th>Date</th>\n",
       "      <th>Time</th>\n",
       "      <th>Latitude</th>\n",
       "      <th>Longitude</th>\n",
       "      <th>Depth</th>\n",
       "      <th>Magnitude Type</th>\n",
       "    </tr>\n",
       "  </thead>\n",
       "  <tbody>\n",
       "    <tr>\n",
       "      <th>23405</th>\n",
       "      <td>12/27/2016</td>\n",
       "      <td>23:20:56</td>\n",
       "      <td>45.7192</td>\n",
       "      <td>26.523</td>\n",
       "      <td>97</td>\n",
       "      <td>MWW</td>\n",
       "    </tr>\n",
       "    <tr>\n",
       "      <th>23406</th>\n",
       "      <td>12/28/2016</td>\n",
       "      <td>08:18:01</td>\n",
       "      <td>38.3754</td>\n",
       "      <td>-118.8977</td>\n",
       "      <td>10.8</td>\n",
       "      <td>ML</td>\n",
       "    </tr>\n",
       "    <tr>\n",
       "      <th>23407</th>\n",
       "      <td>12/28/2016</td>\n",
       "      <td>08:22:12</td>\n",
       "      <td>38.3917</td>\n",
       "      <td>-118.8941</td>\n",
       "      <td>12.3</td>\n",
       "      <td>ML</td>\n",
       "    </tr>\n",
       "    <tr>\n",
       "      <th>23408</th>\n",
       "      <td>12/28/2016</td>\n",
       "      <td>09:13:47</td>\n",
       "      <td>38.3777</td>\n",
       "      <td>-118.8957</td>\n",
       "      <td>8.8</td>\n",
       "      <td>ML</td>\n",
       "    </tr>\n",
       "    <tr>\n",
       "      <th>23409</th>\n",
       "      <td>12/28/2016</td>\n",
       "      <td>12:38:51</td>\n",
       "      <td>36.9179</td>\n",
       "      <td>140.4262</td>\n",
       "      <td>10</td>\n",
       "      <td>MWW</td>\n",
       "    </tr>\n",
       "    <tr>\n",
       "      <th>23410</th>\n",
       "      <td>12/29/2016</td>\n",
       "      <td>22:30:19</td>\n",
       "      <td>-9.0283</td>\n",
       "      <td>118.6639</td>\n",
       "      <td>79</td>\n",
       "      <td>MWW</td>\n",
       "    </tr>\n",
       "    <tr>\n",
       "      <th>23411</th>\n",
       "      <td>12/30/2016</td>\n",
       "      <td>20:08:28</td>\n",
       "      <td>37.3973</td>\n",
       "      <td>141.4103</td>\n",
       "      <td>11.94</td>\n",
       "      <td>MB</td>\n",
       "    </tr>\n",
       "  </tbody>\n",
       "</table>\n",
       "</div>"
      ],
      "text/plain": [
       "             Date      Time Latitude  Longitude  Depth Magnitude Type\n",
       "23405  12/27/2016  23:20:56  45.7192     26.523     97            MWW\n",
       "23406  12/28/2016  08:18:01  38.3754  -118.8977   10.8             ML\n",
       "23407  12/28/2016  08:22:12  38.3917  -118.8941   12.3             ML\n",
       "23408  12/28/2016  09:13:47  38.3777  -118.8957    8.8             ML\n",
       "23409  12/28/2016  12:38:51  36.9179   140.4262     10            MWW\n",
       "23410  12/29/2016  22:30:19  -9.0283   118.6639     79            MWW\n",
       "23411  12/30/2016  20:08:28  37.3973   141.4103  11.94             MB"
      ]
     },
     "execution_count": 7,
     "metadata": {},
     "output_type": "execute_result"
    }
   ],
   "source": [
    "df.replace('.',',')"
   ]
  },
  {
   "cell_type": "code",
   "execution_count": 8,
   "id": "1c239676",
   "metadata": {},
   "outputs": [
    {
     "data": {
      "text/html": [
       "<div>\n",
       "<style scoped>\n",
       "    .dataframe tbody tr th:only-of-type {\n",
       "        vertical-align: middle;\n",
       "    }\n",
       "\n",
       "    .dataframe tbody tr th {\n",
       "        vertical-align: top;\n",
       "    }\n",
       "\n",
       "    .dataframe thead th {\n",
       "        text-align: right;\n",
       "    }\n",
       "</style>\n",
       "<table border=\"1\" class=\"dataframe\">\n",
       "  <thead>\n",
       "    <tr style=\"text-align: right;\">\n",
       "      <th></th>\n",
       "      <th>Date</th>\n",
       "      <th>Time</th>\n",
       "      <th>Latitude</th>\n",
       "      <th>Longitude</th>\n",
       "      <th>Depth</th>\n",
       "      <th>Magnitude Type</th>\n",
       "    </tr>\n",
       "  </thead>\n",
       "  <tbody>\n",
       "    <tr>\n",
       "      <th>23405</th>\n",
       "      <td>12/27/2016</td>\n",
       "      <td>23:20:56</td>\n",
       "      <td>45,7192</td>\n",
       "      <td>26,523</td>\n",
       "      <td>97</td>\n",
       "      <td>MWW</td>\n",
       "    </tr>\n",
       "    <tr>\n",
       "      <th>23406</th>\n",
       "      <td>12/28/2016</td>\n",
       "      <td>08:18:01</td>\n",
       "      <td>38,3754</td>\n",
       "      <td>-118,8977</td>\n",
       "      <td>10,8</td>\n",
       "      <td>ML</td>\n",
       "    </tr>\n",
       "    <tr>\n",
       "      <th>23407</th>\n",
       "      <td>12/28/2016</td>\n",
       "      <td>08:22:12</td>\n",
       "      <td>38,3917</td>\n",
       "      <td>-118,8941</td>\n",
       "      <td>12,3</td>\n",
       "      <td>ML</td>\n",
       "    </tr>\n",
       "    <tr>\n",
       "      <th>23408</th>\n",
       "      <td>12/28/2016</td>\n",
       "      <td>09:13:47</td>\n",
       "      <td>38,3777</td>\n",
       "      <td>-118,8957</td>\n",
       "      <td>8,8</td>\n",
       "      <td>ML</td>\n",
       "    </tr>\n",
       "    <tr>\n",
       "      <th>23409</th>\n",
       "      <td>12/28/2016</td>\n",
       "      <td>12:38:51</td>\n",
       "      <td>36,9179</td>\n",
       "      <td>140,4262</td>\n",
       "      <td>10</td>\n",
       "      <td>MWW</td>\n",
       "    </tr>\n",
       "    <tr>\n",
       "      <th>23410</th>\n",
       "      <td>12/29/2016</td>\n",
       "      <td>22:30:19</td>\n",
       "      <td>-9,0283</td>\n",
       "      <td>118,6639</td>\n",
       "      <td>79</td>\n",
       "      <td>MWW</td>\n",
       "    </tr>\n",
       "    <tr>\n",
       "      <th>23411</th>\n",
       "      <td>12/30/2016</td>\n",
       "      <td>20:08:28</td>\n",
       "      <td>37,3973</td>\n",
       "      <td>141,4103</td>\n",
       "      <td>11,94</td>\n",
       "      <td>MB</td>\n",
       "    </tr>\n",
       "  </tbody>\n",
       "</table>\n",
       "</div>"
      ],
      "text/plain": [
       "             Date      Time Latitude  Longitude  Depth Magnitude Type\n",
       "23405  12/27/2016  23:20:56  45,7192     26,523     97            MWW\n",
       "23406  12/28/2016  08:18:01  38,3754  -118,8977   10,8             ML\n",
       "23407  12/28/2016  08:22:12  38,3917  -118,8941   12,3             ML\n",
       "23408  12/28/2016  09:13:47  38,3777  -118,8957    8,8             ML\n",
       "23409  12/28/2016  12:38:51  36,9179   140,4262     10            MWW\n",
       "23410  12/29/2016  22:30:19  -9,0283   118,6639     79            MWW\n",
       "23411  12/30/2016  20:08:28  37,3973   141,4103  11,94             MB"
      ]
     },
     "execution_count": 8,
     "metadata": {},
     "output_type": "execute_result"
    }
   ],
   "source": [
    "df.replace('\\.',',', regex=True)"
   ]
  },
  {
   "cell_type": "markdown",
   "id": "d7476821",
   "metadata": {},
   "source": [
    "## Replace text with conditions in Pandas with lambda and .apply/.applymap"
   ]
  },
  {
   "cell_type": "code",
   "execution_count": 9,
   "id": "d1fd5b04",
   "metadata": {},
   "outputs": [
    {
     "data": {
      "text/plain": [
       "23405    12-27-2016\n",
       "23406    12-28-2016\n",
       "23407    12-28-2016\n",
       "23408    12-28-2016\n",
       "23409    12-28-2016\n",
       "23410    12-29-2016\n",
       "23411    12-30-2016\n",
       "Name: Date, dtype: object"
      ]
     },
     "execution_count": 9,
     "metadata": {},
     "output_type": "execute_result"
    }
   ],
   "source": [
    "df['Date'].apply(lambda x: x.replace('/', '-'))"
   ]
  },
  {
   "cell_type": "code",
   "execution_count": 10,
   "id": "13ac9537",
   "metadata": {},
   "outputs": [
    {
     "data": {
      "text/html": [
       "<div>\n",
       "<style scoped>\n",
       "    .dataframe tbody tr th:only-of-type {\n",
       "        vertical-align: middle;\n",
       "    }\n",
       "\n",
       "    .dataframe tbody tr th {\n",
       "        vertical-align: top;\n",
       "    }\n",
       "\n",
       "    .dataframe thead th {\n",
       "        text-align: right;\n",
       "    }\n",
       "</style>\n",
       "<table border=\"1\" class=\"dataframe\">\n",
       "  <thead>\n",
       "    <tr style=\"text-align: right;\">\n",
       "      <th></th>\n",
       "      <th>Date</th>\n",
       "      <th>Time</th>\n",
       "      <th>Latitude</th>\n",
       "      <th>Longitude</th>\n",
       "      <th>Depth</th>\n",
       "      <th>Magnitude Type</th>\n",
       "    </tr>\n",
       "  </thead>\n",
       "  <tbody>\n",
       "    <tr>\n",
       "      <th>23405</th>\n",
       "      <td>12-27-2016</td>\n",
       "      <td>23:20:56</td>\n",
       "      <td>45.7192</td>\n",
       "      <td>26.523</td>\n",
       "      <td>97</td>\n",
       "      <td>MWW</td>\n",
       "    </tr>\n",
       "    <tr>\n",
       "      <th>23406</th>\n",
       "      <td>12-28-2016</td>\n",
       "      <td>08:18:01</td>\n",
       "      <td>38.3754</td>\n",
       "      <td>-118.8977</td>\n",
       "      <td>10.8</td>\n",
       "      <td>ML</td>\n",
       "    </tr>\n",
       "    <tr>\n",
       "      <th>23407</th>\n",
       "      <td>12-28-2016</td>\n",
       "      <td>08:22:12</td>\n",
       "      <td>38.3917</td>\n",
       "      <td>-118.8941</td>\n",
       "      <td>12.3</td>\n",
       "      <td>ML</td>\n",
       "    </tr>\n",
       "    <tr>\n",
       "      <th>23408</th>\n",
       "      <td>12-28-2016</td>\n",
       "      <td>09:13:47</td>\n",
       "      <td>38.3777</td>\n",
       "      <td>-118.8957</td>\n",
       "      <td>8.8</td>\n",
       "      <td>ML</td>\n",
       "    </tr>\n",
       "    <tr>\n",
       "      <th>23409</th>\n",
       "      <td>12-28-2016</td>\n",
       "      <td>12:38:51</td>\n",
       "      <td>36.9179</td>\n",
       "      <td>140.4262</td>\n",
       "      <td>10</td>\n",
       "      <td>MWW</td>\n",
       "    </tr>\n",
       "    <tr>\n",
       "      <th>23410</th>\n",
       "      <td>12-29-2016</td>\n",
       "      <td>22:30:19</td>\n",
       "      <td>-9.0283</td>\n",
       "      <td>118.6639</td>\n",
       "      <td>79</td>\n",
       "      <td>MWW</td>\n",
       "    </tr>\n",
       "    <tr>\n",
       "      <th>23411</th>\n",
       "      <td>12-30-2016</td>\n",
       "      <td>20:08:28</td>\n",
       "      <td>37.3973</td>\n",
       "      <td>141.4103</td>\n",
       "      <td>11.94</td>\n",
       "      <td>MB</td>\n",
       "    </tr>\n",
       "  </tbody>\n",
       "</table>\n",
       "</div>"
      ],
      "text/plain": [
       "             Date      Time Latitude  Longitude  Depth Magnitude Type\n",
       "23405  12-27-2016  23:20:56  45.7192     26.523     97            MWW\n",
       "23406  12-28-2016  08:18:01  38.3754  -118.8977   10.8             ML\n",
       "23407  12-28-2016  08:22:12  38.3917  -118.8941   12.3             ML\n",
       "23408  12-28-2016  09:13:47  38.3777  -118.8957    8.8             ML\n",
       "23409  12-28-2016  12:38:51  36.9179   140.4262     10            MWW\n",
       "23410  12-29-2016  22:30:19  -9.0283   118.6639     79            MWW\n",
       "23411  12-30-2016  20:08:28  37.3973   141.4103  11.94             MB"
      ]
     },
     "execution_count": 10,
     "metadata": {},
     "output_type": "execute_result"
    }
   ],
   "source": [
    "df.applymap(lambda x: x.replace('/', '-'))"
   ]
  },
  {
   "cell_type": "code",
   "execution_count": 11,
   "id": "436ddb52",
   "metadata": {},
   "outputs": [
    {
     "data": {
      "text/plain": [
       "23405    12-27-2016\n",
       "23406    12-28-2016\n",
       "23407    12-28-2016\n",
       "23408    12-28-2016\n",
       "23409    12-28-2016\n",
       "23410    12-29-2016\n",
       "23411    12-30-2016\n",
       "Name: Date, dtype: object"
      ]
     },
     "execution_count": 11,
     "metadata": {},
     "output_type": "execute_result"
    }
   ],
   "source": [
    "df['Date'].apply(lambda x: x.replace('/', '-') if '20' in x else x)"
   ]
  },
  {
   "cell_type": "code",
   "execution_count": null,
   "id": "e205dd43",
   "metadata": {},
   "outputs": [],
   "source": []
  }
 ],
 "metadata": {
  "kernelspec": {
   "display_name": "Python 3",
   "language": "python",
   "name": "python3"
  },
  "language_info": {
   "codemirror_mode": {
    "name": "ipython",
    "version": 3
   },
   "file_extension": ".py",
   "mimetype": "text/x-python",
   "name": "python",
   "nbconvert_exporter": "python",
   "pygments_lexer": "ipython3",
   "version": "3.8.0"
  },
  "toc": {
   "base_numbering": 1,
   "nav_menu": {},
   "number_sections": true,
   "sideBar": true,
   "skip_h1_title": false,
   "title_cell": "Table of Contents",
   "title_sidebar": "Contents",
   "toc_cell": false,
   "toc_position": {},
   "toc_section_display": true,
   "toc_window_display": false
  }
 },
 "nbformat": 4,
 "nbformat_minor": 5
}
