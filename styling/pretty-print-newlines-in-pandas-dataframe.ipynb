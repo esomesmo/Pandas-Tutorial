{
 "cells": [
  {
   "cell_type": "markdown",
   "id": "cc04f622",
   "metadata": {},
   "source": [
    "# How to Pretty Print Newlines in Pandas DataFrame"
   ]
  },
  {
   "cell_type": "code",
   "execution_count": 1,
   "id": "aef31b34",
   "metadata": {},
   "outputs": [
    {
     "data": {
      "text/html": [
       "<div>\n",
       "<style scoped>\n",
       "    .dataframe tbody tr th:only-of-type {\n",
       "        vertical-align: middle;\n",
       "    }\n",
       "\n",
       "    .dataframe tbody tr th {\n",
       "        vertical-align: top;\n",
       "    }\n",
       "\n",
       "    .dataframe thead th {\n",
       "        text-align: right;\n",
       "    }\n",
       "</style>\n",
       "<table border=\"1\" class=\"dataframe\">\n",
       "  <thead>\n",
       "    <tr style=\"text-align: right;\">\n",
       "      <th></th>\n",
       "      <th>name</th>\n",
       "      <th>url</th>\n",
       "      <th>url2</th>\n",
       "    </tr>\n",
       "  </thead>\n",
       "  <tbody>\n",
       "    <tr>\n",
       "      <th>0</th>\n",
       "      <td>Softhints</td>\n",
       "      <td>https://www.softhints.com</td>\n",
       "      <td>https://www.blog.softhints.com/tag/pandas</td>\n",
       "    </tr>\n",
       "    <tr>\n",
       "      <th>1</th>\n",
       "      <td>DataScientyst</td>\n",
       "      <td>https://datascientyst.com</td>\n",
       "      <td>https://datascientyst.com/tag/pandas</td>\n",
       "    </tr>\n",
       "  </tbody>\n",
       "</table>\n",
       "</div>"
      ],
      "text/plain": [
       "            name                        url  \\\n",
       "0      Softhints  https://www.softhints.com   \n",
       "1  DataScientyst  https://datascientyst.com   \n",
       "\n",
       "                                        url2  \n",
       "0  https://www.blog.softhints.com/tag/pandas  \n",
       "1       https://datascientyst.com/tag/pandas  "
      ]
     },
     "execution_count": 1,
     "metadata": {},
     "output_type": "execute_result"
    }
   ],
   "source": [
    "from IPython.display import HTML\n",
    "import pandas as pd\n",
    "\n",
    "df = pd.DataFrame({\n",
    "    'name':['Softhints', 'DataScientyst'],\n",
    "    'url':['https://www.softhints.com', 'https://datascientyst.com'],\n",
    "    'url2':['https://www.blog.softhints.com/tag/pandas', 'https://datascientyst.com/tag/pandas']\n",
    "})\n",
    "\n",
    "df"
   ]
  },
  {
   "cell_type": "code",
   "execution_count": 2,
   "id": "a1b55d9a",
   "metadata": {},
   "outputs": [
    {
     "data": {
      "text/html": [
       "<div>\n",
       "<style scoped>\n",
       "    .dataframe tbody tr th:only-of-type {\n",
       "        vertical-align: middle;\n",
       "    }\n",
       "\n",
       "    .dataframe tbody tr th {\n",
       "        vertical-align: top;\n",
       "    }\n",
       "\n",
       "    .dataframe thead th {\n",
       "        text-align: right;\n",
       "    }\n",
       "</style>\n",
       "<table border=\"1\" class=\"dataframe\">\n",
       "  <thead>\n",
       "    <tr style=\"text-align: right;\">\n",
       "      <th></th>\n",
       "      <th>name</th>\n",
       "      <th>url</th>\n",
       "      <th>url2</th>\n",
       "      <th>all</th>\n",
       "    </tr>\n",
       "  </thead>\n",
       "  <tbody>\n",
       "    <tr>\n",
       "      <th>0</th>\n",
       "      <td>Softhints</td>\n",
       "      <td>https://www.softhints.com</td>\n",
       "      <td>https://www.blog.softhints.com/tag/pandas</td>\n",
       "      <td>Softhints\\nhttps://www.softhints.com\\nhttps://...</td>\n",
       "    </tr>\n",
       "    <tr>\n",
       "      <th>1</th>\n",
       "      <td>DataScientyst</td>\n",
       "      <td>https://datascientyst.com</td>\n",
       "      <td>https://datascientyst.com/tag/pandas</td>\n",
       "      <td>DataScientyst\\nhttps://datascientyst.com\\nhttp...</td>\n",
       "    </tr>\n",
       "  </tbody>\n",
       "</table>\n",
       "</div>"
      ],
      "text/plain": [
       "            name                        url  \\\n",
       "0      Softhints  https://www.softhints.com   \n",
       "1  DataScientyst  https://datascientyst.com   \n",
       "\n",
       "                                        url2  \\\n",
       "0  https://www.blog.softhints.com/tag/pandas   \n",
       "1       https://datascientyst.com/tag/pandas   \n",
       "\n",
       "                                                 all  \n",
       "0  Softhints\\nhttps://www.softhints.com\\nhttps://...  \n",
       "1  DataScientyst\\nhttps://datascientyst.com\\nhttp...  "
      ]
     },
     "execution_count": 2,
     "metadata": {},
     "output_type": "execute_result"
    }
   ],
   "source": [
    "df['all'] = df['name'] + '\\n' + df['url'] + '\\n' + df['url2'] \n",
    "df"
   ]
  },
  {
   "cell_type": "code",
   "execution_count": 3,
   "id": "94af5efa",
   "metadata": {},
   "outputs": [
    {
     "data": {
      "text/html": [
       "<table border=\"1\" class=\"dataframe\">\n",
       "  <thead>\n",
       "    <tr style=\"text-align: right;\">\n",
       "      <th></th>\n",
       "      <th>name</th>\n",
       "      <th>url</th>\n",
       "      <th>url2</th>\n",
       "      <th>all</th>\n",
       "    </tr>\n",
       "  </thead>\n",
       "  <tbody>\n",
       "    <tr>\n",
       "      <th>0</th>\n",
       "      <td>Softhints</td>\n",
       "      <td>https://www.softhints.com</td>\n",
       "      <td>https://www.blog.softhints.com/tag/pandas</td>\n",
       "      <td>Softhints<br>https://www.softhints.com<br>https://www.blog.softhints.com/tag/pandas</td>\n",
       "    </tr>\n",
       "    <tr>\n",
       "      <th>1</th>\n",
       "      <td>DataScientyst</td>\n",
       "      <td>https://datascientyst.com</td>\n",
       "      <td>https://datascientyst.com/tag/pandas</td>\n",
       "      <td>DataScientyst<br>https://datascientyst.com<br>https://datascientyst.com/tag/pandas</td>\n",
       "    </tr>\n",
       "  </tbody>\n",
       "</table>"
      ],
      "text/plain": [
       "<IPython.core.display.HTML object>"
      ]
     },
     "metadata": {},
     "output_type": "display_data"
    }
   ],
   "source": [
    "from IPython.display import display, HTML\n",
    "\n",
    "display( HTML( df.to_html().replace(\"\\\\n\",\"<br>\") ) )"
   ]
  },
  {
   "cell_type": "code",
   "execution_count": 4,
   "id": "fc465324",
   "metadata": {},
   "outputs": [
    {
     "data": {
      "text/html": [
       "<table border=\"1\" class=\"dataframe\">\n",
       "  <thead>\n",
       "    <tr style=\"text-align: right;\">\n",
       "      <th></th>\n",
       "      <th>name</th>\n",
       "      <th>url</th>\n",
       "      <th>url2</th>\n",
       "      <th>all</th>\n",
       "    </tr>\n",
       "  </thead>\n",
       "  <tbody>\n",
       "    <tr>\n",
       "      <th>0</th>\n",
       "      <td>Softhints</td>\n",
       "      <td>https://www.softhints.com</td>\n",
       "      <td>https://www.blog.softhints.com/tag/pandas</td>\n",
       "      <td>Softhints<br>https://www.softhints.com<br>https://www.blog.softhints.com/tag/pandas</td>\n",
       "    </tr>\n",
       "    <tr>\n",
       "      <th>1</th>\n",
       "      <td>DataScientyst</td>\n",
       "      <td>https://datascientyst.com</td>\n",
       "      <td>https://datascientyst.com/tag/pandas</td>\n",
       "      <td>DataScientyst<br>https://datascientyst.com<br>https://datascientyst.com/tag/pandas</td>\n",
       "    </tr>\n",
       "  </tbody>\n",
       "</table>"
      ],
      "text/plain": [
       "<IPython.core.display.HTML object>"
      ]
     },
     "metadata": {},
     "output_type": "display_data"
    }
   ],
   "source": [
    "from IPython.display import display, HTML\n",
    "\n",
    "def print_newlines(df):\n",
    "    return display( HTML( df.to_html().replace(\"\\\\n\",\"<br>\") ) )\n",
    "\n",
    "print_newlines(df)"
   ]
  },
  {
   "cell_type": "code",
   "execution_count": 5,
   "id": "c199ab13",
   "metadata": {},
   "outputs": [
    {
     "data": {
      "text/html": [
       "<style type=\"text/css\">\n",
       "#T_4759d_row0_col0, #T_4759d_row0_col1, #T_4759d_row0_col2, #T_4759d_row0_col3, #T_4759d_row1_col0, #T_4759d_row1_col1, #T_4759d_row1_col2, #T_4759d_row1_col3 {\n",
       "  text-align: center;\n",
       "  white-space: pre-wrap;\n",
       "}\n",
       "</style>\n",
       "<table id=\"T_4759d_\">\n",
       "  <thead>\n",
       "    <tr>\n",
       "      <th class=\"blank level0\" >&nbsp;</th>\n",
       "      <th class=\"col_heading level0 col0\" >name</th>\n",
       "      <th class=\"col_heading level0 col1\" >url</th>\n",
       "      <th class=\"col_heading level0 col2\" >url2</th>\n",
       "      <th class=\"col_heading level0 col3\" >all</th>\n",
       "    </tr>\n",
       "  </thead>\n",
       "  <tbody>\n",
       "    <tr>\n",
       "      <th id=\"T_4759d_level0_row0\" class=\"row_heading level0 row0\" >0</th>\n",
       "      <td id=\"T_4759d_row0_col0\" class=\"data row0 col0\" >Softhints</td>\n",
       "      <td id=\"T_4759d_row0_col1\" class=\"data row0 col1\" >https://www.softhints.com</td>\n",
       "      <td id=\"T_4759d_row0_col2\" class=\"data row0 col2\" >https://www.blog.softhints.com/tag/pandas</td>\n",
       "      <td id=\"T_4759d_row0_col3\" class=\"data row0 col3\" >Softhints\n",
       "https://www.softhints.com\n",
       "https://www.blog.softhints.com/tag/pandas</td>\n",
       "    </tr>\n",
       "    <tr>\n",
       "      <th id=\"T_4759d_level0_row1\" class=\"row_heading level0 row1\" >1</th>\n",
       "      <td id=\"T_4759d_row1_col0\" class=\"data row1 col0\" >DataScientyst</td>\n",
       "      <td id=\"T_4759d_row1_col1\" class=\"data row1 col1\" >https://datascientyst.com</td>\n",
       "      <td id=\"T_4759d_row1_col2\" class=\"data row1 col2\" >https://datascientyst.com/tag/pandas</td>\n",
       "      <td id=\"T_4759d_row1_col3\" class=\"data row1 col3\" >DataScientyst\n",
       "https://datascientyst.com\n",
       "https://datascientyst.com/tag/pandas</td>\n",
       "    </tr>\n",
       "  </tbody>\n",
       "</table>\n"
      ],
      "text/plain": [
       "<pandas.io.formats.style.Styler at 0x7ff9771e4640>"
      ]
     },
     "metadata": {},
     "output_type": "display_data"
    }
   ],
   "source": [
    "from IPython.display import display\n",
    "\n",
    "# Assuming the variable df contains the relevant DataFrame\n",
    "display(df.style.set_properties(**{\n",
    "    'text-align': 'center',\n",
    "    'white-space': 'pre-wrap',\n",
    "}))\n"
   ]
  },
  {
   "cell_type": "code",
   "execution_count": null,
   "id": "d7eec38c",
   "metadata": {},
   "outputs": [],
   "source": []
  }
 ],
 "metadata": {
  "kernelspec": {
   "display_name": "Python 3",
   "language": "python",
   "name": "python3"
  },
  "language_info": {
   "codemirror_mode": {
    "name": "ipython",
    "version": 3
   },
   "file_extension": ".py",
   "mimetype": "text/x-python",
   "name": "python",
   "nbconvert_exporter": "python",
   "pygments_lexer": "ipython3",
   "version": "3.8.0"
  },
  "toc": {
   "base_numbering": 1,
   "nav_menu": {},
   "number_sections": false,
   "sideBar": true,
   "skip_h1_title": false,
   "title_cell": "Table of Contents",
   "title_sidebar": "Contents",
   "toc_cell": false,
   "toc_position": {},
   "toc_section_display": true,
   "toc_window_display": false
  }
 },
 "nbformat": 4,
 "nbformat_minor": 5
}
