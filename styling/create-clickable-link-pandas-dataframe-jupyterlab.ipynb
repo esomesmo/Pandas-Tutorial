{
 "cells": [
  {
   "cell_type": "markdown",
   "id": "f94b9aaa",
   "metadata": {},
   "source": [
    "# How to create a clickable link in pandas DataFrame"
   ]
  },
  {
   "cell_type": "markdown",
   "id": "b1f6d7ff",
   "metadata": {},
   "source": [
    "## Step 1: Create a Hyperlink with `to_html` and `render_links`"
   ]
  },
  {
   "cell_type": "code",
   "execution_count": 1,
   "id": "fc6c6d44",
   "metadata": {},
   "outputs": [
    {
     "data": {
      "text/html": [
       "<div>\n",
       "<style scoped>\n",
       "    .dataframe tbody tr th:only-of-type {\n",
       "        vertical-align: middle;\n",
       "    }\n",
       "\n",
       "    .dataframe tbody tr th {\n",
       "        vertical-align: top;\n",
       "    }\n",
       "\n",
       "    .dataframe thead th {\n",
       "        text-align: right;\n",
       "    }\n",
       "</style>\n",
       "<table border=\"1\" class=\"dataframe\">\n",
       "  <thead>\n",
       "    <tr style=\"text-align: right;\">\n",
       "      <th></th>\n",
       "      <th>name</th>\n",
       "      <th>url</th>\n",
       "      <th>url2</th>\n",
       "    </tr>\n",
       "  </thead>\n",
       "  <tbody>\n",
       "    <tr>\n",
       "      <th>0</th>\n",
       "      <td>Softhints</td>\n",
       "      <td>https://www.softhints.com</td>\n",
       "      <td>https://www.blog.softhints.com/tag/pandas</td>\n",
       "    </tr>\n",
       "    <tr>\n",
       "      <th>1</th>\n",
       "      <td>DataScientyst</td>\n",
       "      <td>https://datascientyst.com</td>\n",
       "      <td>https://datascientyst.com/tag/pandas</td>\n",
       "    </tr>\n",
       "  </tbody>\n",
       "</table>\n",
       "</div>"
      ],
      "text/plain": [
       "            name                        url  \\\n",
       "0      Softhints  https://www.softhints.com   \n",
       "1  DataScientyst  https://datascientyst.com   \n",
       "\n",
       "                                        url2  \n",
       "0  https://www.blog.softhints.com/tag/pandas  \n",
       "1       https://datascientyst.com/tag/pandas  "
      ]
     },
     "execution_count": 1,
     "metadata": {},
     "output_type": "execute_result"
    }
   ],
   "source": [
    "from IPython.display import HTML\n",
    "import pandas as pd\n",
    "\n",
    "df = pd.DataFrame({\n",
    "    'name':['Softhints', 'DataScientyst'],\n",
    "    'url':['https://www.softhints.com', 'https://datascientyst.com'],\n",
    "    'url2':['https://www.blog.softhints.com/tag/pandas', 'https://datascientyst.com/tag/pandas']\n",
    "})\n",
    "\n",
    "df"
   ]
  },
  {
   "cell_type": "code",
   "execution_count": 2,
   "id": "f913750b",
   "metadata": {},
   "outputs": [
    {
     "data": {
      "text/html": [
       "<table border=\"1\" class=\"dataframe\">\n",
       "  <thead>\n",
       "    <tr style=\"text-align: right;\">\n",
       "      <th></th>\n",
       "      <th>name</th>\n",
       "      <th>url</th>\n",
       "      <th>url2</th>\n",
       "    </tr>\n",
       "  </thead>\n",
       "  <tbody>\n",
       "    <tr>\n",
       "      <th>0</th>\n",
       "      <td>Softhints</td>\n",
       "      <td><a href=\"https://www.softhints.com\" target=\"_blank\">https://www.softhints.com</a></td>\n",
       "      <td><a href=\"https://www.blog.softhints.com/tag/pandas\" target=\"_blank\">https://www.blog.softhints.com/tag/pandas</a></td>\n",
       "    </tr>\n",
       "    <tr>\n",
       "      <th>1</th>\n",
       "      <td>DataScientyst</td>\n",
       "      <td><a href=\"https://datascientyst.com\" target=\"_blank\">https://datascientyst.com</a></td>\n",
       "      <td><a href=\"https://datascientyst.com/tag/pandas\" target=\"_blank\">https://datascientyst.com/tag/pandas</a></td>\n",
       "    </tr>\n",
       "  </tbody>\n",
       "</table>"
      ],
      "text/plain": [
       "<IPython.core.display.HTML object>"
      ]
     },
     "execution_count": 2,
     "metadata": {},
     "output_type": "execute_result"
    }
   ],
   "source": [
    "HTML(df.to_html(render_links=True, escape=False))"
   ]
  },
  {
   "cell_type": "markdown",
   "id": "ca6c4ee9",
   "metadata": {},
   "source": [
    "## Step 2: Create hyperlink from name and URL in Pandas with `apply`"
   ]
  },
  {
   "cell_type": "code",
   "execution_count": 3,
   "id": "6d548fa4",
   "metadata": {},
   "outputs": [
    {
     "data": {
      "text/html": [
       "<div>\n",
       "<style scoped>\n",
       "    .dataframe tbody tr th:only-of-type {\n",
       "        vertical-align: middle;\n",
       "    }\n",
       "\n",
       "    .dataframe tbody tr th {\n",
       "        vertical-align: top;\n",
       "    }\n",
       "\n",
       "    .dataframe thead th {\n",
       "        text-align: right;\n",
       "    }\n",
       "</style>\n",
       "<table border=\"1\" class=\"dataframe\">\n",
       "  <thead>\n",
       "    <tr style=\"text-align: right;\">\n",
       "      <th></th>\n",
       "      <th>name</th>\n",
       "      <th>url</th>\n",
       "    </tr>\n",
       "  </thead>\n",
       "  <tbody>\n",
       "    <tr>\n",
       "      <th>0</th>\n",
       "      <td>Softhints</td>\n",
       "      <td>https://www.softhints.com</td>\n",
       "    </tr>\n",
       "    <tr>\n",
       "      <th>1</th>\n",
       "      <td>DataScientyst</td>\n",
       "      <td>https://datascientyst.com</td>\n",
       "    </tr>\n",
       "  </tbody>\n",
       "</table>\n",
       "</div>"
      ],
      "text/plain": [
       "            name                        url\n",
       "0      Softhints  https://www.softhints.com\n",
       "1  DataScientyst  https://datascientyst.com"
      ]
     },
     "execution_count": 3,
     "metadata": {},
     "output_type": "execute_result"
    }
   ],
   "source": [
    "df = pd.DataFrame({\n",
    "    'name':['Softhints', 'DataScientyst'],\n",
    "    'url':['https://www.softhints.com', 'https://datascientyst.com']\n",
    "})\n",
    "df"
   ]
  },
  {
   "cell_type": "code",
   "execution_count": 4,
   "id": "ace33b5d",
   "metadata": {},
   "outputs": [
    {
     "data": {
      "text/html": [
       "<style type=\"text/css\">\n",
       "</style>\n",
       "<table id=\"T_ebf1f_\">\n",
       "  <thead>\n",
       "    <tr>\n",
       "      <th class=\"blank level0\" >&nbsp;</th>\n",
       "      <th class=\"col_heading level0 col0\" >name</th>\n",
       "      <th class=\"col_heading level0 col1\" >url</th>\n",
       "      <th class=\"col_heading level0 col2\" >link</th>\n",
       "    </tr>\n",
       "  </thead>\n",
       "  <tbody>\n",
       "    <tr>\n",
       "      <th id=\"T_ebf1f_level0_row0\" class=\"row_heading level0 row0\" >0</th>\n",
       "      <td id=\"T_ebf1f_row0_col0\" class=\"data row0 col0\" >Softhints</td>\n",
       "      <td id=\"T_ebf1f_row0_col1\" class=\"data row0 col1\" >https://www.softhints.com</td>\n",
       "      <td id=\"T_ebf1f_row0_col2\" class=\"data row0 col2\" ><a href=\"https://www.softhints.com\" rel=\"noopener noreferrer\" target=\"_blank\">Softhints</a></td>\n",
       "    </tr>\n",
       "    <tr>\n",
       "      <th id=\"T_ebf1f_level0_row1\" class=\"row_heading level0 row1\" >1</th>\n",
       "      <td id=\"T_ebf1f_row1_col0\" class=\"data row1 col0\" >DataScientyst</td>\n",
       "      <td id=\"T_ebf1f_row1_col1\" class=\"data row1 col1\" >https://datascientyst.com</td>\n",
       "      <td id=\"T_ebf1f_row1_col2\" class=\"data row1 col2\" ><a href=\"https://datascientyst.com\" rel=\"noopener noreferrer\" target=\"_blank\">DataScientyst</a></td>\n",
       "    </tr>\n",
       "  </tbody>\n",
       "</table>\n"
      ],
      "text/plain": [
       "<pandas.io.formats.style.Styler at 0x7f2896aa8c70>"
      ]
     },
     "execution_count": 4,
     "metadata": {},
     "output_type": "execute_result"
    }
   ],
   "source": [
    "def make_clickable(url, name):\n",
    "    return '<a href=\"{}\" rel=\"noopener noreferrer\" target=\"_blank\">{}</a>'.format(url,name)\n",
    "\n",
    "df['link'] = df.apply(lambda x: make_clickable(x['url'], x['name']), axis=1)\n",
    "df.style"
   ]
  },
  {
   "cell_type": "markdown",
   "id": "7dcf4db5",
   "metadata": {},
   "source": [
    "### Single column"
   ]
  },
  {
   "cell_type": "code",
   "execution_count": 5,
   "id": "6f50752d",
   "metadata": {},
   "outputs": [
    {
     "data": {
      "text/html": [
       "<style type=\"text/css\">\n",
       "</style>\n",
       "<table id=\"T_8c0e6_\">\n",
       "  <thead>\n",
       "    <tr>\n",
       "      <th class=\"blank level0\" >&nbsp;</th>\n",
       "      <th class=\"col_heading level0 col0\" >name</th>\n",
       "      <th class=\"col_heading level0 col1\" >url</th>\n",
       "    </tr>\n",
       "  </thead>\n",
       "  <tbody>\n",
       "    <tr>\n",
       "      <th id=\"T_8c0e6_level0_row0\" class=\"row_heading level0 row0\" >0</th>\n",
       "      <td id=\"T_8c0e6_row0_col0\" class=\"data row0 col0\" >Softhints</td>\n",
       "      <td id=\"T_8c0e6_row0_col1\" class=\"data row0 col1\" ><a target=\"_blank\" href=\"https://www.softhints.com\">https://www.softhints.com</a></td>\n",
       "    </tr>\n",
       "    <tr>\n",
       "      <th id=\"T_8c0e6_level0_row1\" class=\"row_heading level0 row1\" >1</th>\n",
       "      <td id=\"T_8c0e6_row1_col0\" class=\"data row1 col0\" >DataScientyst</td>\n",
       "      <td id=\"T_8c0e6_row1_col1\" class=\"data row1 col1\" ><a target=\"_blank\" href=\"https://datascientyst.com\">https://datascientyst.com</a></td>\n",
       "    </tr>\n",
       "  </tbody>\n",
       "</table>\n"
      ],
      "text/plain": [
       "<pandas.io.formats.style.Styler at 0x7f2896aa85b0>"
      ]
     },
     "execution_count": 5,
     "metadata": {},
     "output_type": "execute_result"
    }
   ],
   "source": [
    "df = pd.DataFrame({\n",
    "    'name':['Softhints', 'DataScientyst'],\n",
    "    'url':['https://www.softhints.com', 'https://datascientyst.com']\n",
    "})\n",
    "def make_clickable(val):\n",
    "    return f'<a target=\"_blank\" href=\"{val}\">{val}</a>'\n",
    "\n",
    "df.style.format({'url': make_clickable})"
   ]
  },
  {
   "cell_type": "code",
   "execution_count": 6,
   "id": "7f268604",
   "metadata": {},
   "outputs": [
    {
     "data": {
      "text/html": [
       "<style type=\"text/css\">\n",
       "</style>\n",
       "<table id=\"T_7b154_\">\n",
       "  <thead>\n",
       "    <tr>\n",
       "      <th class=\"blank level0\" >&nbsp;</th>\n",
       "      <th class=\"col_heading level0 col0\" >0</th>\n",
       "    </tr>\n",
       "  </thead>\n",
       "  <tbody>\n",
       "    <tr>\n",
       "      <th id=\"T_7b154_level0_row0\" class=\"row_heading level0 row0\" >0</th>\n",
       "      <td id=\"T_7b154_row0_col0\" class=\"data row0 col0\" ><a href=\"https://www.softhints.com\">https://www.softhints.com</a></td>\n",
       "    </tr>\n",
       "    <tr>\n",
       "      <th id=\"T_7b154_level0_row1\" class=\"row_heading level0 row1\" >1</th>\n",
       "      <td id=\"T_7b154_row1_col0\" class=\"data row1 col0\" ><a href=\"https://datascientyst.com\">https://datascientyst.com</a></td>\n",
       "    </tr>\n",
       "  </tbody>\n",
       "</table>\n"
      ],
      "text/plain": [
       "<pandas.io.formats.style.Styler at 0x7f28937c8730>"
      ]
     },
     "execution_count": 6,
     "metadata": {},
     "output_type": "execute_result"
    }
   ],
   "source": [
    "import pandas as pd\n",
    "df = pd.DataFrame(['https://www.softhints.com', 'https://datascientyst.com'])\n",
    "\n",
    "def make_clickable(val):\n",
    "    return f'<a href=\"{val}\">{val}</a>'\n",
    "\n",
    "df.style.format(make_clickable)"
   ]
  },
  {
   "cell_type": "markdown",
   "id": "5a5a0492",
   "metadata": {},
   "source": [
    "## Step 3: Create hyperlink from URL using lambda and to_html(escape=False)"
   ]
  },
  {
   "cell_type": "code",
   "execution_count": 7,
   "id": "a3e1e638",
   "metadata": {},
   "outputs": [
    {
     "data": {
      "text/html": [
       "<table border=\"1\" class=\"dataframe\">\n",
       "  <thead>\n",
       "    <tr style=\"text-align: right;\">\n",
       "      <th></th>\n",
       "      <th>name</th>\n",
       "    </tr>\n",
       "  </thead>\n",
       "  <tbody>\n",
       "    <tr>\n",
       "      <th>0</th>\n",
       "      <td><a href=\"http://softhints.com/tutorial/Pandas\">Pandas</a></td>\n",
       "    </tr>\n",
       "    <tr>\n",
       "      <th>1</th>\n",
       "      <td><a href=\"http://softhints.com/tutorial/Linux\">Linux</a></td>\n",
       "    </tr>\n",
       "  </tbody>\n",
       "</table>"
      ],
      "text/plain": [
       "<IPython.core.display.HTML object>"
      ]
     },
     "execution_count": 7,
     "metadata": {},
     "output_type": "execute_result"
    }
   ],
   "source": [
    "from IPython.display import HTML\n",
    "\n",
    "df = pd.DataFrame({'name':['Pandas', 'Linux']})\n",
    "\n",
    "df['name'] = df['name'].apply(lambda x: f'<a href=\"http://softhints.com/tutorial/{x}\">{x}</a>')\n",
    "HTML(df.to_html(escape=False))"
   ]
  }
 ],
 "metadata": {
  "kernelspec": {
   "display_name": "Python 3",
   "language": "python",
   "name": "python3"
  },
  "language_info": {
   "codemirror_mode": {
    "name": "ipython",
    "version": 3
   },
   "file_extension": ".py",
   "mimetype": "text/x-python",
   "name": "python",
   "nbconvert_exporter": "python",
   "pygments_lexer": "ipython3",
   "version": "3.8.0"
  },
  "toc": {
   "base_numbering": 1,
   "nav_menu": {},
   "number_sections": true,
   "sideBar": true,
   "skip_h1_title": false,
   "title_cell": "Table of Contents",
   "title_sidebar": "Contents",
   "toc_cell": false,
   "toc_position": {},
   "toc_section_display": true,
   "toc_window_display": false
  }
 },
 "nbformat": 4,
 "nbformat_minor": 5
}
