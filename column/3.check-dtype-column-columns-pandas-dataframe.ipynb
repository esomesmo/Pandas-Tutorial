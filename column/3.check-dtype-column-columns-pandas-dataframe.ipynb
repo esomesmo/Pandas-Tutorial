{
 "cells": [
  {
   "cell_type": "markdown",
   "id": "9d4ac0e8",
   "metadata": {},
   "source": [
    "# How to Check the Dtype of Column(s) in Pandas DataFrame\n",
    "\n",
    "https://datascientyst.com/check-dtype-column-columns-pandas-dataframe/\n",
    "\n",
    "| Pandas dtype | Data Type | Description | Example | Creation |\n",
    "|---|---|---|---|---|\n",
    "| bool | bool | Boolean values – True or False  | True | pd.BooleanDtype() |\n",
    "| category | NA | Limited list of values (can be fixed) | [‘red’, ‘blue’] | pd.Categorical([1, 2, 3, 1, 2, 3]) |\n",
    "| datetime64 | datetime | Datetime (conversion is needed) | 2020-11-16 22:50:18.092888+0000 | to_datetime(df['date']) |\n",
    "| float64 | float | Floating point numbers | 80.5 | df.astype('float64') |\n",
    "| int64 | int | Integer numbers | 8 | df.astype('int64') |\n",
    "| object | strings | String, text and other | Red Pandas |  |\n",
    "| timedelta | timedelta | Duration between two dates or times | 0 days 00:00:00.000000001 | pd.Timedelta(42, unit='ns') |"
   ]
  },
  {
   "cell_type": "code",
   "execution_count": 1,
   "id": "36e14601",
   "metadata": {},
   "outputs": [
    {
     "data": {
      "text/html": [
       "<div>\n",
       "<style scoped>\n",
       "    .dataframe tbody tr th:only-of-type {\n",
       "        vertical-align: middle;\n",
       "    }\n",
       "\n",
       "    .dataframe tbody tr th {\n",
       "        vertical-align: top;\n",
       "    }\n",
       "\n",
       "    .dataframe thead th {\n",
       "        text-align: right;\n",
       "    }\n",
       "</style>\n",
       "<table border=\"1\" class=\"dataframe\">\n",
       "  <thead>\n",
       "    <tr style=\"text-align: right;\">\n",
       "      <th></th>\n",
       "      <th>Date</th>\n",
       "      <th>Time</th>\n",
       "      <th>Depth</th>\n",
       "      <th>Magnitude Type</th>\n",
       "      <th>Type</th>\n",
       "      <th>Magnitude</th>\n",
       "      <th>Depth_int</th>\n",
       "    </tr>\n",
       "  </thead>\n",
       "  <tbody>\n",
       "    <tr>\n",
       "      <th>0</th>\n",
       "      <td>1965-01-02 00:00:00+00:00</td>\n",
       "      <td>13:44:18</td>\n",
       "      <td>131.60</td>\n",
       "      <td>MW</td>\n",
       "      <td>Earthquake</td>\n",
       "      <td>6.0</td>\n",
       "      <td>131</td>\n",
       "    </tr>\n",
       "    <tr>\n",
       "      <th>1</th>\n",
       "      <td>1965-01-04 00:00:00+00:00</td>\n",
       "      <td>11:29:49</td>\n",
       "      <td>80.00</td>\n",
       "      <td>MW</td>\n",
       "      <td>Earthquake</td>\n",
       "      <td>5.8</td>\n",
       "      <td>80</td>\n",
       "    </tr>\n",
       "    <tr>\n",
       "      <th>2</th>\n",
       "      <td>1965-01-05 00:00:00+00:00</td>\n",
       "      <td>18:05:58</td>\n",
       "      <td>20.00</td>\n",
       "      <td>MW</td>\n",
       "      <td>Earthquake</td>\n",
       "      <td>6.2</td>\n",
       "      <td>20</td>\n",
       "    </tr>\n",
       "    <tr>\n",
       "      <th>3</th>\n",
       "      <td>1965-01-08 00:00:00+00:00</td>\n",
       "      <td>18:49:43</td>\n",
       "      <td>15.00</td>\n",
       "      <td>MW</td>\n",
       "      <td>Earthquake</td>\n",
       "      <td>5.8</td>\n",
       "      <td>15</td>\n",
       "    </tr>\n",
       "    <tr>\n",
       "      <th>4</th>\n",
       "      <td>1965-01-09 00:00:00+00:00</td>\n",
       "      <td>13:32:50</td>\n",
       "      <td>15.00</td>\n",
       "      <td>MW</td>\n",
       "      <td>Earthquake</td>\n",
       "      <td>5.8</td>\n",
       "      <td>15</td>\n",
       "    </tr>\n",
       "    <tr>\n",
       "      <th>...</th>\n",
       "      <td>...</td>\n",
       "      <td>...</td>\n",
       "      <td>...</td>\n",
       "      <td>...</td>\n",
       "      <td>...</td>\n",
       "      <td>...</td>\n",
       "      <td>...</td>\n",
       "    </tr>\n",
       "    <tr>\n",
       "      <th>23407</th>\n",
       "      <td>2016-12-28 00:00:00+00:00</td>\n",
       "      <td>08:22:12</td>\n",
       "      <td>12.30</td>\n",
       "      <td>ML</td>\n",
       "      <td>Earthquake</td>\n",
       "      <td>5.6</td>\n",
       "      <td>12</td>\n",
       "    </tr>\n",
       "    <tr>\n",
       "      <th>23408</th>\n",
       "      <td>2016-12-28 00:00:00+00:00</td>\n",
       "      <td>09:13:47</td>\n",
       "      <td>8.80</td>\n",
       "      <td>ML</td>\n",
       "      <td>Earthquake</td>\n",
       "      <td>5.5</td>\n",
       "      <td>8</td>\n",
       "    </tr>\n",
       "    <tr>\n",
       "      <th>23409</th>\n",
       "      <td>2016-12-28 00:00:00+00:00</td>\n",
       "      <td>12:38:51</td>\n",
       "      <td>10.00</td>\n",
       "      <td>MWW</td>\n",
       "      <td>Earthquake</td>\n",
       "      <td>5.9</td>\n",
       "      <td>10</td>\n",
       "    </tr>\n",
       "    <tr>\n",
       "      <th>23410</th>\n",
       "      <td>2016-12-29 00:00:00+00:00</td>\n",
       "      <td>22:30:19</td>\n",
       "      <td>79.00</td>\n",
       "      <td>MWW</td>\n",
       "      <td>Earthquake</td>\n",
       "      <td>6.3</td>\n",
       "      <td>79</td>\n",
       "    </tr>\n",
       "    <tr>\n",
       "      <th>23411</th>\n",
       "      <td>2016-12-30 00:00:00+00:00</td>\n",
       "      <td>20:08:28</td>\n",
       "      <td>11.94</td>\n",
       "      <td>MB</td>\n",
       "      <td>Earthquake</td>\n",
       "      <td>5.5</td>\n",
       "      <td>11</td>\n",
       "    </tr>\n",
       "  </tbody>\n",
       "</table>\n",
       "<p>23412 rows × 7 columns</p>\n",
       "</div>"
      ],
      "text/plain": [
       "                           Date      Time   Depth Magnitude Type        Type  \\\n",
       "0     1965-01-02 00:00:00+00:00  13:44:18  131.60             MW  Earthquake   \n",
       "1     1965-01-04 00:00:00+00:00  11:29:49   80.00             MW  Earthquake   \n",
       "2     1965-01-05 00:00:00+00:00  18:05:58   20.00             MW  Earthquake   \n",
       "3     1965-01-08 00:00:00+00:00  18:49:43   15.00             MW  Earthquake   \n",
       "4     1965-01-09 00:00:00+00:00  13:32:50   15.00             MW  Earthquake   \n",
       "...                         ...       ...     ...            ...         ...   \n",
       "23407 2016-12-28 00:00:00+00:00  08:22:12   12.30             ML  Earthquake   \n",
       "23408 2016-12-28 00:00:00+00:00  09:13:47    8.80             ML  Earthquake   \n",
       "23409 2016-12-28 00:00:00+00:00  12:38:51   10.00            MWW  Earthquake   \n",
       "23410 2016-12-29 00:00:00+00:00  22:30:19   79.00            MWW  Earthquake   \n",
       "23411 2016-12-30 00:00:00+00:00  20:08:28   11.94             MB  Earthquake   \n",
       "\n",
       "       Magnitude  Depth_int  \n",
       "0            6.0        131  \n",
       "1            5.8         80  \n",
       "2            6.2         20  \n",
       "3            5.8         15  \n",
       "4            5.8         15  \n",
       "...          ...        ...  \n",
       "23407        5.6         12  \n",
       "23408        5.5          8  \n",
       "23409        5.9         10  \n",
       "23410        6.3         79  \n",
       "23411        5.5         11  \n",
       "\n",
       "[23412 rows x 7 columns]"
      ]
     },
     "execution_count": 1,
     "metadata": {},
     "output_type": "execute_result"
    }
   ],
   "source": [
    "import pandas as pd\n",
    "\n",
    "cols = ['Date', 'Time', 'Depth', 'Magnitude Type', 'Type', 'Magnitude']\n",
    "df = pd.read_csv(f'../data/earthquakes_1965_2016_database.csv.zip')[cols]\n",
    "df['Date'] = pd.to_datetime(df['Date'], utc=True)\n",
    "df['Depth_int'] = df['Depth'].astype(int)\n",
    "df"
   ]
  },
  {
   "cell_type": "markdown",
   "id": "75b28add",
   "metadata": {},
   "source": [
    "## Step 2: Get dtypes for all columns in DataFrame"
   ]
  },
  {
   "cell_type": "code",
   "execution_count": 2,
   "id": "72749ab9",
   "metadata": {},
   "outputs": [
    {
     "data": {
      "text/plain": [
       "Date              datetime64[ns, UTC]\n",
       "Time                           object\n",
       "Depth                         float64\n",
       "Magnitude Type                 object\n",
       "Type                           object\n",
       "Magnitude                     float64\n",
       "Depth_int                       int64\n",
       "dtype: object"
      ]
     },
     "execution_count": 2,
     "metadata": {},
     "output_type": "execute_result"
    }
   ],
   "source": [
    "df.dtypes"
   ]
  },
  {
   "cell_type": "markdown",
   "id": "edc5bfa9",
   "metadata": {},
   "source": [
    "## Step 4: Check if column is numeric, datetime, categorical etc"
   ]
  },
  {
   "cell_type": "code",
   "execution_count": 3,
   "id": "e8b25c0e",
   "metadata": {},
   "outputs": [
    {
     "data": {
      "text/plain": [
       "True"
      ]
     },
     "execution_count": 3,
     "metadata": {},
     "output_type": "execute_result"
    }
   ],
   "source": [
    "from pandas.api.types import is_numeric_dtype\n",
    "is_numeric_dtype(df['Depth_int'])"
   ]
  },
  {
   "cell_type": "code",
   "execution_count": 4,
   "id": "81244721",
   "metadata": {},
   "outputs": [
    {
     "data": {
      "text/plain": [
       "True"
      ]
     },
     "execution_count": 4,
     "metadata": {},
     "output_type": "execute_result"
    }
   ],
   "source": [
    "from pandas.api.types import is_datetime64_ns_dtype\n",
    "is_datetime64_ns_dtype(df['Date'])"
   ]
  },
  {
   "cell_type": "code",
   "execution_count": 5,
   "id": "19009865",
   "metadata": {},
   "outputs": [
    {
     "data": {
      "text/plain": [
       "True"
      ]
     },
     "execution_count": 5,
     "metadata": {},
     "output_type": "execute_result"
    }
   ],
   "source": [
    "from pandas.api.types import is_datetime64_any_dtype\n",
    "is_datetime64_any_dtype(df['Date'])"
   ]
  },
  {
   "cell_type": "markdown",
   "id": "4d3eca0e",
   "metadata": {},
   "source": [
    "## Step 5: List all numeric/datetime columns in Pandas DataFrame\n"
   ]
  },
  {
   "cell_type": "code",
   "execution_count": 6,
   "id": "a6ffdf8c",
   "metadata": {},
   "outputs": [
    {
     "data": {
      "text/plain": [
       "Index(['Depth', 'Magnitude'], dtype='object')"
      ]
     },
     "execution_count": 6,
     "metadata": {},
     "output_type": "execute_result"
    }
   ],
   "source": [
    "df.select_dtypes(include=['float64']).columns"
   ]
  },
  {
   "cell_type": "code",
   "execution_count": 7,
   "id": "fb55a274",
   "metadata": {},
   "outputs": [
    {
     "data": {
      "text/plain": [
       "Index(['Date', 'Time', 'Magnitude Type', 'Type', 'Depth_int'], dtype='object')"
      ]
     },
     "execution_count": 7,
     "metadata": {},
     "output_type": "execute_result"
    }
   ],
   "source": [
    "df.select_dtypes(exclude=['float64','datetime']).columns"
   ]
  },
  {
   "cell_type": "markdown",
   "id": "76394951",
   "metadata": {},
   "source": [
    "## Step 6: Filter columns by dtype and name in Pandas DataFrame"
   ]
  },
  {
   "cell_type": "code",
   "execution_count": 8,
   "id": "4529306a",
   "metadata": {},
   "outputs": [
    {
     "name": "stdout",
     "output_type": "stream",
     "text": [
      "Depth\n",
      "Depth_int\n"
     ]
    }
   ],
   "source": [
    "from pandas.api.types import is_numeric_dtype\n",
    "\n",
    "for col in df.columns:\n",
    "    if is_numeric_dtype(df[col]) and 'Depth' in col:\n",
    "          print(col)"
   ]
  },
  {
   "cell_type": "markdown",
   "id": "a09a8f5b",
   "metadata": {},
   "source": [
    "## Step 7: Apply function on numeric columns only"
   ]
  },
  {
   "cell_type": "code",
   "execution_count": 9,
   "id": "32f5936b",
   "metadata": {},
   "outputs": [
    {
     "data": {
      "text/html": [
       "<div>\n",
       "<style scoped>\n",
       "    .dataframe tbody tr th:only-of-type {\n",
       "        vertical-align: middle;\n",
       "    }\n",
       "\n",
       "    .dataframe tbody tr th {\n",
       "        vertical-align: top;\n",
       "    }\n",
       "\n",
       "    .dataframe thead th {\n",
       "        text-align: right;\n",
       "    }\n",
       "</style>\n",
       "<table border=\"1\" class=\"dataframe\">\n",
       "  <thead>\n",
       "    <tr style=\"text-align: right;\">\n",
       "      <th></th>\n",
       "      <th>Depth</th>\n",
       "      <th>Magnitude</th>\n",
       "    </tr>\n",
       "  </thead>\n",
       "  <tbody>\n",
       "    <tr>\n",
       "      <th>0</th>\n",
       "      <td>263.20</td>\n",
       "      <td>12.0</td>\n",
       "    </tr>\n",
       "    <tr>\n",
       "      <th>1</th>\n",
       "      <td>160.00</td>\n",
       "      <td>11.6</td>\n",
       "    </tr>\n",
       "    <tr>\n",
       "      <th>2</th>\n",
       "      <td>40.00</td>\n",
       "      <td>12.4</td>\n",
       "    </tr>\n",
       "    <tr>\n",
       "      <th>3</th>\n",
       "      <td>30.00</td>\n",
       "      <td>11.6</td>\n",
       "    </tr>\n",
       "    <tr>\n",
       "      <th>4</th>\n",
       "      <td>30.00</td>\n",
       "      <td>11.6</td>\n",
       "    </tr>\n",
       "    <tr>\n",
       "      <th>...</th>\n",
       "      <td>...</td>\n",
       "      <td>...</td>\n",
       "    </tr>\n",
       "    <tr>\n",
       "      <th>23407</th>\n",
       "      <td>24.60</td>\n",
       "      <td>11.2</td>\n",
       "    </tr>\n",
       "    <tr>\n",
       "      <th>23408</th>\n",
       "      <td>17.60</td>\n",
       "      <td>11.0</td>\n",
       "    </tr>\n",
       "    <tr>\n",
       "      <th>23409</th>\n",
       "      <td>20.00</td>\n",
       "      <td>11.8</td>\n",
       "    </tr>\n",
       "    <tr>\n",
       "      <th>23410</th>\n",
       "      <td>158.00</td>\n",
       "      <td>12.6</td>\n",
       "    </tr>\n",
       "    <tr>\n",
       "      <th>23411</th>\n",
       "      <td>23.88</td>\n",
       "      <td>11.0</td>\n",
       "    </tr>\n",
       "  </tbody>\n",
       "</table>\n",
       "<p>23412 rows × 2 columns</p>\n",
       "</div>"
      ],
      "text/plain": [
       "        Depth  Magnitude\n",
       "0      263.20       12.0\n",
       "1      160.00       11.6\n",
       "2       40.00       12.4\n",
       "3       30.00       11.6\n",
       "4       30.00       11.6\n",
       "...       ...        ...\n",
       "23407   24.60       11.2\n",
       "23408   17.60       11.0\n",
       "23409   20.00       11.8\n",
       "23410  158.00       12.6\n",
       "23411   23.88       11.0\n",
       "\n",
       "[23412 rows x 2 columns]"
      ]
     },
     "execution_count": 9,
     "metadata": {},
     "output_type": "execute_result"
    }
   ],
   "source": [
    "def double_n(x):\n",
    "    return x * 2\n",
    "\n",
    "df.select_dtypes(include=['float64']).apply(double_n)\n"
   ]
  }
 ],
 "metadata": {
  "kernelspec": {
   "display_name": "Python 3",
   "language": "python",
   "name": "python3"
  },
  "language_info": {
   "codemirror_mode": {
    "name": "ipython",
    "version": 3
   },
   "file_extension": ".py",
   "mimetype": "text/x-python",
   "name": "python",
   "nbconvert_exporter": "python",
   "pygments_lexer": "ipython3",
   "version": "3.8.0"
  },
  "toc": {
   "base_numbering": 1,
   "nav_menu": {},
   "number_sections": true,
   "sideBar": true,
   "skip_h1_title": false,
   "title_cell": "Table of Contents",
   "title_sidebar": "Contents",
   "toc_cell": false,
   "toc_position": {},
   "toc_section_display": true,
   "toc_window_display": false
  }
 },
 "nbformat": 4,
 "nbformat_minor": 5
}
