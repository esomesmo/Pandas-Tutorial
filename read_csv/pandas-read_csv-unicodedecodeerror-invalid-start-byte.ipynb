{
 "cells": [
  {
   "cell_type": "markdown",
   "id": "5cfa5684",
   "metadata": {},
   "source": [
    "# How to Fix - UnicodeDecodeError: invalid start byte - during read_csv in Pandas"
   ]
  },
  {
   "cell_type": "code",
   "execution_count": 1,
   "id": "efc09cf1",
   "metadata": {},
   "outputs": [
    {
     "name": "stdout",
     "output_type": "stream",
     "text": [
      "��a\u0000,\u0000b\u0000,\u0000c\u0000\r\n",
      "\u00001\u0000,\u00002\u0000,\u00003\u0000"
     ]
    }
   ],
   "source": [
    "!cat '../data/csv/file_utf-16.csv'"
   ]
  },
  {
   "cell_type": "markdown",
   "id": "81dbbb93",
   "metadata": {},
   "source": [
    "## Step 2: Solution of UnicodeDecodeError: change read_csv encoding "
   ]
  },
  {
   "cell_type": "code",
   "execution_count": 2,
   "id": "9bd321d0",
   "metadata": {},
   "outputs": [
    {
     "name": "stderr",
     "output_type": "stream",
     "text": [
      "Traceback (most recent call last):\n",
      "  File \"/tmp/ipykernel_18673/2588436354.py\", line 6, in <module>\n",
      "    df = pd.read_csv('../data/csv/file_utf-16.csv')\n",
      "UnicodeDecodeError: 'utf-8' codec can't decode byte 0xff in position 0: invalid start byte\n"
     ]
    }
   ],
   "source": [
    "import pandas as pd\n",
    "import traceback\n",
    "\n",
    "try:\n",
    "    \n",
    "    df = pd.read_csv('../data/csv/file_utf-16.csv')\n",
    "\n",
    "except Exception as e:\n",
    "    traceback.print_exc(limit=1)\n",
    "    exit(1)"
   ]
  },
  {
   "cell_type": "code",
   "execution_count": 3,
   "id": "6545c5fe",
   "metadata": {},
   "outputs": [
    {
     "data": {
      "text/html": [
       "<div>\n",
       "<style scoped>\n",
       "    .dataframe tbody tr th:only-of-type {\n",
       "        vertical-align: middle;\n",
       "    }\n",
       "\n",
       "    .dataframe tbody tr th {\n",
       "        vertical-align: top;\n",
       "    }\n",
       "\n",
       "    .dataframe thead th {\n",
       "        text-align: right;\n",
       "    }\n",
       "</style>\n",
       "<table border=\"1\" class=\"dataframe\">\n",
       "  <thead>\n",
       "    <tr style=\"text-align: right;\">\n",
       "      <th></th>\n",
       "      <th>a</th>\n",
       "      <th>b</th>\n",
       "      <th>c</th>\n",
       "    </tr>\n",
       "  </thead>\n",
       "  <tbody>\n",
       "    <tr>\n",
       "      <th>0</th>\n",
       "      <td>1</td>\n",
       "      <td>2</td>\n",
       "      <td>3</td>\n",
       "    </tr>\n",
       "  </tbody>\n",
       "</table>\n",
       "</div>"
      ],
      "text/plain": [
       "   a  b  c\n",
       "0  1  2  3"
      ]
     },
     "execution_count": 3,
     "metadata": {},
     "output_type": "execute_result"
    }
   ],
   "source": [
    "df = pd.read_csv('../data/csv/file_utf-16.csv', encoding='utf-16')\n",
    "df"
   ]
  },
  {
   "cell_type": "code",
   "execution_count": 4,
   "id": "f9109ea1",
   "metadata": {},
   "outputs": [
    {
     "name": "stdout",
     "output_type": "stream",
     "text": [
      "../data/csv/file_utf-16.csv: Little-endian UTF-16 Unicode text\r\n"
     ]
    }
   ],
   "source": [
    "!file '../data/csv/file_utf-16.csv'"
   ]
  },
  {
   "cell_type": "code",
   "execution_count": 5,
   "id": "abd43884",
   "metadata": {},
   "outputs": [
    {
     "name": "stdout",
     "output_type": "stream",
     "text": [
      "<_io.TextIOWrapper name='../data/csv/file_utf-16.csv' mode='r' encoding='UTF-8'>\n"
     ]
    }
   ],
   "source": [
    "with open('../data/csv/file_utf-16.csv') as f:\n",
    "    print(f)"
   ]
  },
  {
   "cell_type": "markdown",
   "id": "60fa7892",
   "metadata": {},
   "source": [
    "## Step 3: Solution of UnicodeDecodeError: skip encoding errors with encoding_errors='ignore'"
   ]
  },
  {
   "cell_type": "code",
   "execution_count": 6,
   "id": "c32a66b5",
   "metadata": {},
   "outputs": [
    {
     "data": {
      "text/html": [
       "<div>\n",
       "<style scoped>\n",
       "    .dataframe tbody tr th:only-of-type {\n",
       "        vertical-align: middle;\n",
       "    }\n",
       "\n",
       "    .dataframe tbody tr th {\n",
       "        vertical-align: top;\n",
       "    }\n",
       "\n",
       "    .dataframe thead th {\n",
       "        text-align: right;\n",
       "    }\n",
       "</style>\n",
       "<table border=\"1\" class=\"dataframe\">\n",
       "  <thead>\n",
       "    <tr style=\"text-align: right;\">\n",
       "      <th></th>\n",
       "      <th>a</th>\n",
       "    </tr>\n",
       "  </thead>\n",
       "  <tbody>\n",
       "    <tr>\n",
       "      <th>0</th>\n",
       "      <td>1</td>\n",
       "    </tr>\n",
       "  </tbody>\n",
       "</table>\n",
       "</div>"
      ],
      "text/plain": [
       "   a\n",
       "0  1"
      ]
     },
     "execution_count": 6,
     "metadata": {},
     "output_type": "execute_result"
    }
   ],
   "source": [
    "from pathlib import Path\n",
    "import pandas as pd\n",
    "\n",
    "file = Path('../data/csv/file_utf-8.csv')\n",
    "file.write_bytes(b\"\\xe4\\na\\n1\")  # non utf-8 character\n",
    "\n",
    "df = pd.read_csv(file, encoding_errors='ignore')\n",
    "df"
   ]
  },
  {
   "cell_type": "code",
   "execution_count": 7,
   "id": "0800b5ed",
   "metadata": {},
   "outputs": [
    {
     "name": "stderr",
     "output_type": "stream",
     "text": [
      "Traceback (most recent call last):\n",
      "  File \"/tmp/ipykernel_18673/2599847558.py\", line 6, in <module>\n",
      "    df = pd.read_csv(file, encoding_errors='strict')\n",
      "UnicodeDecodeError: 'utf-8' codec can't decode byte 0xe4 in position 0: invalid continuation byte\n"
     ]
    }
   ],
   "source": [
    "import pandas as pd\n",
    "import traceback\n",
    "\n",
    "try:\n",
    "    \n",
    "    df = pd.read_csv(file, encoding_errors='strict')\n",
    "\n",
    "except Exception as e:\n",
    "    traceback.print_exc(limit=1)\n",
    "    exit(1)"
   ]
  },
  {
   "cell_type": "code",
   "execution_count": 8,
   "id": "df8e2b55",
   "metadata": {},
   "outputs": [
    {
     "name": "stderr",
     "output_type": "stream",
     "text": [
      "Traceback (most recent call last):\n",
      "  File \"/tmp/ipykernel_18673/1676851375.py\", line 6, in <module>\n",
      "    df = pd.read_csv(file)\n",
      "UnicodeDecodeError: 'utf-8' codec can't decode byte 0xe4 in position 0: invalid continuation byte\n"
     ]
    }
   ],
   "source": [
    "import pandas as pd\n",
    "import traceback\n",
    "\n",
    "try:\n",
    "    \n",
    "    df = pd.read_csv(file)\n",
    "\n",
    "except Exception as e:\n",
    "    traceback.print_exc(limit=1)\n",
    "    exit(1)"
   ]
  },
  {
   "cell_type": "markdown",
   "id": "e2db1c39",
   "metadata": {},
   "source": [
    "## Step 4: Solution of UnicodeDecodeError: fix encoding errors with unicode_escape"
   ]
  },
  {
   "cell_type": "code",
   "execution_count": 9,
   "id": "726d129c",
   "metadata": {},
   "outputs": [],
   "source": [
    "df = pd.read_csv(file, encoding='unicode_escape')"
   ]
  },
  {
   "cell_type": "code",
   "execution_count": 10,
   "id": "cc49403e",
   "metadata": {},
   "outputs": [
    {
     "data": {
      "text/plain": [
       "'ä\\na\\n1'"
      ]
     },
     "execution_count": 10,
     "metadata": {},
     "output_type": "execute_result"
    }
   ],
   "source": [
    "\"\"\"\\xe4\\na\\n1\"\"\""
   ]
  },
  {
   "cell_type": "code",
   "execution_count": 11,
   "id": "fec93409",
   "metadata": {},
   "outputs": [
    {
     "data": {
      "text/plain": [
       "b'\\\\xe4\\\\na\\\\n1'"
      ]
     },
     "execution_count": 11,
     "metadata": {},
     "output_type": "execute_result"
    }
   ],
   "source": [
    "\"\"\"\\xe4\\na\\n1\"\"\".encode('unicode-escape')"
   ]
  }
 ],
 "metadata": {
  "kernelspec": {
   "display_name": "Python 3",
   "language": "python",
   "name": "python3"
  },
  "language_info": {
   "codemirror_mode": {
    "name": "ipython",
    "version": 3
   },
   "file_extension": ".py",
   "mimetype": "text/x-python",
   "name": "python",
   "nbconvert_exporter": "python",
   "pygments_lexer": "ipython3",
   "version": "3.8.0"
  },
  "toc": {
   "base_numbering": 1,
   "nav_menu": {},
   "number_sections": true,
   "sideBar": true,
   "skip_h1_title": false,
   "title_cell": "Table of Contents",
   "title_sidebar": "Contents",
   "toc_cell": false,
   "toc_position": {},
   "toc_section_display": true,
   "toc_window_display": false
  }
 },
 "nbformat": 4,
 "nbformat_minor": 5
}
