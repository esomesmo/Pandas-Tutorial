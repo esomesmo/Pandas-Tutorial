{
 "cells": [
  {
   "cell_type": "markdown",
   "id": "5cfa5684",
   "metadata": {},
   "source": [
    "# How to Skip First Rows in Pandas read_csv and skiprows?\n",
    "\n",
    "https://datascientyst.com/pandas-read-csv-file-read_csv-skiprows/"
   ]
  },
  {
   "cell_type": "code",
   "execution_count": 1,
   "id": "efc09cf1",
   "metadata": {},
   "outputs": [
    {
     "name": "stdout",
     "output_type": "stream",
     "text": [
      "Date,Company A,Company A,Company B,Company B\r\n",
      ",Rank,Points,Rank,Points\r\n",
      "2021-09-06,1,7.9,2,6\r\n",
      "2021-09-07,1,8.5,2,7\r\n",
      "2021-09-08,2,8,1,8.1\r\n"
     ]
    }
   ],
   "source": [
    "!cat '../data/csv/multine_header.csv'"
   ]
  },
  {
   "cell_type": "code",
   "execution_count": 2,
   "id": "c27c3756",
   "metadata": {},
   "outputs": [],
   "source": [
    "csv_file = '../data/csv/multine_header.csv'"
   ]
  },
  {
   "cell_type": "markdown",
   "id": "81dbbb93",
   "metadata": {},
   "source": [
    "## Step 1: Skip first N rows while reading CSV file"
   ]
  },
  {
   "cell_type": "code",
   "execution_count": 3,
   "id": "9bd321d0",
   "metadata": {},
   "outputs": [
    {
     "data": {
      "text/html": [
       "<div>\n",
       "<style scoped>\n",
       "    .dataframe tbody tr th:only-of-type {\n",
       "        vertical-align: middle;\n",
       "    }\n",
       "\n",
       "    .dataframe tbody tr th {\n",
       "        vertical-align: top;\n",
       "    }\n",
       "\n",
       "    .dataframe thead th {\n",
       "        text-align: right;\n",
       "    }\n",
       "</style>\n",
       "<table border=\"1\" class=\"dataframe\">\n",
       "  <thead>\n",
       "    <tr style=\"text-align: right;\">\n",
       "      <th></th>\n",
       "      <th>2021-09-07</th>\n",
       "      <th>1</th>\n",
       "      <th>8.5</th>\n",
       "      <th>2</th>\n",
       "      <th>7</th>\n",
       "    </tr>\n",
       "  </thead>\n",
       "  <tbody>\n",
       "    <tr>\n",
       "      <th>0</th>\n",
       "      <td>2021-09-08</td>\n",
       "      <td>2</td>\n",
       "      <td>8</td>\n",
       "      <td>1</td>\n",
       "      <td>8.1</td>\n",
       "    </tr>\n",
       "  </tbody>\n",
       "</table>\n",
       "</div>"
      ],
      "text/plain": [
       "   2021-09-07  1  8.5  2    7\n",
       "0  2021-09-08  2    8  1  8.1"
      ]
     },
     "execution_count": 3,
     "metadata": {},
     "output_type": "execute_result"
    }
   ],
   "source": [
    "import pandas as pd\n",
    "df = pd.read_csv(csv_file, skiprows=3)\n",
    "df"
   ]
  },
  {
   "cell_type": "markdown",
   "id": "75ef366d",
   "metadata": {},
   "source": [
    "## Step 2: Skip first N rows and use header"
   ]
  },
  {
   "cell_type": "code",
   "execution_count": 4,
   "id": "7f677e53",
   "metadata": {},
   "outputs": [
    {
     "data": {
      "text/html": [
       "<div>\n",
       "<style scoped>\n",
       "    .dataframe tbody tr th:only-of-type {\n",
       "        vertical-align: middle;\n",
       "    }\n",
       "\n",
       "    .dataframe tbody tr th {\n",
       "        vertical-align: top;\n",
       "    }\n",
       "\n",
       "    .dataframe thead th {\n",
       "        text-align: right;\n",
       "    }\n",
       "</style>\n",
       "<table border=\"1\" class=\"dataframe\">\n",
       "  <thead>\n",
       "    <tr style=\"text-align: right;\">\n",
       "      <th></th>\n",
       "      <th>0</th>\n",
       "      <th>1</th>\n",
       "      <th>2</th>\n",
       "      <th>3</th>\n",
       "      <th>4</th>\n",
       "    </tr>\n",
       "  </thead>\n",
       "  <tbody>\n",
       "    <tr>\n",
       "      <th>0</th>\n",
       "      <td>2021-09-07</td>\n",
       "      <td>1</td>\n",
       "      <td>8.5</td>\n",
       "      <td>2</td>\n",
       "      <td>7.0</td>\n",
       "    </tr>\n",
       "    <tr>\n",
       "      <th>1</th>\n",
       "      <td>2021-09-08</td>\n",
       "      <td>2</td>\n",
       "      <td>8.0</td>\n",
       "      <td>1</td>\n",
       "      <td>8.1</td>\n",
       "    </tr>\n",
       "  </tbody>\n",
       "</table>\n",
       "</div>"
      ],
      "text/plain": [
       "            0  1    2  3    4\n",
       "0  2021-09-07  1  8.5  2  7.0\n",
       "1  2021-09-08  2  8.0  1  8.1"
      ]
     },
     "execution_count": 4,
     "metadata": {},
     "output_type": "execute_result"
    }
   ],
   "source": [
    "df = pd.read_csv(csv_file, skiprows=3, header=None)\n",
    "df"
   ]
  },
  {
   "cell_type": "markdown",
   "id": "724df38e",
   "metadata": {},
   "source": [
    "## Step 3: Pandas keep the header and skip first rows"
   ]
  },
  {
   "cell_type": "code",
   "execution_count": 5,
   "id": "bca6d03b",
   "metadata": {},
   "outputs": [
    {
     "data": {
      "text/html": [
       "<div>\n",
       "<style scoped>\n",
       "    .dataframe tbody tr th:only-of-type {\n",
       "        vertical-align: middle;\n",
       "    }\n",
       "\n",
       "    .dataframe tbody tr th {\n",
       "        vertical-align: top;\n",
       "    }\n",
       "\n",
       "    .dataframe thead th {\n",
       "        text-align: right;\n",
       "    }\n",
       "</style>\n",
       "<table border=\"1\" class=\"dataframe\">\n",
       "  <thead>\n",
       "    <tr style=\"text-align: right;\">\n",
       "      <th></th>\n",
       "      <th>Date</th>\n",
       "      <th>Company A</th>\n",
       "      <th>Company A.1</th>\n",
       "      <th>Company B</th>\n",
       "      <th>Company B.1</th>\n",
       "    </tr>\n",
       "  </thead>\n",
       "  <tbody>\n",
       "    <tr>\n",
       "      <th>0</th>\n",
       "      <td>2021-09-07</td>\n",
       "      <td>1</td>\n",
       "      <td>8.5</td>\n",
       "      <td>2</td>\n",
       "      <td>7.0</td>\n",
       "    </tr>\n",
       "    <tr>\n",
       "      <th>1</th>\n",
       "      <td>2021-09-08</td>\n",
       "      <td>2</td>\n",
       "      <td>8.0</td>\n",
       "      <td>1</td>\n",
       "      <td>8.1</td>\n",
       "    </tr>\n",
       "  </tbody>\n",
       "</table>\n",
       "</div>"
      ],
      "text/plain": [
       "         Date  Company A  Company A.1  Company B  Company B.1\n",
       "0  2021-09-07          1          8.5          2          7.0\n",
       "1  2021-09-08          2          8.0          1          8.1"
      ]
     },
     "execution_count": 5,
     "metadata": {},
     "output_type": "execute_result"
    }
   ],
   "source": [
    "rows_to_skip = range(1,3)\n",
    "df = pd.read_csv(csv_file, skiprows=rows_to_skip)\n",
    "df"
   ]
  },
  {
   "cell_type": "markdown",
   "id": "61733f65",
   "metadata": {},
   "source": [
    "## Step 2: Skip non consecutive rows with `read_csv` by index"
   ]
  },
  {
   "cell_type": "code",
   "execution_count": 6,
   "id": "6545c5fe",
   "metadata": {},
   "outputs": [
    {
     "data": {
      "text/html": [
       "<div>\n",
       "<style scoped>\n",
       "    .dataframe tbody tr th:only-of-type {\n",
       "        vertical-align: middle;\n",
       "    }\n",
       "\n",
       "    .dataframe tbody tr th {\n",
       "        vertical-align: top;\n",
       "    }\n",
       "\n",
       "    .dataframe thead th {\n",
       "        text-align: right;\n",
       "    }\n",
       "</style>\n",
       "<table border=\"1\" class=\"dataframe\">\n",
       "  <thead>\n",
       "    <tr style=\"text-align: right;\">\n",
       "      <th></th>\n",
       "      <th>Unnamed: 0</th>\n",
       "      <th>Rank</th>\n",
       "      <th>Points</th>\n",
       "      <th>Rank.1</th>\n",
       "      <th>Points.1</th>\n",
       "    </tr>\n",
       "  </thead>\n",
       "  <tbody>\n",
       "    <tr>\n",
       "      <th>0</th>\n",
       "      <td>2021-09-07</td>\n",
       "      <td>1</td>\n",
       "      <td>8.5</td>\n",
       "      <td>2</td>\n",
       "      <td>7.0</td>\n",
       "    </tr>\n",
       "    <tr>\n",
       "      <th>1</th>\n",
       "      <td>2021-09-08</td>\n",
       "      <td>2</td>\n",
       "      <td>8.0</td>\n",
       "      <td>1</td>\n",
       "      <td>8.1</td>\n",
       "    </tr>\n",
       "  </tbody>\n",
       "</table>\n",
       "</div>"
      ],
      "text/plain": [
       "   Unnamed: 0  Rank  Points  Rank.1  Points.1\n",
       "0  2021-09-07     1     8.5       2       7.0\n",
       "1  2021-09-08     2     8.0       1       8.1"
      ]
     },
     "execution_count": 6,
     "metadata": {},
     "output_type": "execute_result"
    }
   ],
   "source": [
    "df = pd.read_csv(csv_file, skiprows=[0,2])\n",
    "df"
   ]
  }
 ],
 "metadata": {
  "kernelspec": {
   "display_name": "Python 3",
   "language": "python",
   "name": "python3"
  },
  "language_info": {
   "codemirror_mode": {
    "name": "ipython",
    "version": 3
   },
   "file_extension": ".py",
   "mimetype": "text/x-python",
   "name": "python",
   "nbconvert_exporter": "python",
   "pygments_lexer": "ipython3",
   "version": "3.8.0"
  },
  "toc": {
   "base_numbering": 1,
   "nav_menu": {},
   "number_sections": true,
   "sideBar": true,
   "skip_h1_title": false,
   "title_cell": "Table of Contents",
   "title_sidebar": "Contents",
   "toc_cell": false,
   "toc_position": {},
   "toc_section_display": true,
   "toc_window_display": false
  }
 },
 "nbformat": 4,
 "nbformat_minor": 5
}
