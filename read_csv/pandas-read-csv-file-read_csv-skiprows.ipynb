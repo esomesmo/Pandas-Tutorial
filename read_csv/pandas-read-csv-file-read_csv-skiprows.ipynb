{
 "cells": [
  {
   "cell_type": "markdown",
   "id": "5cfa5684",
   "metadata": {},
   "source": [
    "# How to Skip First Rows in Pandas read_csv and skiprows?"
   ]
  },
  {
   "cell_type": "code",
   "execution_count": 1,
   "id": "efc09cf1",
   "metadata": {},
   "outputs": [
    {
     "name": "stdout",
     "output_type": "stream",
     "text": [
      "Date,Company A,Company A,Company B,Company B\r\n",
      ",Rank,Points,Rank,Points\r\n",
      "2021-09-06,1,7.9,2,6\r\n",
      "2021-09-07,1,8.5,2,7\r\n",
      "2021-09-08,2,8,1,8.1\r\n"
     ]
    }
   ],
   "source": [
    "!cat '../data/csv/multine_header.csv'"
   ]
  },
  {
   "cell_type": "code",
   "execution_count": 2,
   "id": "8e23cc3e",
   "metadata": {},
   "outputs": [],
   "source": [
    "csv_file = '../data/csv/multine_header.csv'"
   ]
  },
  {
   "cell_type": "markdown",
   "id": "81dbbb93",
   "metadata": {},
   "source": [
    "## Step 2: Solution of UnicodeDecodeError: change read_csv encoding "
   ]
  },
  {
   "cell_type": "code",
   "execution_count": 3,
   "id": "e604bd64",
   "metadata": {},
   "outputs": [
    {
     "ename": "NameError",
     "evalue": "name 'df' is not defined",
     "output_type": "error",
     "traceback": [
      "\u001b[0;31m---------------------------------------------------------------------------\u001b[0m",
      "\u001b[0;31mNameError\u001b[0m                                 Traceback (most recent call last)",
      "\u001b[0;32m/tmp/ipykernel_7804/3774538849.py\u001b[0m in \u001b[0;36m<module>\u001b[0;34m\u001b[0m\n\u001b[1;32m      1\u001b[0m \u001b[0;32mimport\u001b[0m \u001b[0mpyperclip\u001b[0m\u001b[0;34m\u001b[0m\u001b[0;34m\u001b[0m\u001b[0m\n\u001b[1;32m      2\u001b[0m \u001b[0;34m\u001b[0m\u001b[0m\n\u001b[0;32m----> 3\u001b[0;31m \u001b[0mpyperclip\u001b[0m\u001b[0;34m.\u001b[0m\u001b[0mcopy\u001b[0m\u001b[0;34m(\u001b[0m\u001b[0;34m(\u001b[0m\u001b[0mdf\u001b[0m\u001b[0;34m.\u001b[0m\u001b[0mhead\u001b[0m\u001b[0;34m(\u001b[0m\u001b[0;34m)\u001b[0m\u001b[0;34m.\u001b[0m\u001b[0mto_html\u001b[0m\u001b[0;34m(\u001b[0m\u001b[0mclasses\u001b[0m\u001b[0;34m=\u001b[0m\u001b[0;34m'table table-striped text-center'\u001b[0m\u001b[0;34m,\u001b[0m \u001b[0mjustify\u001b[0m\u001b[0;34m=\u001b[0m\u001b[0;34m'center'\u001b[0m\u001b[0;34m,\u001b[0m \u001b[0mindex\u001b[0m\u001b[0;34m=\u001b[0m\u001b[0;32mFalse\u001b[0m\u001b[0;34m)\u001b[0m\u001b[0;34m)\u001b[0m\u001b[0;34m)\u001b[0m\u001b[0;34m\u001b[0m\u001b[0;34m\u001b[0m\u001b[0m\n\u001b[0m",
      "\u001b[0;31mNameError\u001b[0m: name 'df' is not defined"
     ]
    }
   ],
   "source": [
    "import pyperclip\n",
    "\n",
    "pyperclip.copy((df.head().to_html(classes='table table-striped text-center', justify='center', index=False)))\n"
   ]
  },
  {
   "cell_type": "code",
   "execution_count": null,
   "id": "9bd321d0",
   "metadata": {},
   "outputs": [],
   "source": [
    "import pandas as pd\n",
    "df = pd.read_csv(csv_file, skiprows=3)\n",
    "df"
   ]
  },
  {
   "cell_type": "markdown",
   "id": "8cf582b9",
   "metadata": {},
   "source": [
    "## Step 2: Skip first N rows and use header"
   ]
  },
  {
   "cell_type": "code",
   "execution_count": null,
   "id": "8bfcdcf3",
   "metadata": {},
   "outputs": [],
   "source": [
    "df = pd.read_csv(csv_file, skiprows=3, header=None)\n",
    "df"
   ]
  },
  {
   "cell_type": "markdown",
   "id": "a1b11189",
   "metadata": {},
   "source": [
    "## Step 3: Pandas keep the header and skip first rows"
   ]
  },
  {
   "cell_type": "code",
   "execution_count": null,
   "id": "9d5ffb78",
   "metadata": {},
   "outputs": [],
   "source": [
    "rows_to_skip = range(1,3)\n",
    "df = pd.read_csv(csv_file, skiprows=rows_to_skip)\n",
    "df"
   ]
  },
  {
   "cell_type": "markdown",
   "id": "4063b25c",
   "metadata": {},
   "source": [
    "## Step 2: Skip non consecutive rows with `read_csv` by index"
   ]
  },
  {
   "cell_type": "code",
   "execution_count": null,
   "id": "6545c5fe",
   "metadata": {},
   "outputs": [],
   "source": [
    "df = pd.read_csv(csv_file, skiprows=[0,2])\n",
    "df"
   ]
  }
 ],
 "metadata": {
  "kernelspec": {
   "display_name": "Python 3",
   "language": "python",
   "name": "python3"
  },
  "language_info": {
   "codemirror_mode": {
    "name": "ipython",
    "version": 3
   },
   "file_extension": ".py",
   "mimetype": "text/x-python",
   "name": "python",
   "nbconvert_exporter": "python",
   "pygments_lexer": "ipython3",
   "version": "3.8.0"
  },
  "toc": {
   "base_numbering": 1,
   "nav_menu": {},
   "number_sections": true,
   "sideBar": true,
   "skip_h1_title": false,
   "title_cell": "Table of Contents",
   "title_sidebar": "Contents",
   "toc_cell": false,
   "toc_position": {},
   "toc_section_display": true,
   "toc_window_display": false
  }
 },
 "nbformat": 4,
 "nbformat_minor": 5
}
