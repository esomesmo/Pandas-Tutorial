{
 "cells": [
  {
   "cell_type": "markdown",
   "metadata": {},
   "source": [
    "# Progress Bar for  Merge Or Concat Operation With tqdm in Pandas\n",
    "\n",
    "https://datascientyst.com/progress-bar-merge-concat-operation-tqdm-pandas/"
   ]
  },
  {
   "cell_type": "markdown",
   "metadata": {},
   "source": [
    "## Step 1: Install Dask and TQDM\n",
    "\n",
    "```python\n",
    "pip install tqdm\n",
    "pip install dask\n",
    "\n",
    "pip install tqdm -U\n",
    "pip install dask -U\n",
    "```"
   ]
  },
  {
   "cell_type": "code",
   "execution_count": 1,
   "metadata": {},
   "outputs": [],
   "source": [
    "import pandas as pd\n",
    "import numpy as np\n",
    "from tqdm import tqdm\n",
    "import dask.dataframe as dd\n",
    "\n",
    "n = 450000\n",
    "maxa = 700\n",
    "\n",
    "df1 = pd.DataFrame({'lkey': np.random.randint(0, maxa, n),'lvalue': np.random.randint(0,int(1e8),n)})\n",
    "df2 = pd.DataFrame({'rkey': np.random.randint(0, maxa, n),'rvalue': np.random.randint(0, int(1e8),n)})\n",
    "\n",
    "sd1 = dd.from_pandas(df1, npartitions=3)\n",
    "sd2 = dd.from_pandas(df2, npartitions=3)"
   ]
  },
  {
   "cell_type": "markdown",
   "metadata": {},
   "source": [
    "## Step 3: Add progress bar for merge on two DataFrames"
   ]
  },
  {
   "cell_type": "markdown",
   "metadata": {},
   "source": [
    "### context `with TqdmCallback(desc=\"compute\")`"
   ]
  },
  {
   "cell_type": "code",
   "execution_count": 2,
   "metadata": {},
   "outputs": [
    {
     "name": "stdout",
     "output_type": "stream",
     "text": [
      "\r",
      "[                                        ] | 0% Completed |  0.0s"
     ]
    },
    {
     "data": {
      "application/vnd.jupyter.widget-view+json": {
       "model_id": "cc273f3df63547fc95cfc99ab07dc77c",
       "version_major": 2,
       "version_minor": 0
      },
      "text/plain": [
       "compute:   0%|          | 0/31 [00:00<?, ?it/s]"
      ]
     },
     "metadata": {},
     "output_type": "display_data"
    },
    {
     "name": "stdout",
     "output_type": "stream",
     "text": [
      "[########################################] | 100% Completed |  6.2s\n"
     ]
    }
   ],
   "source": [
    "from tqdm.dask import TqdmCallback\n",
    "from dask.diagnostics import ProgressBar\n",
    "ProgressBar().register()\n",
    "\n",
    "with TqdmCallback(desc=\"compute\"):\n",
    "    sd1.merge(sd2, left_on='lkey', right_on='rkey').compute()"
   ]
  },
  {
   "cell_type": "markdown",
   "metadata": {},
   "source": [
    "### globally"
   ]
  },
  {
   "cell_type": "code",
   "execution_count": 3,
   "metadata": {},
   "outputs": [
    {
     "name": "stdout",
     "output_type": "stream",
     "text": [
      "\r",
      "[                                        ] | 0% Completed |  0.0s"
     ]
    },
    {
     "data": {
      "application/vnd.jupyter.widget-view+json": {
       "model_id": "3086f7d97e9149adaa2762e0a2ff7858",
       "version_major": 2,
       "version_minor": 0
      },
      "text/plain": [
       "global:   0%|          | 0/31 [00:00<?, ?it/s]"
      ]
     },
     "metadata": {},
     "output_type": "display_data"
    },
    {
     "name": "stdout",
     "output_type": "stream",
     "text": [
      "[########################################] | 100% Completed |  6.2s\n"
     ]
    }
   ],
   "source": [
    "# or use callback globally\n",
    "cb = TqdmCallback(desc=\"global\")\n",
    "cb.register()\n",
    "df = sd1.merge(sd2, left_on='lkey', right_on='rkey').compute()"
   ]
  },
  {
   "cell_type": "markdown",
   "metadata": {},
   "source": [
    "## Compare Pandas vs Dask merge performance"
   ]
  },
  {
   "cell_type": "code",
   "execution_count": 4,
   "metadata": {},
   "outputs": [],
   "source": [
    "import pandas as pd\n",
    "import numpy as np\n",
    "from tqdm import tqdm\n",
    "import dask.dataframe as dd\n",
    "\n",
    "n = 45000\n",
    "maxa = 700\n",
    "\n",
    "df1 = pd.DataFrame({'lkey': np.random.randint(0, maxa, n),'lvalue': np.random.randint(0,int(1e8),n)})\n",
    "df2 = pd.DataFrame({'rkey': np.random.randint(0, maxa, n),'rvalue': np.random.randint(0, int(1e8),n)})\n",
    "\n",
    "sd1 = dd.from_pandas(df1, npartitions=3)\n",
    "sd2 = dd.from_pandas(df2, npartitions=3)"
   ]
  },
  {
   "cell_type": "code",
   "execution_count": 5,
   "metadata": {},
   "outputs": [
    {
     "name": "stdout",
     "output_type": "stream",
     "text": [
      "10 loops, best of 3: 74.6 ms per loop\n"
     ]
    }
   ],
   "source": [
    "%timeit df1.merge(df2, left_on='lkey', right_on='rkey')"
   ]
  },
  {
   "cell_type": "code",
   "execution_count": 6,
   "metadata": {},
   "outputs": [
    {
     "name": "stdout",
     "output_type": "stream",
     "text": [
      "10 loops, best of 3: 20.8 ms per loop\n"
     ]
    }
   ],
   "source": [
    "%timeit sd1.merge(sd2, left_on='lkey', right_on='rkey')"
   ]
  },
  {
   "cell_type": "code",
   "execution_count": 7,
   "metadata": {},
   "outputs": [
    {
     "data": {
      "text/html": [
       "<div>\n",
       "<style scoped>\n",
       "    .dataframe tbody tr th:only-of-type {\n",
       "        vertical-align: middle;\n",
       "    }\n",
       "\n",
       "    .dataframe tbody tr th {\n",
       "        vertical-align: top;\n",
       "    }\n",
       "\n",
       "    .dataframe thead th {\n",
       "        text-align: right;\n",
       "    }\n",
       "</style>\n",
       "<table border=\"1\" class=\"dataframe\">\n",
       "  <thead>\n",
       "    <tr style=\"text-align: right;\">\n",
       "      <th></th>\n",
       "      <th>lkey</th>\n",
       "      <th>lvalue</th>\n",
       "      <th>rkey</th>\n",
       "      <th>rvalue</th>\n",
       "    </tr>\n",
       "  </thead>\n",
       "  <tbody>\n",
       "    <tr>\n",
       "      <th>0</th>\n",
       "      <td>190</td>\n",
       "      <td>74120230</td>\n",
       "      <td>190</td>\n",
       "      <td>22194194</td>\n",
       "    </tr>\n",
       "    <tr>\n",
       "      <th>1</th>\n",
       "      <td>190</td>\n",
       "      <td>74120230</td>\n",
       "      <td>190</td>\n",
       "      <td>89365878</td>\n",
       "    </tr>\n",
       "    <tr>\n",
       "      <th>2</th>\n",
       "      <td>190</td>\n",
       "      <td>74120230</td>\n",
       "      <td>190</td>\n",
       "      <td>46824129</td>\n",
       "    </tr>\n",
       "    <tr>\n",
       "      <th>3</th>\n",
       "      <td>190</td>\n",
       "      <td>74120230</td>\n",
       "      <td>190</td>\n",
       "      <td>73708072</td>\n",
       "    </tr>\n",
       "    <tr>\n",
       "      <th>4</th>\n",
       "      <td>190</td>\n",
       "      <td>74120230</td>\n",
       "      <td>190</td>\n",
       "      <td>38743003</td>\n",
       "    </tr>\n",
       "    <tr>\n",
       "      <th>...</th>\n",
       "      <td>...</td>\n",
       "      <td>...</td>\n",
       "      <td>...</td>\n",
       "      <td>...</td>\n",
       "    </tr>\n",
       "    <tr>\n",
       "      <th>2894666</th>\n",
       "      <td>126</td>\n",
       "      <td>24460833</td>\n",
       "      <td>126</td>\n",
       "      <td>13984908</td>\n",
       "    </tr>\n",
       "    <tr>\n",
       "      <th>2894667</th>\n",
       "      <td>126</td>\n",
       "      <td>24460833</td>\n",
       "      <td>126</td>\n",
       "      <td>73954895</td>\n",
       "    </tr>\n",
       "    <tr>\n",
       "      <th>2894668</th>\n",
       "      <td>126</td>\n",
       "      <td>24460833</td>\n",
       "      <td>126</td>\n",
       "      <td>60934273</td>\n",
       "    </tr>\n",
       "    <tr>\n",
       "      <th>2894669</th>\n",
       "      <td>126</td>\n",
       "      <td>24460833</td>\n",
       "      <td>126</td>\n",
       "      <td>30962768</td>\n",
       "    </tr>\n",
       "    <tr>\n",
       "      <th>2894670</th>\n",
       "      <td>126</td>\n",
       "      <td>24460833</td>\n",
       "      <td>126</td>\n",
       "      <td>69809221</td>\n",
       "    </tr>\n",
       "  </tbody>\n",
       "</table>\n",
       "<p>2894671 rows × 4 columns</p>\n",
       "</div>"
      ],
      "text/plain": [
       "         lkey    lvalue  rkey    rvalue\n",
       "0         190  74120230   190  22194194\n",
       "1         190  74120230   190  89365878\n",
       "2         190  74120230   190  46824129\n",
       "3         190  74120230   190  73708072\n",
       "4         190  74120230   190  38743003\n",
       "...       ...       ...   ...       ...\n",
       "2894666   126  24460833   126  13984908\n",
       "2894667   126  24460833   126  73954895\n",
       "2894668   126  24460833   126  60934273\n",
       "2894669   126  24460833   126  30962768\n",
       "2894670   126  24460833   126  69809221\n",
       "\n",
       "[2894671 rows x 4 columns]"
      ]
     },
     "execution_count": 7,
     "metadata": {},
     "output_type": "execute_result"
    }
   ],
   "source": [
    "df1.merge(df2, left_on='lkey', right_on='rkey')"
   ]
  },
  {
   "cell_type": "code",
   "execution_count": 8,
   "metadata": {},
   "outputs": [
    {
     "name": "stdout",
     "output_type": "stream",
     "text": [
      "\r",
      "[                                        ] | 0% Completed |  0.0s"
     ]
    },
    {
     "data": {
      "application/vnd.jupyter.widget-view+json": {
       "model_id": "af96cb2d06aa48889d0f7fa38ca9a2f6",
       "version_major": 2,
       "version_minor": 0
      },
      "text/plain": [
       "global:   0%|          | 0/31 [00:00<?, ?it/s]"
      ]
     },
     "metadata": {},
     "output_type": "display_data"
    },
    {
     "name": "stdout",
     "output_type": "stream",
     "text": [
      "[########################################] | 100% Completed |  0.3s\n"
     ]
    },
    {
     "data": {
      "text/html": [
       "<div>\n",
       "<style scoped>\n",
       "    .dataframe tbody tr th:only-of-type {\n",
       "        vertical-align: middle;\n",
       "    }\n",
       "\n",
       "    .dataframe tbody tr th {\n",
       "        vertical-align: top;\n",
       "    }\n",
       "\n",
       "    .dataframe thead th {\n",
       "        text-align: right;\n",
       "    }\n",
       "</style>\n",
       "<table border=\"1\" class=\"dataframe\">\n",
       "  <thead>\n",
       "    <tr style=\"text-align: right;\">\n",
       "      <th></th>\n",
       "      <th>lkey</th>\n",
       "      <th>lvalue</th>\n",
       "      <th>rkey</th>\n",
       "      <th>rvalue</th>\n",
       "    </tr>\n",
       "  </thead>\n",
       "  <tbody>\n",
       "    <tr>\n",
       "      <th>0</th>\n",
       "      <td>427</td>\n",
       "      <td>81656682</td>\n",
       "      <td>427</td>\n",
       "      <td>25865193</td>\n",
       "    </tr>\n",
       "    <tr>\n",
       "      <th>1</th>\n",
       "      <td>427</td>\n",
       "      <td>81656682</td>\n",
       "      <td>427</td>\n",
       "      <td>76718330</td>\n",
       "    </tr>\n",
       "    <tr>\n",
       "      <th>2</th>\n",
       "      <td>427</td>\n",
       "      <td>81656682</td>\n",
       "      <td>427</td>\n",
       "      <td>41007254</td>\n",
       "    </tr>\n",
       "    <tr>\n",
       "      <th>3</th>\n",
       "      <td>427</td>\n",
       "      <td>81656682</td>\n",
       "      <td>427</td>\n",
       "      <td>16779446</td>\n",
       "    </tr>\n",
       "    <tr>\n",
       "      <th>4</th>\n",
       "      <td>427</td>\n",
       "      <td>81656682</td>\n",
       "      <td>427</td>\n",
       "      <td>74411877</td>\n",
       "    </tr>\n",
       "    <tr>\n",
       "      <th>...</th>\n",
       "      <td>...</td>\n",
       "      <td>...</td>\n",
       "      <td>...</td>\n",
       "      <td>...</td>\n",
       "    </tr>\n",
       "    <tr>\n",
       "      <th>969739</th>\n",
       "      <td>650</td>\n",
       "      <td>6095988</td>\n",
       "      <td>650</td>\n",
       "      <td>12634050</td>\n",
       "    </tr>\n",
       "    <tr>\n",
       "      <th>969740</th>\n",
       "      <td>650</td>\n",
       "      <td>6095988</td>\n",
       "      <td>650</td>\n",
       "      <td>83722535</td>\n",
       "    </tr>\n",
       "    <tr>\n",
       "      <th>969741</th>\n",
       "      <td>650</td>\n",
       "      <td>6095988</td>\n",
       "      <td>650</td>\n",
       "      <td>61420075</td>\n",
       "    </tr>\n",
       "    <tr>\n",
       "      <th>969742</th>\n",
       "      <td>650</td>\n",
       "      <td>6095988</td>\n",
       "      <td>650</td>\n",
       "      <td>33649078</td>\n",
       "    </tr>\n",
       "    <tr>\n",
       "      <th>969743</th>\n",
       "      <td>650</td>\n",
       "      <td>6095988</td>\n",
       "      <td>650</td>\n",
       "      <td>91717734</td>\n",
       "    </tr>\n",
       "  </tbody>\n",
       "</table>\n",
       "<p>2894671 rows × 4 columns</p>\n",
       "</div>"
      ],
      "text/plain": [
       "        lkey    lvalue  rkey    rvalue\n",
       "0        427  81656682   427  25865193\n",
       "1        427  81656682   427  76718330\n",
       "2        427  81656682   427  41007254\n",
       "3        427  81656682   427  16779446\n",
       "4        427  81656682   427  74411877\n",
       "...      ...       ...   ...       ...\n",
       "969739   650   6095988   650  12634050\n",
       "969740   650   6095988   650  83722535\n",
       "969741   650   6095988   650  61420075\n",
       "969742   650   6095988   650  33649078\n",
       "969743   650   6095988   650  91717734\n",
       "\n",
       "[2894671 rows x 4 columns]"
      ]
     },
     "execution_count": 8,
     "metadata": {},
     "output_type": "execute_result"
    }
   ],
   "source": [
    "sd1.merge(sd2, left_on='lkey', right_on='rkey').compute()"
   ]
  },
  {
   "cell_type": "code",
   "execution_count": null,
   "metadata": {},
   "outputs": [],
   "source": []
  }
 ],
 "metadata": {
  "kernelspec": {
   "display_name": "Python 3",
   "language": "python",
   "name": "python3"
  },
  "language_info": {
   "codemirror_mode": {
    "name": "ipython",
    "version": 3
   },
   "file_extension": ".py",
   "mimetype": "text/x-python",
   "name": "python",
   "nbconvert_exporter": "python",
   "pygments_lexer": "ipython3",
   "version": "3.6.9"
  },
  "toc": {
   "base_numbering": 1,
   "nav_menu": {},
   "number_sections": true,
   "sideBar": true,
   "skip_h1_title": false,
   "title_cell": "Table of Contents",
   "title_sidebar": "Contents",
   "toc_cell": false,
   "toc_position": {},
   "toc_section_display": true,
   "toc_window_display": false
  }
 },
 "nbformat": 4,
 "nbformat_minor": 2
}
