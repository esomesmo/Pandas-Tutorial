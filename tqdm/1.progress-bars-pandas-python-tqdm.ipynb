{
 "cells": [
  {
   "cell_type": "markdown",
   "metadata": {},
   "source": [
    "# Progress Bars in Pandas/Python - TQDM\n",
    "\n",
    "https://datascientyst.com/progress-bars-pandas-python-tqdm/"
   ]
  },
  {
   "cell_type": "markdown",
   "metadata": {},
   "source": [
    "## Step 1: Install and Update TQDM\n",
    "\n",
    "```python\n",
    "pip install tqdm\n",
    "\n",
    "pip install tqdm -U\n",
    "```\n"
   ]
  },
  {
   "cell_type": "code",
   "execution_count": 1,
   "metadata": {},
   "outputs": [
    {
     "name": "stderr",
     "output_type": "stream",
     "text": [
      "power DataFrame 1M x 100 of random int!: 100%|██████████| 100/100 [00:02<00:00, 47.11it/s]\n",
      "power DataFrame 1M x 100 of random int!: 100%|██████████| 100/100 [00:00<00:00, 162318.27it/s]\n"
     ]
    },
    {
     "data": {
      "text/plain": [
       "0\n",
       "0     100902025\n",
       "1      97990201\n",
       "2     102799321\n",
       "3     100500625\n",
       "4     100902025\n",
       "        ...    \n",
       "95     99321156\n",
       "96     97891236\n",
       "97     99281296\n",
       "98    101425041\n",
       "99     97713225\n",
       "Name: 1, Length: 100, dtype: int64"
      ]
     },
     "execution_count": 1,
     "metadata": {},
     "output_type": "execute_result"
    }
   ],
   "source": [
    "import pandas as pd\n",
    "import numpy as np\n",
    "from tqdm import tqdm\n",
    "\n",
    "df = pd.DataFrame(np.random.randint(0, 100, (1000000, 100)))\n",
    "\n",
    "tqdm.pandas(desc=\"power DataFrame 1M x 100 of random int!\")\n",
    "\n",
    "df.progress_apply(lambda x: x**2)\n",
    "df.groupby(0)[1].count().progress_apply(lambda x: x**2)"
   ]
  },
  {
   "cell_type": "markdown",
   "metadata": {},
   "source": [
    "## Step 2: Show Progress bar on loops"
   ]
  },
  {
   "cell_type": "code",
   "execution_count": 2,
   "metadata": {},
   "outputs": [
    {
     "name": "stderr",
     "output_type": "stream",
     "text": [
      "100%|██████████| 2000000/2000000 [00:01<00:00, 1631071.96it/s]\n"
     ]
    }
   ],
   "source": [
    "import numpy as np\n",
    "from tqdm import tqdm \n",
    "\n",
    "myrange = np.arange(2000000)\n",
    "i_2 = []\n",
    "\n",
    "for i in tqdm(myrange):\n",
    "    i_2.append(i**2)"
   ]
  },
  {
   "cell_type": "markdown",
   "metadata": {},
   "source": [
    "## Step 3: Change progress bar size and style"
   ]
  },
  {
   "cell_type": "code",
   "execution_count": 3,
   "metadata": {},
   "outputs": [
    {
     "data": {
      "application/vnd.jupyter.widget-view+json": {
       "model_id": "b8cd444b51a747cfbeacd961773728bd",
       "version_major": 2,
       "version_minor": 0
      },
      "text/plain": [
       "  0%|          | 0/2000000 [00:00<?, ?it/s]"
      ]
     },
     "metadata": {},
     "output_type": "display_data"
    }
   ],
   "source": [
    "import numpy as np\n",
    "from tqdm.auto import tqdm \n",
    "\n",
    "myrange = np.arange(2000000)\n",
    "i_2 = []\n",
    "\n",
    "for i in tqdm(myrange):\n",
    "    i_2.append(i**2)"
   ]
  },
  {
   "cell_type": "code",
   "execution_count": 4,
   "metadata": {},
   "outputs": [
    {
     "name": "stderr",
     "output_type": "stream",
     "text": [
      "     100%|██████████████████████████████████████████████████| 2000000/2000000 [00:01<00:00, 1531504.29it/s]\n"
     ]
    }
   ],
   "source": [
    "import numpy as np\n",
    "from tqdm import tqdm \n",
    "\n",
    "myrange = np.arange(2000000)\n",
    "i_2 = []\n",
    "\n",
    "for i in tqdm(myrange, bar_format='{desc:<5.5}{percentage:3.0f}%|{bar:50}{r_bar}'):\n",
    "    i_2.append(i**2)"
   ]
  },
  {
   "cell_type": "markdown",
   "metadata": {},
   "source": [
    "## Step 4: Progress bar during Pandas operations"
   ]
  },
  {
   "cell_type": "markdown",
   "metadata": {},
   "source": [
    "### Pandas iterrows and progress bar"
   ]
  },
  {
   "cell_type": "code",
   "execution_count": null,
   "metadata": {},
   "outputs": [
    {
     "name": "stderr",
     "output_type": "stream",
     "text": [
      " 78%|███████▊  | 777739/1000000 [00:59<00:16, 13378.94it/s]"
     ]
    }
   ],
   "source": [
    "from time import sleep\n",
    "\n",
    "for index, row in tqdm(df.iterrows(), total=df.shape[0]):\n",
    "    sleep(0)"
   ]
  },
  {
   "cell_type": "markdown",
   "metadata": {},
   "source": [
    "### Pandas progress bar for lambda"
   ]
  },
  {
   "cell_type": "code",
   "execution_count": null,
   "metadata": {},
   "outputs": [],
   "source": [
    "tqdm.pandas(desc=\"power DataFrame 1M x 100 of random int!\")\n",
    "\n",
    "df.progress_apply(lambda x: x**2)"
   ]
  },
  {
   "cell_type": "markdown",
   "metadata": {},
   "source": [
    "### Pandas progress bar for function with progress_map"
   ]
  },
  {
   "cell_type": "code",
   "execution_count": null,
   "metadata": {},
   "outputs": [],
   "source": [
    "from tqdm import tqdm\n",
    "\n",
    "def cube(x):\n",
    "    return x ** 2\n",
    "\n",
    "tqdm.pandas()\n",
    "\n",
    "df['cube'] = df[0].progress_map(cube)"
   ]
  },
  {
   "cell_type": "markdown",
   "metadata": {},
   "source": [
    "### Pandas progress bar for dictionary map"
   ]
  },
  {
   "cell_type": "code",
   "execution_count": null,
   "metadata": {},
   "outputs": [],
   "source": [
    "mapping = {15:'a', 9:'b'}\n",
    "\n",
    "df[0].progress_map(lambda x: mapping.get(x))"
   ]
  },
  {
   "cell_type": "markdown",
   "metadata": {},
   "source": [
    "### Pandas progress_aggregate"
   ]
  },
  {
   "cell_type": "code",
   "execution_count": null,
   "metadata": {},
   "outputs": [],
   "source": [
    "from tqdm import tqdm\n",
    "tqdm.pandas()\n",
    "\n",
    "df.groupby(0).progress_aggregate(sum)"
   ]
  },
  {
   "cell_type": "code",
   "execution_count": null,
   "metadata": {},
   "outputs": [],
   "source": []
  }
 ],
 "metadata": {
  "kernelspec": {
   "display_name": "Python 3",
   "language": "python",
   "name": "python3"
  },
  "language_info": {
   "codemirror_mode": {
    "name": "ipython",
    "version": 3
   },
   "file_extension": ".py",
   "mimetype": "text/x-python",
   "name": "python",
   "nbconvert_exporter": "python",
   "pygments_lexer": "ipython3",
   "version": "3.6.9"
  },
  "toc": {
   "base_numbering": 1,
   "nav_menu": {},
   "number_sections": true,
   "sideBar": true,
   "skip_h1_title": false,
   "title_cell": "Table of Contents",
   "title_sidebar": "Contents",
   "toc_cell": false,
   "toc_position": {},
   "toc_section_display": true,
   "toc_window_display": false
  }
 },
 "nbformat": 4,
 "nbformat_minor": 2
}
