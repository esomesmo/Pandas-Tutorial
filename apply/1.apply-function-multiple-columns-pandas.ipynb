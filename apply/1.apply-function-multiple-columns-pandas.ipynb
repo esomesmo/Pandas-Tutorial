{
 "cells": [
  {
   "cell_type": "markdown",
   "metadata": {},
   "source": [
    "# How to apply function to multiple columns in Pandas"
   ]
  },
  {
   "cell_type": "code",
   "execution_count": 1,
   "metadata": {},
   "outputs": [
    {
     "data": {
      "text/html": [
       "<div>\n",
       "<style scoped>\n",
       "    .dataframe tbody tr th:only-of-type {\n",
       "        vertical-align: middle;\n",
       "    }\n",
       "\n",
       "    .dataframe tbody tr th {\n",
       "        vertical-align: top;\n",
       "    }\n",
       "\n",
       "    .dataframe thead th {\n",
       "        text-align: right;\n",
       "    }\n",
       "</style>\n",
       "<table border=\"1\" class=\"dataframe\">\n",
       "  <thead>\n",
       "    <tr style=\"text-align: right;\">\n",
       "      <th></th>\n",
       "      <th>Date</th>\n",
       "      <th>Time</th>\n",
       "      <th>Latitude</th>\n",
       "      <th>Longitude</th>\n",
       "      <th>Type</th>\n",
       "      <th>Depth</th>\n",
       "      <th>Depth Error</th>\n",
       "      <th>Depth Seismic Stations</th>\n",
       "      <th>Magnitude</th>\n",
       "      <th>Magnitude Type</th>\n",
       "      <th>...</th>\n",
       "      <th>Magnitude Seismic Stations</th>\n",
       "      <th>Azimuthal Gap</th>\n",
       "      <th>Horizontal Distance</th>\n",
       "      <th>Horizontal Error</th>\n",
       "      <th>Root Mean Square</th>\n",
       "      <th>ID</th>\n",
       "      <th>Source</th>\n",
       "      <th>Location Source</th>\n",
       "      <th>Magnitude Source</th>\n",
       "      <th>Status</th>\n",
       "    </tr>\n",
       "  </thead>\n",
       "  <tbody>\n",
       "    <tr>\n",
       "      <th>23402</th>\n",
       "      <td>12/24/2016</td>\n",
       "      <td>03:58:55</td>\n",
       "      <td>-5.1460</td>\n",
       "      <td>153.5166</td>\n",
       "      <td>Earthquake</td>\n",
       "      <td>30.00</td>\n",
       "      <td>1.8</td>\n",
       "      <td>NaN</td>\n",
       "      <td>5.8</td>\n",
       "      <td>MWW</td>\n",
       "      <td>...</td>\n",
       "      <td>NaN</td>\n",
       "      <td>14.00</td>\n",
       "      <td>1.648</td>\n",
       "      <td>7.0</td>\n",
       "      <td>0.8500</td>\n",
       "      <td>US10007MFP</td>\n",
       "      <td>US</td>\n",
       "      <td>US</td>\n",
       "      <td>US</td>\n",
       "      <td>Reviewed</td>\n",
       "    </tr>\n",
       "    <tr>\n",
       "      <th>23403</th>\n",
       "      <td>12/25/2016</td>\n",
       "      <td>14:22:27</td>\n",
       "      <td>-43.4029</td>\n",
       "      <td>-73.9395</td>\n",
       "      <td>Earthquake</td>\n",
       "      <td>38.00</td>\n",
       "      <td>1.9</td>\n",
       "      <td>NaN</td>\n",
       "      <td>7.6</td>\n",
       "      <td>MWW</td>\n",
       "      <td>...</td>\n",
       "      <td>NaN</td>\n",
       "      <td>29.00</td>\n",
       "      <td>0.351</td>\n",
       "      <td>6.8</td>\n",
       "      <td>0.8000</td>\n",
       "      <td>US10007MN3</td>\n",
       "      <td>US</td>\n",
       "      <td>US</td>\n",
       "      <td>US</td>\n",
       "      <td>Reviewed</td>\n",
       "    </tr>\n",
       "    <tr>\n",
       "      <th>23404</th>\n",
       "      <td>12/25/2016</td>\n",
       "      <td>14:32:13</td>\n",
       "      <td>-43.4810</td>\n",
       "      <td>-74.4771</td>\n",
       "      <td>Earthquake</td>\n",
       "      <td>14.93</td>\n",
       "      <td>3.3</td>\n",
       "      <td>NaN</td>\n",
       "      <td>5.6</td>\n",
       "      <td>MB</td>\n",
       "      <td>...</td>\n",
       "      <td>83.0</td>\n",
       "      <td>96.00</td>\n",
       "      <td>0.697</td>\n",
       "      <td>7.1</td>\n",
       "      <td>0.5200</td>\n",
       "      <td>US10007MNB</td>\n",
       "      <td>US</td>\n",
       "      <td>US</td>\n",
       "      <td>US</td>\n",
       "      <td>Reviewed</td>\n",
       "    </tr>\n",
       "    <tr>\n",
       "      <th>23405</th>\n",
       "      <td>12/27/2016</td>\n",
       "      <td>23:20:56</td>\n",
       "      <td>45.7192</td>\n",
       "      <td>26.5230</td>\n",
       "      <td>Earthquake</td>\n",
       "      <td>97.00</td>\n",
       "      <td>1.8</td>\n",
       "      <td>NaN</td>\n",
       "      <td>5.6</td>\n",
       "      <td>MWW</td>\n",
       "      <td>...</td>\n",
       "      <td>NaN</td>\n",
       "      <td>14.00</td>\n",
       "      <td>0.465</td>\n",
       "      <td>5.1</td>\n",
       "      <td>0.7800</td>\n",
       "      <td>US10007N3R</td>\n",
       "      <td>US</td>\n",
       "      <td>US</td>\n",
       "      <td>US</td>\n",
       "      <td>Reviewed</td>\n",
       "    </tr>\n",
       "    <tr>\n",
       "      <th>23406</th>\n",
       "      <td>12/28/2016</td>\n",
       "      <td>08:18:01</td>\n",
       "      <td>38.3754</td>\n",
       "      <td>-118.8977</td>\n",
       "      <td>Earthquake</td>\n",
       "      <td>10.80</td>\n",
       "      <td>1.3</td>\n",
       "      <td>34.0</td>\n",
       "      <td>5.6</td>\n",
       "      <td>ML</td>\n",
       "      <td>...</td>\n",
       "      <td>20.0</td>\n",
       "      <td>35.86</td>\n",
       "      <td>0.132</td>\n",
       "      <td>NaN</td>\n",
       "      <td>0.1988</td>\n",
       "      <td>NN00570709</td>\n",
       "      <td>NN</td>\n",
       "      <td>NN</td>\n",
       "      <td>NN</td>\n",
       "      <td>Reviewed</td>\n",
       "    </tr>\n",
       "    <tr>\n",
       "      <th>23407</th>\n",
       "      <td>12/28/2016</td>\n",
       "      <td>08:22:12</td>\n",
       "      <td>38.3917</td>\n",
       "      <td>-118.8941</td>\n",
       "      <td>Earthquake</td>\n",
       "      <td>12.30</td>\n",
       "      <td>1.2</td>\n",
       "      <td>40.0</td>\n",
       "      <td>5.6</td>\n",
       "      <td>ML</td>\n",
       "      <td>...</td>\n",
       "      <td>18.0</td>\n",
       "      <td>42.47</td>\n",
       "      <td>0.120</td>\n",
       "      <td>NaN</td>\n",
       "      <td>0.1898</td>\n",
       "      <td>NN00570710</td>\n",
       "      <td>NN</td>\n",
       "      <td>NN</td>\n",
       "      <td>NN</td>\n",
       "      <td>Reviewed</td>\n",
       "    </tr>\n",
       "    <tr>\n",
       "      <th>23408</th>\n",
       "      <td>12/28/2016</td>\n",
       "      <td>09:13:47</td>\n",
       "      <td>38.3777</td>\n",
       "      <td>-118.8957</td>\n",
       "      <td>Earthquake</td>\n",
       "      <td>8.80</td>\n",
       "      <td>2.0</td>\n",
       "      <td>33.0</td>\n",
       "      <td>5.5</td>\n",
       "      <td>ML</td>\n",
       "      <td>...</td>\n",
       "      <td>18.0</td>\n",
       "      <td>48.58</td>\n",
       "      <td>0.129</td>\n",
       "      <td>NaN</td>\n",
       "      <td>0.2187</td>\n",
       "      <td>NN00570744</td>\n",
       "      <td>NN</td>\n",
       "      <td>NN</td>\n",
       "      <td>NN</td>\n",
       "      <td>Reviewed</td>\n",
       "    </tr>\n",
       "    <tr>\n",
       "      <th>23409</th>\n",
       "      <td>12/28/2016</td>\n",
       "      <td>12:38:51</td>\n",
       "      <td>36.9179</td>\n",
       "      <td>140.4262</td>\n",
       "      <td>Earthquake</td>\n",
       "      <td>10.00</td>\n",
       "      <td>1.8</td>\n",
       "      <td>NaN</td>\n",
       "      <td>5.9</td>\n",
       "      <td>MWW</td>\n",
       "      <td>...</td>\n",
       "      <td>NaN</td>\n",
       "      <td>91.00</td>\n",
       "      <td>0.992</td>\n",
       "      <td>4.8</td>\n",
       "      <td>1.5200</td>\n",
       "      <td>US10007NAF</td>\n",
       "      <td>US</td>\n",
       "      <td>US</td>\n",
       "      <td>US</td>\n",
       "      <td>Reviewed</td>\n",
       "    </tr>\n",
       "    <tr>\n",
       "      <th>23410</th>\n",
       "      <td>12/29/2016</td>\n",
       "      <td>22:30:19</td>\n",
       "      <td>-9.0283</td>\n",
       "      <td>118.6639</td>\n",
       "      <td>Earthquake</td>\n",
       "      <td>79.00</td>\n",
       "      <td>1.8</td>\n",
       "      <td>NaN</td>\n",
       "      <td>6.3</td>\n",
       "      <td>MWW</td>\n",
       "      <td>...</td>\n",
       "      <td>NaN</td>\n",
       "      <td>26.00</td>\n",
       "      <td>3.553</td>\n",
       "      <td>6.0</td>\n",
       "      <td>1.4300</td>\n",
       "      <td>US10007NL0</td>\n",
       "      <td>US</td>\n",
       "      <td>US</td>\n",
       "      <td>US</td>\n",
       "      <td>Reviewed</td>\n",
       "    </tr>\n",
       "    <tr>\n",
       "      <th>23411</th>\n",
       "      <td>12/30/2016</td>\n",
       "      <td>20:08:28</td>\n",
       "      <td>37.3973</td>\n",
       "      <td>141.4103</td>\n",
       "      <td>Earthquake</td>\n",
       "      <td>11.94</td>\n",
       "      <td>2.2</td>\n",
       "      <td>NaN</td>\n",
       "      <td>5.5</td>\n",
       "      <td>MB</td>\n",
       "      <td>...</td>\n",
       "      <td>428.0</td>\n",
       "      <td>97.00</td>\n",
       "      <td>0.681</td>\n",
       "      <td>4.5</td>\n",
       "      <td>0.9100</td>\n",
       "      <td>US10007NTD</td>\n",
       "      <td>US</td>\n",
       "      <td>US</td>\n",
       "      <td>US</td>\n",
       "      <td>Reviewed</td>\n",
       "    </tr>\n",
       "  </tbody>\n",
       "</table>\n",
       "<p>10 rows × 21 columns</p>\n",
       "</div>"
      ],
      "text/plain": [
       "             Date      Time  Latitude  Longitude        Type  Depth  \\\n",
       "23402  12/24/2016  03:58:55   -5.1460   153.5166  Earthquake  30.00   \n",
       "23403  12/25/2016  14:22:27  -43.4029   -73.9395  Earthquake  38.00   \n",
       "23404  12/25/2016  14:32:13  -43.4810   -74.4771  Earthquake  14.93   \n",
       "23405  12/27/2016  23:20:56   45.7192    26.5230  Earthquake  97.00   \n",
       "23406  12/28/2016  08:18:01   38.3754  -118.8977  Earthquake  10.80   \n",
       "23407  12/28/2016  08:22:12   38.3917  -118.8941  Earthquake  12.30   \n",
       "23408  12/28/2016  09:13:47   38.3777  -118.8957  Earthquake   8.80   \n",
       "23409  12/28/2016  12:38:51   36.9179   140.4262  Earthquake  10.00   \n",
       "23410  12/29/2016  22:30:19   -9.0283   118.6639  Earthquake  79.00   \n",
       "23411  12/30/2016  20:08:28   37.3973   141.4103  Earthquake  11.94   \n",
       "\n",
       "       Depth Error  Depth Seismic Stations  Magnitude Magnitude Type  ...  \\\n",
       "23402          1.8                     NaN        5.8            MWW  ...   \n",
       "23403          1.9                     NaN        7.6            MWW  ...   \n",
       "23404          3.3                     NaN        5.6             MB  ...   \n",
       "23405          1.8                     NaN        5.6            MWW  ...   \n",
       "23406          1.3                    34.0        5.6             ML  ...   \n",
       "23407          1.2                    40.0        5.6             ML  ...   \n",
       "23408          2.0                    33.0        5.5             ML  ...   \n",
       "23409          1.8                     NaN        5.9            MWW  ...   \n",
       "23410          1.8                     NaN        6.3            MWW  ...   \n",
       "23411          2.2                     NaN        5.5             MB  ...   \n",
       "\n",
       "       Magnitude Seismic Stations  Azimuthal Gap  Horizontal Distance  \\\n",
       "23402                         NaN          14.00                1.648   \n",
       "23403                         NaN          29.00                0.351   \n",
       "23404                        83.0          96.00                0.697   \n",
       "23405                         NaN          14.00                0.465   \n",
       "23406                        20.0          35.86                0.132   \n",
       "23407                        18.0          42.47                0.120   \n",
       "23408                        18.0          48.58                0.129   \n",
       "23409                         NaN          91.00                0.992   \n",
       "23410                         NaN          26.00                3.553   \n",
       "23411                       428.0          97.00                0.681   \n",
       "\n",
       "       Horizontal Error  Root Mean Square          ID Source Location Source  \\\n",
       "23402               7.0            0.8500  US10007MFP     US              US   \n",
       "23403               6.8            0.8000  US10007MN3     US              US   \n",
       "23404               7.1            0.5200  US10007MNB     US              US   \n",
       "23405               5.1            0.7800  US10007N3R     US              US   \n",
       "23406               NaN            0.1988  NN00570709     NN              NN   \n",
       "23407               NaN            0.1898  NN00570710     NN              NN   \n",
       "23408               NaN            0.2187  NN00570744     NN              NN   \n",
       "23409               4.8            1.5200  US10007NAF     US              US   \n",
       "23410               6.0            1.4300  US10007NL0     US              US   \n",
       "23411               4.5            0.9100  US10007NTD     US              US   \n",
       "\n",
       "      Magnitude Source    Status  \n",
       "23402               US  Reviewed  \n",
       "23403               US  Reviewed  \n",
       "23404               US  Reviewed  \n",
       "23405               US  Reviewed  \n",
       "23406               NN  Reviewed  \n",
       "23407               NN  Reviewed  \n",
       "23408               NN  Reviewed  \n",
       "23409               US  Reviewed  \n",
       "23410               US  Reviewed  \n",
       "23411               US  Reviewed  \n",
       "\n",
       "[10 rows x 21 columns]"
      ]
     },
     "execution_count": 1,
     "metadata": {},
     "output_type": "execute_result"
    }
   ],
   "source": [
    "import pandas as pd\n",
    "\n",
    "df = pd.read_csv(f'../data/earthquakes_1965_2016_database.csv.zip').tail(10)\n",
    "df"
   ]
  },
  {
   "cell_type": "markdown",
   "metadata": {},
   "source": [
    "## Apply function"
   ]
  },
  {
   "cell_type": "code",
   "execution_count": 3,
   "metadata": {},
   "outputs": [
    {
     "data": {
      "text/plain": [
       "23402    Papua Niugini\n",
       "23403            Chile\n",
       "23404            Chile\n",
       "23405          România\n",
       "23406    United States\n",
       "23407    United States\n",
       "23408    United States\n",
       "23409               日本\n",
       "23410        Indonesia\n",
       "23411       no country\n",
       "dtype: object"
      ]
     },
     "execution_count": 3,
     "metadata": {},
     "output_type": "execute_result"
    }
   ],
   "source": [
    "import geocoder\n",
    "\n",
    "def geo_rev(x):\n",
    "    g = geocoder.osm([x['Latitude'], x['Longitude']], method='reverse').json\n",
    "    if g:\n",
    "        return g.get('country')\n",
    "    else:\n",
    "        return 'no country'\n",
    "\n",
    "df.apply(geo_rev, axis=1)"
   ]
  },
  {
   "cell_type": "markdown",
   "metadata": {},
   "source": [
    "## Apply function with parameters"
   ]
  },
  {
   "cell_type": "code",
   "execution_count": 4,
   "metadata": {},
   "outputs": [
    {
     "data": {
      "text/plain": [
       "23402    12/24/2016 03:58:55\n",
       "23403    12/25/2016 14:22:27\n",
       "23404    12/25/2016 14:32:13\n",
       "23405    12/27/2016 23:20:56\n",
       "23406    12/28/2016 08:18:01\n",
       "23407    12/28/2016 08:22:12\n",
       "23408    12/28/2016 09:13:47\n",
       "23409    12/28/2016 12:38:51\n",
       "23410    12/29/2016 22:30:19\n",
       "23411    12/30/2016 20:08:28\n",
       "dtype: object"
      ]
     },
     "execution_count": 4,
     "metadata": {},
     "output_type": "execute_result"
    }
   ],
   "source": [
    "def get_date_time(row, date, time):\n",
    "    return row[date] + ' ' +row[time]\n",
    "\n",
    "df.apply(get_date_time, axis=1, date='Date', time='Time')"
   ]
  },
  {
   "cell_type": "markdown",
   "metadata": {},
   "source": [
    "## Lambda multiple input values"
   ]
  },
  {
   "cell_type": "code",
   "execution_count": 5,
   "metadata": {},
   "outputs": [
    {
     "data": {
      "text/plain": [
       "23402    Papua Niugini\n",
       "23403            Chile\n",
       "23404            Chile\n",
       "23405          România\n",
       "23406    United States\n",
       "23407    United States\n",
       "23408    United States\n",
       "23409               日本\n",
       "23410        Indonesia\n",
       "23411       no country\n",
       "dtype: object"
      ]
     },
     "execution_count": 5,
     "metadata": {},
     "output_type": "execute_result"
    }
   ],
   "source": [
    "import pandas as pd\n",
    "\n",
    "def geo_rev(lat, lon):\n",
    "    g = geocoder.osm([lat, lon], method='reverse').json\n",
    "    if g:\n",
    "        return g.get('country')\n",
    "    else:\n",
    "        return 'no country'\n",
    "\n",
    "df.apply(lambda x: geo_rev(x['Latitude'], x['Longitude']), axis=1)"
   ]
  },
  {
   "cell_type": "code",
   "execution_count": 6,
   "metadata": {},
   "outputs": [],
   "source": [
    "df['country'] = df.apply(lambda x: geo_rev(x['Latitude'], x['Longitude']), axis=1)"
   ]
  },
  {
   "cell_type": "markdown",
   "metadata": {},
   "source": [
    "## Multiple columns"
   ]
  },
  {
   "cell_type": "code",
   "execution_count": 7,
   "metadata": {},
   "outputs": [
    {
     "data": {
      "text/plain": [
       "23402    Papua Niugini 5.8\n",
       "23403            Chile 7.6\n",
       "23404            Chile 5.6\n",
       "23405          România 5.6\n",
       "23406    United States 5.6\n",
       "23407    United States 5.6\n",
       "23408    United States 5.5\n",
       "23409               日本 5.9\n",
       "23410        Indonesia 6.3\n",
       "23411          no country \n",
       "dtype: object"
      ]
     },
     "execution_count": 7,
     "metadata": {},
     "output_type": "execute_result"
    }
   ],
   "source": [
    "def geo_rev(lat, lon, mag):\n",
    "    g = geocoder.osm([lat, lon], method='reverse').json\n",
    "    if g:\n",
    "        return g.get('country') + ' ' + str(mag)\n",
    "    else:\n",
    "        return 'no country '\n",
    "\n",
    "df[['Latitude', 'Longitude', 'Magnitude']].apply(lambda x: geo_rev(*x), axis=1)"
   ]
  },
  {
   "cell_type": "markdown",
   "metadata": {},
   "source": [
    "## No apply "
   ]
  },
  {
   "cell_type": "code",
   "execution_count": 8,
   "metadata": {},
   "outputs": [
    {
     "data": {
      "text/plain": [
       "['Papua Niugini',\n",
       " 'Chile',\n",
       " 'Chile',\n",
       " 'România',\n",
       " 'United States',\n",
       " 'United States',\n",
       " 'United States',\n",
       " '日本',\n",
       " 'Indonesia',\n",
       " 'no country ']"
      ]
     },
     "execution_count": 8,
     "metadata": {},
     "output_type": "execute_result"
    }
   ],
   "source": [
    "def geo_rev(lat, lon):\n",
    "    g = geocoder.osm([lat, lon], method='reverse').json\n",
    "    if g:\n",
    "        return g.get('country')\n",
    "    else:\n",
    "        return 'no country '\n",
    "\n",
    "\n",
    "list(map(geo_rev, df['Latitude'], df['Longitude']))"
   ]
  },
  {
   "cell_type": "markdown",
   "metadata": {},
   "source": [
    "## Performance tests"
   ]
  },
  {
   "cell_type": "code",
   "execution_count": 9,
   "metadata": {},
   "outputs": [
    {
     "name": "stdout",
     "output_type": "stream",
     "text": [
      "1000 loops, best of 3: 760 µs per loop\n"
     ]
    }
   ],
   "source": [
    "%timeit df.apply(get_date_time, axis=1, date='Date', time='Time')"
   ]
  },
  {
   "cell_type": "code",
   "execution_count": 10,
   "metadata": {},
   "outputs": [
    {
     "name": "stdout",
     "output_type": "stream",
     "text": [
      "The slowest run took 11.65 times longer than the fastest. This could mean that an intermediate result is being cached.\n",
      "100000 loops, best of 3: 12 µs per loop\n"
     ]
    }
   ],
   "source": [
    "def get_date_time(date, time):\n",
    "    return date + ' ' + time\n",
    "\n",
    "%timeit list(map(get_date_time, df['Date'], df['Time']))"
   ]
  }
 ],
 "metadata": {
  "kernelspec": {
   "display_name": "Python 3",
   "language": "python",
   "name": "python3"
  },
  "language_info": {
   "codemirror_mode": {
    "name": "ipython",
    "version": 3
   },
   "file_extension": ".py",
   "mimetype": "text/x-python",
   "name": "python",
   "nbconvert_exporter": "python",
   "pygments_lexer": "ipython3",
   "version": "3.6.9"
  },
  "toc": {
   "base_numbering": 1,
   "nav_menu": {},
   "number_sections": true,
   "sideBar": true,
   "skip_h1_title": false,
   "title_cell": "Table of Contents",
   "title_sidebar": "Contents",
   "toc_cell": false,
   "toc_position": {},
   "toc_section_display": true,
   "toc_window_display": false
  }
 },
 "nbformat": 4,
 "nbformat_minor": 2
}
