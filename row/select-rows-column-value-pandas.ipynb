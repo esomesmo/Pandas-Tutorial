{
 "cells": [
  {
   "cell_type": "markdown",
   "id": "35042de2",
   "metadata": {},
   "source": [
    "# How to Select Rows by Column Value in Pandas"
   ]
  },
  {
   "cell_type": "code",
   "execution_count": 1,
   "id": "b8d0e164",
   "metadata": {},
   "outputs": [
    {
     "data": {
      "text/html": [
       "<div>\n",
       "<style scoped>\n",
       "    .dataframe tbody tr th:only-of-type {\n",
       "        vertical-align: middle;\n",
       "    }\n",
       "\n",
       "    .dataframe tbody tr th {\n",
       "        vertical-align: top;\n",
       "    }\n",
       "\n",
       "    .dataframe thead th {\n",
       "        text-align: right;\n",
       "    }\n",
       "</style>\n",
       "<table border=\"1\" class=\"dataframe\">\n",
       "  <thead>\n",
       "    <tr style=\"text-align: right;\">\n",
       "      <th></th>\n",
       "      <th>Continent</th>\n",
       "      <th>Highest point</th>\n",
       "      <th>Elevation high</th>\n",
       "      <th>Lowest point</th>\n",
       "      <th>Elevation low</th>\n",
       "    </tr>\n",
       "  </thead>\n",
       "  <tbody>\n",
       "    <tr>\n",
       "      <th>0</th>\n",
       "      <td>Asia</td>\n",
       "      <td>Mount Everest</td>\n",
       "      <td>8848</td>\n",
       "      <td>Dead Sea</td>\n",
       "      <td>−427</td>\n",
       "    </tr>\n",
       "    <tr>\n",
       "      <th>1</th>\n",
       "      <td>South America</td>\n",
       "      <td>Aconcagua</td>\n",
       "      <td>6960</td>\n",
       "      <td>Laguna del Carbón</td>\n",
       "      <td>−105</td>\n",
       "    </tr>\n",
       "    <tr>\n",
       "      <th>2</th>\n",
       "      <td>North America</td>\n",
       "      <td>Denali</td>\n",
       "      <td>6198</td>\n",
       "      <td>Death Valley</td>\n",
       "      <td>−86</td>\n",
       "    </tr>\n",
       "    <tr>\n",
       "      <th>3</th>\n",
       "      <td>Africa</td>\n",
       "      <td>Mount Kilimanjaro</td>\n",
       "      <td>5895</td>\n",
       "      <td>Lake Assal</td>\n",
       "      <td>−155</td>\n",
       "    </tr>\n",
       "    <tr>\n",
       "      <th>4</th>\n",
       "      <td>Europe</td>\n",
       "      <td>Mount Elbrus</td>\n",
       "      <td>5642</td>\n",
       "      <td>Caspian Sea</td>\n",
       "      <td>−28</td>\n",
       "    </tr>\n",
       "    <tr>\n",
       "      <th>5</th>\n",
       "      <td>Antarctica</td>\n",
       "      <td>Vinson Massif</td>\n",
       "      <td>4892</td>\n",
       "      <td>Deep Lake, Vestfold Hills</td>\n",
       "      <td>−50</td>\n",
       "    </tr>\n",
       "    <tr>\n",
       "      <th>6</th>\n",
       "      <td>Australia</td>\n",
       "      <td>Puncak Jaya</td>\n",
       "      <td>4884</td>\n",
       "      <td>Lake Eyre</td>\n",
       "      <td>−15</td>\n",
       "    </tr>\n",
       "  </tbody>\n",
       "</table>\n",
       "</div>"
      ],
      "text/plain": [
       "       Continent      Highest point  Elevation high  \\\n",
       "0           Asia      Mount Everest            8848   \n",
       "1  South America          Aconcagua            6960   \n",
       "2  North America             Denali            6198   \n",
       "3         Africa  Mount Kilimanjaro            5895   \n",
       "4         Europe       Mount Elbrus            5642   \n",
       "5     Antarctica      Vinson Massif            4892   \n",
       "6      Australia        Puncak Jaya            4884   \n",
       "\n",
       "                Lowest point Elevation low  \n",
       "0                   Dead Sea          −427  \n",
       "1          Laguna del Carbón          −105  \n",
       "2               Death Valley           −86  \n",
       "3                 Lake Assal          −155  \n",
       "4                Caspian Sea           −28  \n",
       "5  Deep Lake, Vestfold Hills           −50  \n",
       "6                  Lake Eyre           −15  "
      ]
     },
     "execution_count": 1,
     "metadata": {},
     "output_type": "execute_result"
    }
   ],
   "source": [
    "import pandas as pd\n",
    "\n",
    "df = pd.read_csv('https://raw.githubusercontent.com/softhints/Pandas-Tutorials/master/data/csv/extremes.csv')\n",
    "df"
   ]
  },
  {
   "cell_type": "markdown",
   "id": "873db7c4",
   "metadata": {},
   "source": [
    "## 3. Select rows by values with method isin()\n",
    "\n",
    "### 3.1. What is boolean indexing?"
   ]
  },
  {
   "cell_type": "code",
   "execution_count": 2,
   "id": "2fe16fa1",
   "metadata": {},
   "outputs": [
    {
     "data": {
      "text/html": [
       "<div>\n",
       "<style scoped>\n",
       "    .dataframe tbody tr th:only-of-type {\n",
       "        vertical-align: middle;\n",
       "    }\n",
       "\n",
       "    .dataframe tbody tr th {\n",
       "        vertical-align: top;\n",
       "    }\n",
       "\n",
       "    .dataframe thead th {\n",
       "        text-align: right;\n",
       "    }\n",
       "</style>\n",
       "<table border=\"1\" class=\"dataframe\">\n",
       "  <thead>\n",
       "    <tr style=\"text-align: right;\">\n",
       "      <th></th>\n",
       "      <th>Continent</th>\n",
       "      <th>Highest point</th>\n",
       "      <th>Elevation high</th>\n",
       "      <th>Lowest point</th>\n",
       "      <th>Elevation low</th>\n",
       "    </tr>\n",
       "  </thead>\n",
       "  <tbody>\n",
       "    <tr>\n",
       "      <th>0</th>\n",
       "      <td>Asia</td>\n",
       "      <td>Mount Everest</td>\n",
       "      <td>8848</td>\n",
       "      <td>Dead Sea</td>\n",
       "      <td>−427</td>\n",
       "    </tr>\n",
       "    <tr>\n",
       "      <th>2</th>\n",
       "      <td>North America</td>\n",
       "      <td>Denali</td>\n",
       "      <td>6198</td>\n",
       "      <td>Death Valley</td>\n",
       "      <td>−86</td>\n",
       "    </tr>\n",
       "    <tr>\n",
       "      <th>4</th>\n",
       "      <td>Europe</td>\n",
       "      <td>Mount Elbrus</td>\n",
       "      <td>5642</td>\n",
       "      <td>Caspian Sea</td>\n",
       "      <td>−28</td>\n",
       "    </tr>\n",
       "    <tr>\n",
       "      <th>6</th>\n",
       "      <td>Australia</td>\n",
       "      <td>Puncak Jaya</td>\n",
       "      <td>4884</td>\n",
       "      <td>Lake Eyre</td>\n",
       "      <td>−15</td>\n",
       "    </tr>\n",
       "  </tbody>\n",
       "</table>\n",
       "</div>"
      ],
      "text/plain": [
       "       Continent  Highest point  Elevation high  Lowest point Elevation low\n",
       "0           Asia  Mount Everest            8848      Dead Sea          −427\n",
       "2  North America         Denali            6198  Death Valley           −86\n",
       "4         Europe   Mount Elbrus            5642   Caspian Sea           −28\n",
       "6      Australia    Puncak Jaya            4884     Lake Eyre           −15"
      ]
     },
     "execution_count": 2,
     "metadata": {},
     "output_type": "execute_result"
    }
   ],
   "source": [
    "selection = [True, False, True, False, True, False, True]\n",
    "\n",
    "df[selection]"
   ]
  },
  {
   "cell_type": "markdown",
   "id": "0dd00e00",
   "metadata": {},
   "source": [
    "### 3.2. Select Rows by Column Value with boolean indexing"
   ]
  },
  {
   "cell_type": "code",
   "execution_count": 3,
   "id": "ad5596e9",
   "metadata": {},
   "outputs": [
    {
     "data": {
      "text/plain": [
       "0     True\n",
       "1    False\n",
       "2    False\n",
       "3     True\n",
       "4    False\n",
       "5     True\n",
       "6     True\n",
       "Name: Continent, dtype: bool"
      ]
     },
     "execution_count": 3,
     "metadata": {},
     "output_type": "execute_result"
    }
   ],
   "source": [
    "df['Continent'].str.startswith('A')"
   ]
  },
  {
   "cell_type": "code",
   "execution_count": 4,
   "id": "30a2d4c0",
   "metadata": {},
   "outputs": [
    {
     "data": {
      "text/html": [
       "<div>\n",
       "<style scoped>\n",
       "    .dataframe tbody tr th:only-of-type {\n",
       "        vertical-align: middle;\n",
       "    }\n",
       "\n",
       "    .dataframe tbody tr th {\n",
       "        vertical-align: top;\n",
       "    }\n",
       "\n",
       "    .dataframe thead th {\n",
       "        text-align: right;\n",
       "    }\n",
       "</style>\n",
       "<table border=\"1\" class=\"dataframe\">\n",
       "  <thead>\n",
       "    <tr style=\"text-align: right;\">\n",
       "      <th></th>\n",
       "      <th>Continent</th>\n",
       "      <th>Highest point</th>\n",
       "      <th>Elevation high</th>\n",
       "      <th>Lowest point</th>\n",
       "      <th>Elevation low</th>\n",
       "    </tr>\n",
       "  </thead>\n",
       "  <tbody>\n",
       "    <tr>\n",
       "      <th>0</th>\n",
       "      <td>Asia</td>\n",
       "      <td>Mount Everest</td>\n",
       "      <td>8848</td>\n",
       "      <td>Dead Sea</td>\n",
       "      <td>−427</td>\n",
       "    </tr>\n",
       "    <tr>\n",
       "      <th>3</th>\n",
       "      <td>Africa</td>\n",
       "      <td>Mount Kilimanjaro</td>\n",
       "      <td>5895</td>\n",
       "      <td>Lake Assal</td>\n",
       "      <td>−155</td>\n",
       "    </tr>\n",
       "    <tr>\n",
       "      <th>5</th>\n",
       "      <td>Antarctica</td>\n",
       "      <td>Vinson Massif</td>\n",
       "      <td>4892</td>\n",
       "      <td>Deep Lake, Vestfold Hills</td>\n",
       "      <td>−50</td>\n",
       "    </tr>\n",
       "    <tr>\n",
       "      <th>6</th>\n",
       "      <td>Australia</td>\n",
       "      <td>Puncak Jaya</td>\n",
       "      <td>4884</td>\n",
       "      <td>Lake Eyre</td>\n",
       "      <td>−15</td>\n",
       "    </tr>\n",
       "  </tbody>\n",
       "</table>\n",
       "</div>"
      ],
      "text/plain": [
       "    Continent      Highest point  Elevation high               Lowest point  \\\n",
       "0        Asia      Mount Everest            8848                   Dead Sea   \n",
       "3      Africa  Mount Kilimanjaro            5895                 Lake Assal   \n",
       "5  Antarctica      Vinson Massif            4892  Deep Lake, Vestfold Hills   \n",
       "6   Australia        Puncak Jaya            4884                  Lake Eyre   \n",
       "\n",
       "  Elevation low  \n",
       "0          −427  \n",
       "3          −155  \n",
       "5           −50  \n",
       "6           −15  "
      ]
     },
     "execution_count": 4,
     "metadata": {},
     "output_type": "execute_result"
    }
   ],
   "source": [
    "df[df['Continent'].str.startswith('A')]"
   ]
  },
  {
   "cell_type": "code",
   "execution_count": 5,
   "id": "007d0c06",
   "metadata": {},
   "outputs": [
    {
     "data": {
      "text/html": [
       "<div>\n",
       "<style scoped>\n",
       "    .dataframe tbody tr th:only-of-type {\n",
       "        vertical-align: middle;\n",
       "    }\n",
       "\n",
       "    .dataframe tbody tr th {\n",
       "        vertical-align: top;\n",
       "    }\n",
       "\n",
       "    .dataframe thead th {\n",
       "        text-align: right;\n",
       "    }\n",
       "</style>\n",
       "<table border=\"1\" class=\"dataframe\">\n",
       "  <thead>\n",
       "    <tr style=\"text-align: right;\">\n",
       "      <th></th>\n",
       "      <th>Continent</th>\n",
       "      <th>Highest point</th>\n",
       "      <th>Elevation high</th>\n",
       "      <th>Lowest point</th>\n",
       "      <th>Elevation low</th>\n",
       "    </tr>\n",
       "  </thead>\n",
       "  <tbody>\n",
       "    <tr>\n",
       "      <th>3</th>\n",
       "      <td>Africa</td>\n",
       "      <td>Mount Kilimanjaro</td>\n",
       "      <td>5895</td>\n",
       "      <td>Lake Assal</td>\n",
       "      <td>−155</td>\n",
       "    </tr>\n",
       "  </tbody>\n",
       "</table>\n",
       "</div>"
      ],
      "text/plain": [
       "  Continent      Highest point  Elevation high Lowest point Elevation low\n",
       "3    Africa  Mount Kilimanjaro            5895   Lake Assal          −155"
      ]
     },
     "execution_count": 5,
     "metadata": {},
     "output_type": "execute_result"
    }
   ],
   "source": [
    "df[df['Continent'] == 'Africa']"
   ]
  },
  {
   "cell_type": "code",
   "execution_count": 6,
   "id": "7f1beb0b",
   "metadata": {},
   "outputs": [
    {
     "data": {
      "text/html": [
       "<div>\n",
       "<style scoped>\n",
       "    .dataframe tbody tr th:only-of-type {\n",
       "        vertical-align: middle;\n",
       "    }\n",
       "\n",
       "    .dataframe tbody tr th {\n",
       "        vertical-align: top;\n",
       "    }\n",
       "\n",
       "    .dataframe thead th {\n",
       "        text-align: right;\n",
       "    }\n",
       "</style>\n",
       "<table border=\"1\" class=\"dataframe\">\n",
       "  <thead>\n",
       "    <tr style=\"text-align: right;\">\n",
       "      <th></th>\n",
       "      <th>Continent</th>\n",
       "      <th>Highest point</th>\n",
       "      <th>Elevation high</th>\n",
       "      <th>Lowest point</th>\n",
       "      <th>Elevation low</th>\n",
       "    </tr>\n",
       "  </thead>\n",
       "  <tbody>\n",
       "    <tr>\n",
       "      <th>3</th>\n",
       "      <td>Africa</td>\n",
       "      <td>Mount Kilimanjaro</td>\n",
       "      <td>5895</td>\n",
       "      <td>Lake Assal</td>\n",
       "      <td>−155</td>\n",
       "    </tr>\n",
       "    <tr>\n",
       "      <th>4</th>\n",
       "      <td>Europe</td>\n",
       "      <td>Mount Elbrus</td>\n",
       "      <td>5642</td>\n",
       "      <td>Caspian Sea</td>\n",
       "      <td>−28</td>\n",
       "    </tr>\n",
       "  </tbody>\n",
       "</table>\n",
       "</div>"
      ],
      "text/plain": [
       "  Continent      Highest point  Elevation high Lowest point Elevation low\n",
       "3    Africa  Mount Kilimanjaro            5895   Lake Assal          −155\n",
       "4    Europe       Mount Elbrus            5642  Caspian Sea           −28"
      ]
     },
     "execution_count": 6,
     "metadata": {},
     "output_type": "execute_result"
    }
   ],
   "source": [
    "df[df['Continent'].isin(['Africa', 'Europe'])]"
   ]
  },
  {
   "cell_type": "markdown",
   "id": "a9b5cd37",
   "metadata": {},
   "source": [
    "## 4. Select rows by property `.loc[]`"
   ]
  },
  {
   "cell_type": "code",
   "execution_count": 7,
   "id": "3d72ed0d",
   "metadata": {},
   "outputs": [
    {
     "data": {
      "text/plain": [
       "Continent                  Asia\n",
       "Highest point     Mount Everest\n",
       "Elevation high             8848\n",
       "Lowest point           Dead Sea\n",
       "Elevation low              −427\n",
       "Name: 0, dtype: object"
      ]
     },
     "execution_count": 7,
     "metadata": {},
     "output_type": "execute_result"
    }
   ],
   "source": [
    "df.loc[0]"
   ]
  },
  {
   "cell_type": "code",
   "execution_count": 8,
   "id": "1a5ed761",
   "metadata": {},
   "outputs": [
    {
     "data": {
      "text/html": [
       "<div>\n",
       "<style scoped>\n",
       "    .dataframe tbody tr th:only-of-type {\n",
       "        vertical-align: middle;\n",
       "    }\n",
       "\n",
       "    .dataframe tbody tr th {\n",
       "        vertical-align: top;\n",
       "    }\n",
       "\n",
       "    .dataframe thead th {\n",
       "        text-align: right;\n",
       "    }\n",
       "</style>\n",
       "<table border=\"1\" class=\"dataframe\">\n",
       "  <thead>\n",
       "    <tr style=\"text-align: right;\">\n",
       "      <th></th>\n",
       "      <th>Continent</th>\n",
       "      <th>Highest point</th>\n",
       "      <th>Elevation high</th>\n",
       "      <th>Lowest point</th>\n",
       "      <th>Elevation low</th>\n",
       "    </tr>\n",
       "  </thead>\n",
       "  <tbody>\n",
       "    <tr>\n",
       "      <th>0</th>\n",
       "      <td>Asia</td>\n",
       "      <td>Mount Everest</td>\n",
       "      <td>8848</td>\n",
       "      <td>Dead Sea</td>\n",
       "      <td>−427</td>\n",
       "    </tr>\n",
       "    <tr>\n",
       "      <th>2</th>\n",
       "      <td>North America</td>\n",
       "      <td>Denali</td>\n",
       "      <td>6198</td>\n",
       "      <td>Death Valley</td>\n",
       "      <td>−86</td>\n",
       "    </tr>\n",
       "    <tr>\n",
       "      <th>4</th>\n",
       "      <td>Europe</td>\n",
       "      <td>Mount Elbrus</td>\n",
       "      <td>5642</td>\n",
       "      <td>Caspian Sea</td>\n",
       "      <td>−28</td>\n",
       "    </tr>\n",
       "  </tbody>\n",
       "</table>\n",
       "</div>"
      ],
      "text/plain": [
       "       Continent  Highest point  Elevation high  Lowest point Elevation low\n",
       "0           Asia  Mount Everest            8848      Dead Sea          −427\n",
       "2  North America         Denali            6198  Death Valley           −86\n",
       "4         Europe   Mount Elbrus            5642   Caspian Sea           −28"
      ]
     },
     "execution_count": 8,
     "metadata": {},
     "output_type": "execute_result"
    }
   ],
   "source": [
    "df.loc[[0,2,4]]"
   ]
  },
  {
   "cell_type": "code",
   "execution_count": 9,
   "id": "8e0256f0",
   "metadata": {},
   "outputs": [
    {
     "data": {
      "text/plain": [
       "Highest point     Mount Kilimanjaro\n",
       "Elevation high                 5895\n",
       "Lowest point             Lake Assal\n",
       "Elevation low                  −155\n",
       "Name: Africa, dtype: object"
      ]
     },
     "execution_count": 9,
     "metadata": {},
     "output_type": "execute_result"
    }
   ],
   "source": [
    "df.set_index('Continent').loc[\"Africa\"]"
   ]
  },
  {
   "cell_type": "code",
   "execution_count": 10,
   "id": "9c7619dc",
   "metadata": {},
   "outputs": [
    {
     "data": {
      "text/html": [
       "<div>\n",
       "<style scoped>\n",
       "    .dataframe tbody tr th:only-of-type {\n",
       "        vertical-align: middle;\n",
       "    }\n",
       "\n",
       "    .dataframe tbody tr th {\n",
       "        vertical-align: top;\n",
       "    }\n",
       "\n",
       "    .dataframe thead th {\n",
       "        text-align: right;\n",
       "    }\n",
       "</style>\n",
       "<table border=\"1\" class=\"dataframe\">\n",
       "  <thead>\n",
       "    <tr style=\"text-align: right;\">\n",
       "      <th></th>\n",
       "      <th>Continent</th>\n",
       "      <th>Highest point</th>\n",
       "      <th>Elevation high</th>\n",
       "      <th>Lowest point</th>\n",
       "      <th>Elevation low</th>\n",
       "    </tr>\n",
       "  </thead>\n",
       "  <tbody>\n",
       "    <tr>\n",
       "      <th>3</th>\n",
       "      <td>Africa</td>\n",
       "      <td>Mount Kilimanjaro</td>\n",
       "      <td>5895</td>\n",
       "      <td>Lake Assal</td>\n",
       "      <td>−155</td>\n",
       "    </tr>\n",
       "  </tbody>\n",
       "</table>\n",
       "</div>"
      ],
      "text/plain": [
       "  Continent      Highest point  Elevation high Lowest point Elevation low\n",
       "3    Africa  Mount Kilimanjaro            5895   Lake Assal          −155"
      ]
     },
     "execution_count": 10,
     "metadata": {},
     "output_type": "execute_result"
    }
   ],
   "source": [
    "df.loc[df['Continent'] == 'Africa']"
   ]
  },
  {
   "cell_type": "markdown",
   "id": "bdca7dcc",
   "metadata": {},
   "source": [
    "## 5. Select rows by positions - `.iloc[]`"
   ]
  },
  {
   "cell_type": "code",
   "execution_count": 11,
   "id": "798e9fac",
   "metadata": {},
   "outputs": [
    {
     "data": {
      "text/html": [
       "<div>\n",
       "<style scoped>\n",
       "    .dataframe tbody tr th:only-of-type {\n",
       "        vertical-align: middle;\n",
       "    }\n",
       "\n",
       "    .dataframe tbody tr th {\n",
       "        vertical-align: top;\n",
       "    }\n",
       "\n",
       "    .dataframe thead th {\n",
       "        text-align: right;\n",
       "    }\n",
       "</style>\n",
       "<table border=\"1\" class=\"dataframe\">\n",
       "  <thead>\n",
       "    <tr style=\"text-align: right;\">\n",
       "      <th></th>\n",
       "      <th>Continent</th>\n",
       "      <th>Highest point</th>\n",
       "      <th>Elevation high</th>\n",
       "      <th>Lowest point</th>\n",
       "      <th>Elevation low</th>\n",
       "    </tr>\n",
       "  </thead>\n",
       "  <tbody>\n",
       "    <tr>\n",
       "      <th>0</th>\n",
       "      <td>Asia</td>\n",
       "      <td>Mount Everest</td>\n",
       "      <td>8848</td>\n",
       "      <td>Dead Sea</td>\n",
       "      <td>−427</td>\n",
       "    </tr>\n",
       "    <tr>\n",
       "      <th>3</th>\n",
       "      <td>Africa</td>\n",
       "      <td>Mount Kilimanjaro</td>\n",
       "      <td>5895</td>\n",
       "      <td>Lake Assal</td>\n",
       "      <td>−155</td>\n",
       "    </tr>\n",
       "    <tr>\n",
       "      <th>4</th>\n",
       "      <td>Europe</td>\n",
       "      <td>Mount Elbrus</td>\n",
       "      <td>5642</td>\n",
       "      <td>Caspian Sea</td>\n",
       "      <td>−28</td>\n",
       "    </tr>\n",
       "  </tbody>\n",
       "</table>\n",
       "</div>"
      ],
      "text/plain": [
       "  Continent      Highest point  Elevation high Lowest point Elevation low\n",
       "0      Asia      Mount Everest            8848     Dead Sea          −427\n",
       "3    Africa  Mount Kilimanjaro            5895   Lake Assal          −155\n",
       "4    Europe       Mount Elbrus            5642  Caspian Sea           −28"
      ]
     },
     "execution_count": 11,
     "metadata": {},
     "output_type": "execute_result"
    }
   ],
   "source": [
    "import numpy as np\n",
    "mask = df['Highest point'].str.contains('Mount')\n",
    "pos = np.flatnonzero(mask)\n",
    "df.iloc[pos]"
   ]
  },
  {
   "cell_type": "markdown",
   "id": "6c257757",
   "metadata": {},
   "source": [
    "## 6. Select rows by - `df.query()`"
   ]
  },
  {
   "cell_type": "code",
   "execution_count": 12,
   "id": "f3d8be0c",
   "metadata": {},
   "outputs": [
    {
     "data": {
      "text/html": [
       "<div>\n",
       "<style scoped>\n",
       "    .dataframe tbody tr th:only-of-type {\n",
       "        vertical-align: middle;\n",
       "    }\n",
       "\n",
       "    .dataframe tbody tr th {\n",
       "        vertical-align: top;\n",
       "    }\n",
       "\n",
       "    .dataframe thead th {\n",
       "        text-align: right;\n",
       "    }\n",
       "</style>\n",
       "<table border=\"1\" class=\"dataframe\">\n",
       "  <thead>\n",
       "    <tr style=\"text-align: right;\">\n",
       "      <th></th>\n",
       "      <th>Continent</th>\n",
       "      <th>Highest point</th>\n",
       "      <th>Elevation high</th>\n",
       "      <th>Lowest point</th>\n",
       "      <th>Elevation low</th>\n",
       "    </tr>\n",
       "  </thead>\n",
       "  <tbody>\n",
       "    <tr>\n",
       "      <th>4</th>\n",
       "      <td>Europe</td>\n",
       "      <td>Mount Elbrus</td>\n",
       "      <td>5642</td>\n",
       "      <td>Caspian Sea</td>\n",
       "      <td>−28</td>\n",
       "    </tr>\n",
       "  </tbody>\n",
       "</table>\n",
       "</div>"
      ],
      "text/plain": [
       "  Continent Highest point  Elevation high Lowest point Elevation low\n",
       "4    Europe  Mount Elbrus            5642  Caspian Sea           −28"
      ]
     },
     "execution_count": 12,
     "metadata": {},
     "output_type": "execute_result"
    }
   ],
   "source": [
    "df.query('Continent == \"Europe\"')"
   ]
  }
 ],
 "metadata": {
  "kernelspec": {
   "display_name": "Python 3",
   "language": "python",
   "name": "python3"
  },
  "language_info": {
   "codemirror_mode": {
    "name": "ipython",
    "version": 3
   },
   "file_extension": ".py",
   "mimetype": "text/x-python",
   "name": "python",
   "nbconvert_exporter": "python",
   "pygments_lexer": "ipython3",
   "version": "3.8.0"
  },
  "toc": {
   "base_numbering": 1,
   "nav_menu": {},
   "number_sections": false,
   "sideBar": true,
   "skip_h1_title": false,
   "title_cell": "Table of Contents",
   "title_sidebar": "Contents",
   "toc_cell": false,
   "toc_position": {},
   "toc_section_display": true,
   "toc_window_display": false
  }
 },
 "nbformat": 4,
 "nbformat_minor": 5
}
