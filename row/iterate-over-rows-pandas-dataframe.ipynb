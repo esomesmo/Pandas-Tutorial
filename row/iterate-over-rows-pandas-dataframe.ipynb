{
 "cells": [
  {
   "cell_type": "markdown",
   "id": "b2232e6f",
   "metadata": {},
   "source": [
    "# How to Iterate Over Rows in Pandas DataFrame"
   ]
  },
  {
   "cell_type": "code",
   "execution_count": 1,
   "id": "035eee7a",
   "metadata": {},
   "outputs": [
    {
     "data": {
      "text/html": [
       "<div>\n",
       "<style scoped>\n",
       "    .dataframe tbody tr th:only-of-type {\n",
       "        vertical-align: middle;\n",
       "    }\n",
       "\n",
       "    .dataframe tbody tr th {\n",
       "        vertical-align: top;\n",
       "    }\n",
       "\n",
       "    .dataframe thead th {\n",
       "        text-align: right;\n",
       "    }\n",
       "</style>\n",
       "<table border=\"1\" class=\"dataframe\">\n",
       "  <thead>\n",
       "    <tr style=\"text-align: right;\">\n",
       "      <th></th>\n",
       "      <th>Continent</th>\n",
       "      <th>Highest point</th>\n",
       "      <th>Elevation high</th>\n",
       "      <th>Lowest point</th>\n",
       "      <th>Elevation low</th>\n",
       "    </tr>\n",
       "  </thead>\n",
       "  <tbody>\n",
       "    <tr>\n",
       "      <th>0</th>\n",
       "      <td>Asia</td>\n",
       "      <td>Mount Everest</td>\n",
       "      <td>8848</td>\n",
       "      <td>Dead Sea</td>\n",
       "      <td>−427</td>\n",
       "    </tr>\n",
       "    <tr>\n",
       "      <th>1</th>\n",
       "      <td>South America</td>\n",
       "      <td>Aconcagua</td>\n",
       "      <td>6960</td>\n",
       "      <td>Laguna del Carbón</td>\n",
       "      <td>−105</td>\n",
       "    </tr>\n",
       "    <tr>\n",
       "      <th>2</th>\n",
       "      <td>North America</td>\n",
       "      <td>Denali</td>\n",
       "      <td>6198</td>\n",
       "      <td>Death Valley</td>\n",
       "      <td>−86</td>\n",
       "    </tr>\n",
       "    <tr>\n",
       "      <th>3</th>\n",
       "      <td>Africa</td>\n",
       "      <td>Mount Kilimanjaro</td>\n",
       "      <td>5895</td>\n",
       "      <td>Lake Assal</td>\n",
       "      <td>−155</td>\n",
       "    </tr>\n",
       "    <tr>\n",
       "      <th>4</th>\n",
       "      <td>Europe</td>\n",
       "      <td>Mount Elbrus</td>\n",
       "      <td>5642</td>\n",
       "      <td>Caspian Sea</td>\n",
       "      <td>−28</td>\n",
       "    </tr>\n",
       "    <tr>\n",
       "      <th>5</th>\n",
       "      <td>Antarctica</td>\n",
       "      <td>Vinson Massif</td>\n",
       "      <td>4892</td>\n",
       "      <td>Deep Lake, Vestfold Hills</td>\n",
       "      <td>−50</td>\n",
       "    </tr>\n",
       "    <tr>\n",
       "      <th>6</th>\n",
       "      <td>Australia</td>\n",
       "      <td>Puncak Jaya</td>\n",
       "      <td>4884</td>\n",
       "      <td>Lake Eyre</td>\n",
       "      <td>−15</td>\n",
       "    </tr>\n",
       "  </tbody>\n",
       "</table>\n",
       "</div>"
      ],
      "text/plain": [
       "       Continent      Highest point  Elevation high  \\\n",
       "0           Asia      Mount Everest            8848   \n",
       "1  South America          Aconcagua            6960   \n",
       "2  North America             Denali            6198   \n",
       "3         Africa  Mount Kilimanjaro            5895   \n",
       "4         Europe       Mount Elbrus            5642   \n",
       "5     Antarctica      Vinson Massif            4892   \n",
       "6      Australia        Puncak Jaya            4884   \n",
       "\n",
       "                Lowest point Elevation low  \n",
       "0                   Dead Sea          −427  \n",
       "1          Laguna del Carbón          −105  \n",
       "2               Death Valley           −86  \n",
       "3                 Lake Assal          −155  \n",
       "4                Caspian Sea           −28  \n",
       "5  Deep Lake, Vestfold Hills           −50  \n",
       "6                  Lake Eyre           −15  "
      ]
     },
     "execution_count": 1,
     "metadata": {},
     "output_type": "execute_result"
    }
   ],
   "source": [
    "import pandas as pd\n",
    "\n",
    "df = pd.read_csv('https://raw.githubusercontent.com/softhints/Pandas-Tutorials/master/data/csv/extremes.csv')\n",
    "df"
   ]
  },
  {
   "cell_type": "markdown",
   "id": "ba93672d",
   "metadata": {},
   "source": [
    "## 3. Iterate Using `iterrows()`"
   ]
  },
  {
   "cell_type": "code",
   "execution_count": 2,
   "id": "0328b9b4",
   "metadata": {},
   "outputs": [
    {
     "name": "stdout",
     "output_type": "stream",
     "text": [
      "0 Continent                  Asia\n",
      "Highest point     Mount Everest\n",
      "Elevation high             8848\n",
      "Lowest point           Dead Sea\n",
      "Elevation low              −427\n",
      "Name: 0, dtype: object\n",
      "1 Continent             South America\n",
      "Highest point             Aconcagua\n",
      "Elevation high                 6960\n",
      "Lowest point      Laguna del Carbón\n",
      "Elevation low                  −105\n",
      "Name: 1, dtype: object\n",
      "2 Continent         North America\n",
      "Highest point            Denali\n",
      "Elevation high             6198\n",
      "Lowest point       Death Valley\n",
      "Elevation low               −86\n",
      "Name: 2, dtype: object\n",
      "3 Continent                    Africa\n",
      "Highest point     Mount Kilimanjaro\n",
      "Elevation high                 5895\n",
      "Lowest point             Lake Assal\n",
      "Elevation low                  −155\n",
      "Name: 3, dtype: object\n",
      "4 Continent               Europe\n",
      "Highest point     Mount Elbrus\n",
      "Elevation high            5642\n",
      "Lowest point       Caspian Sea\n",
      "Elevation low              −28\n",
      "Name: 4, dtype: object\n",
      "5 Continent                        Antarctica\n",
      "Highest point                 Vinson Massif\n",
      "Elevation high                         4892\n",
      "Lowest point      Deep Lake, Vestfold Hills\n",
      "Elevation low                           −50\n",
      "Name: 5, dtype: object\n",
      "6 Continent           Australia\n",
      "Highest point     Puncak Jaya\n",
      "Elevation high           4884\n",
      "Lowest point        Lake Eyre\n",
      "Elevation low             −15\n",
      "Name: 6, dtype: object\n"
     ]
    }
   ],
   "source": [
    "for index, row in df.iterrows():\n",
    "    print(index, row)"
   ]
  },
  {
   "cell_type": "code",
   "execution_count": 3,
   "id": "414a7635",
   "metadata": {},
   "outputs": [
    {
     "name": "stdout",
     "output_type": "stream",
     "text": [
      "0 Asia 8848\n",
      "1 South America 6960\n",
      "2 North America 6198\n",
      "3 Africa 5895\n",
      "4 Europe 5642\n",
      "5 Antarctica 4892\n",
      "6 Australia 4884\n"
     ]
    }
   ],
   "source": [
    "for index, row in df.iterrows():\n",
    "    print(index, row['Continent'], row['Elevation high'])"
   ]
  },
  {
   "cell_type": "code",
   "execution_count": 4,
   "id": "6b825ed9",
   "metadata": {},
   "outputs": [
    {
     "name": "stdout",
     "output_type": "stream",
     "text": [
      "Continent 0             Asia\n",
      "1    South America\n",
      "2    North America\n",
      "3           Africa\n",
      "4           Europe\n",
      "5       Antarctica\n",
      "6        Australia\n",
      "Name: Continent, dtype: object\n",
      "Highest point 0        Mount Everest\n",
      "1            Aconcagua\n",
      "2               Denali\n",
      "3    Mount Kilimanjaro\n",
      "4         Mount Elbrus\n",
      "5        Vinson Massif\n",
      "6          Puncak Jaya\n",
      "Name: Highest point, dtype: object\n",
      "Elevation high 0    8848\n",
      "1    6960\n",
      "2    6198\n",
      "3    5895\n",
      "4    5642\n",
      "5    4892\n",
      "6    4884\n",
      "Name: Elevation high, dtype: int64\n",
      "Lowest point 0                     Dead Sea\n",
      "1            Laguna del Carbón\n",
      "2                 Death Valley\n",
      "3                   Lake Assal\n",
      "4                  Caspian Sea\n",
      "5    Deep Lake, Vestfold Hills\n",
      "6                    Lake Eyre\n",
      "Name: Lowest point, dtype: object\n",
      "Elevation low 0    −427\n",
      "1    −105\n",
      "2     −86\n",
      "3    −155\n",
      "4     −28\n",
      "5     −50\n",
      "6     −15\n",
      "Name: Elevation low, dtype: object\n"
     ]
    }
   ],
   "source": [
    "for index, row in df.iteritems():\n",
    "    print(index, row)"
   ]
  },
  {
   "cell_type": "markdown",
   "id": "52793470",
   "metadata": {},
   "source": [
    "## 4. Using `df.itertuples()`"
   ]
  },
  {
   "cell_type": "code",
   "execution_count": 5,
   "id": "5f037dec",
   "metadata": {},
   "outputs": [
    {
     "name": "stdout",
     "output_type": "stream",
     "text": [
      "Pandas(Index=0, Continent='Asia', _2='Mount Everest', _3=8848, _4='Dead Sea', _5='−427')\n",
      "Pandas(Index=1, Continent='South America', _2='Aconcagua', _3=6960, _4='Laguna del Carbón', _5='−105')\n",
      "Pandas(Index=2, Continent='North America', _2='Denali', _3=6198, _4='Death Valley', _5='−86')\n",
      "Pandas(Index=3, Continent='Africa', _2='Mount Kilimanjaro', _3=5895, _4='Lake Assal', _5='−155')\n",
      "Pandas(Index=4, Continent='Europe', _2='Mount Elbrus', _3=5642, _4='Caspian Sea', _5='−28')\n",
      "Pandas(Index=5, Continent='Antarctica', _2='Vinson Massif', _3=4892, _4='Deep Lake, Vestfold Hills', _5='−50')\n",
      "Pandas(Index=6, Continent='Australia', _2='Puncak Jaya', _3=4884, _4='Lake Eyre', _5='−15')\n"
     ]
    }
   ],
   "source": [
    "for row in df.itertuples():\n",
    "      print(row)"
   ]
  },
  {
   "cell_type": "code",
   "execution_count": 6,
   "id": "b3f2d036",
   "metadata": {},
   "outputs": [
    {
     "data": {
      "text/plain": [
       "Point(Index=0, Continent='Asia', _2='Mount Everest', _3=8848, _4='Dead Sea', _5='−427')"
      ]
     },
     "execution_count": 6,
     "metadata": {},
     "output_type": "execute_result"
    }
   ],
   "source": [
    "next(iter(df.itertuples(index=True, name='Point')))"
   ]
  },
  {
   "cell_type": "code",
   "execution_count": 7,
   "id": "a5529953",
   "metadata": {},
   "outputs": [
    {
     "data": {
      "text/plain": [
       "('Asia', 'Mount Everest', 8848)"
      ]
     },
     "execution_count": 7,
     "metadata": {},
     "output_type": "execute_result"
    }
   ],
   "source": [
    "next(iter(df.itertuples(index=True, name='Point')))[1:4]"
   ]
  },
  {
   "cell_type": "code",
   "execution_count": 8,
   "id": "4439dfd1",
   "metadata": {},
   "outputs": [
    {
     "name": "stdout",
     "output_type": "stream",
     "text": [
      "8848 Mount Everest\n",
      "6960 Aconcagua\n",
      "6198 Denali\n",
      "5895 Mount Kilimanjaro\n",
      "5642 Mount Elbrus\n",
      "4892 Vinson Massif\n",
      "4884 Puncak Jaya\n"
     ]
    }
   ],
   "source": [
    "for row in df.itertuples(index=True, name='Point'):\n",
    "      print(row[3], row[2])"
   ]
  },
  {
   "cell_type": "markdown",
   "id": "54180c14",
   "metadata": {},
   "source": [
    "## 5. Faster Iteration over rows"
   ]
  },
  {
   "cell_type": "code",
   "execution_count": 9,
   "id": "10570e4c",
   "metadata": {},
   "outputs": [
    {
     "name": "stdout",
     "output_type": "stream",
     "text": [
      "Asia Mount Everest\n",
      "South America Aconcagua\n",
      "North America Denali\n",
      "Africa Mount Kilimanjaro\n",
      "Europe Mount Elbrus\n",
      "Antarctica Vinson Massif\n",
      "Australia Puncak Jaya\n"
     ]
    },
    {
     "data": {
      "text/plain": [
       "[None, None, None, None, None, None, None]"
      ]
     },
     "execution_count": 9,
     "metadata": {},
     "output_type": "execute_result"
    }
   ],
   "source": [
    "[print(x, y) for x, y in zip(df['Continent'], df['Highest point'])]"
   ]
  },
  {
   "cell_type": "code",
   "execution_count": 10,
   "id": "10c50433",
   "metadata": {},
   "outputs": [
    {
     "data": {
      "text/plain": [
       "['Asia : Mount Everest',\n",
       " 'South America : Aconcagua',\n",
       " 'North America : Denali',\n",
       " 'Africa : Mount Kilimanjaro',\n",
       " 'Europe : Mount Elbrus',\n",
       " 'Antarctica : Vinson Massif',\n",
       " 'Australia : Puncak Jaya']"
      ]
     },
     "execution_count": 10,
     "metadata": {},
     "output_type": "execute_result"
    }
   ],
   "source": [
    "def func(x, y):\n",
    "    return x + ' : ' +  y\n",
    "\n",
    "result = [func(x, y) for x, y in zip(df['Continent'], df['Highest point'])]\n",
    "result"
   ]
  },
  {
   "cell_type": "code",
   "execution_count": null,
   "id": "3990495c",
   "metadata": {},
   "outputs": [],
   "source": []
  }
 ],
 "metadata": {
  "kernelspec": {
   "display_name": "Python 3",
   "language": "python",
   "name": "python3"
  },
  "language_info": {
   "codemirror_mode": {
    "name": "ipython",
    "version": 3
   },
   "file_extension": ".py",
   "mimetype": "text/x-python",
   "name": "python",
   "nbconvert_exporter": "python",
   "pygments_lexer": "ipython3",
   "version": "3.8.0"
  },
  "toc": {
   "base_numbering": 1,
   "nav_menu": {},
   "number_sections": false,
   "sideBar": true,
   "skip_h1_title": false,
   "title_cell": "Table of Contents",
   "title_sidebar": "Contents",
   "toc_cell": false,
   "toc_position": {},
   "toc_section_display": true,
   "toc_window_display": false
  }
 },
 "nbformat": 4,
 "nbformat_minor": 5
}
