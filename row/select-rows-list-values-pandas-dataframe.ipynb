{
 "cells": [
  {
   "cell_type": "markdown",
   "id": "e7d8ad57",
   "metadata": {},
   "source": [
    "# How to Select Rows by List of Values in Pandas DataFrame"
   ]
  },
  {
   "cell_type": "code",
   "execution_count": 1,
   "id": "383f57f9",
   "metadata": {},
   "outputs": [
    {
     "data": {
      "text/html": [
       "<div>\n",
       "<style scoped>\n",
       "    .dataframe tbody tr th:only-of-type {\n",
       "        vertical-align: middle;\n",
       "    }\n",
       "\n",
       "    .dataframe tbody tr th {\n",
       "        vertical-align: top;\n",
       "    }\n",
       "\n",
       "    .dataframe thead th {\n",
       "        text-align: right;\n",
       "    }\n",
       "</style>\n",
       "<table border=\"1\" class=\"dataframe\">\n",
       "  <thead>\n",
       "    <tr style=\"text-align: right;\">\n",
       "      <th></th>\n",
       "      <th>Continent</th>\n",
       "      <th>Highest point</th>\n",
       "      <th>Elevation high</th>\n",
       "      <th>Lowest point</th>\n",
       "      <th>Elevation low</th>\n",
       "    </tr>\n",
       "  </thead>\n",
       "  <tbody>\n",
       "    <tr>\n",
       "      <th>0</th>\n",
       "      <td>Asia</td>\n",
       "      <td>Mount Everest</td>\n",
       "      <td>8848</td>\n",
       "      <td>Dead Sea</td>\n",
       "      <td>−427</td>\n",
       "    </tr>\n",
       "    <tr>\n",
       "      <th>1</th>\n",
       "      <td>South America</td>\n",
       "      <td>Aconcagua</td>\n",
       "      <td>6960</td>\n",
       "      <td>Laguna del Carbón</td>\n",
       "      <td>−105</td>\n",
       "    </tr>\n",
       "    <tr>\n",
       "      <th>2</th>\n",
       "      <td>North America</td>\n",
       "      <td>Denali</td>\n",
       "      <td>6198</td>\n",
       "      <td>Death Valley</td>\n",
       "      <td>−86</td>\n",
       "    </tr>\n",
       "    <tr>\n",
       "      <th>3</th>\n",
       "      <td>Africa</td>\n",
       "      <td>Mount Kilimanjaro</td>\n",
       "      <td>5895</td>\n",
       "      <td>Lake Assal</td>\n",
       "      <td>−155</td>\n",
       "    </tr>\n",
       "    <tr>\n",
       "      <th>4</th>\n",
       "      <td>Europe</td>\n",
       "      <td>Mount Elbrus</td>\n",
       "      <td>5642</td>\n",
       "      <td>Caspian Sea</td>\n",
       "      <td>−28</td>\n",
       "    </tr>\n",
       "    <tr>\n",
       "      <th>5</th>\n",
       "      <td>Antarctica</td>\n",
       "      <td>Vinson Massif</td>\n",
       "      <td>4892</td>\n",
       "      <td>Deep Lake, Vestfold Hills</td>\n",
       "      <td>−50</td>\n",
       "    </tr>\n",
       "    <tr>\n",
       "      <th>6</th>\n",
       "      <td>Australia</td>\n",
       "      <td>Puncak Jaya</td>\n",
       "      <td>4884</td>\n",
       "      <td>Lake Eyre</td>\n",
       "      <td>−15</td>\n",
       "    </tr>\n",
       "  </tbody>\n",
       "</table>\n",
       "</div>"
      ],
      "text/plain": [
       "       Continent      Highest point  Elevation high  \\\n",
       "0           Asia      Mount Everest            8848   \n",
       "1  South America          Aconcagua            6960   \n",
       "2  North America             Denali            6198   \n",
       "3         Africa  Mount Kilimanjaro            5895   \n",
       "4         Europe       Mount Elbrus            5642   \n",
       "5     Antarctica      Vinson Massif            4892   \n",
       "6      Australia        Puncak Jaya            4884   \n",
       "\n",
       "                Lowest point Elevation low  \n",
       "0                   Dead Sea          −427  \n",
       "1          Laguna del Carbón          −105  \n",
       "2               Death Valley           −86  \n",
       "3                 Lake Assal          −155  \n",
       "4                Caspian Sea           −28  \n",
       "5  Deep Lake, Vestfold Hills           −50  \n",
       "6                  Lake Eyre           −15  "
      ]
     },
     "execution_count": 1,
     "metadata": {},
     "output_type": "execute_result"
    }
   ],
   "source": [
    "import pandas as pd\n",
    "\n",
    "df = pd.read_csv('https://raw.githubusercontent.com/softhints/Pandas-Tutorials/master/data/csv/extremes.csv')\n",
    "df"
   ]
  },
  {
   "cell_type": "markdown",
   "id": "080eb515",
   "metadata": {},
   "source": [
    "## 3. Select rows by values with method isin()\n",
    "\n",
    "### 3.1. Positive selection"
   ]
  },
  {
   "cell_type": "code",
   "execution_count": 2,
   "id": "599d93fe",
   "metadata": {},
   "outputs": [
    {
     "data": {
      "text/html": [
       "<div>\n",
       "<style scoped>\n",
       "    .dataframe tbody tr th:only-of-type {\n",
       "        vertical-align: middle;\n",
       "    }\n",
       "\n",
       "    .dataframe tbody tr th {\n",
       "        vertical-align: top;\n",
       "    }\n",
       "\n",
       "    .dataframe thead th {\n",
       "        text-align: right;\n",
       "    }\n",
       "</style>\n",
       "<table border=\"1\" class=\"dataframe\">\n",
       "  <thead>\n",
       "    <tr style=\"text-align: right;\">\n",
       "      <th></th>\n",
       "      <th>Continent</th>\n",
       "      <th>Highest point</th>\n",
       "      <th>Elevation high</th>\n",
       "      <th>Lowest point</th>\n",
       "      <th>Elevation low</th>\n",
       "    </tr>\n",
       "  </thead>\n",
       "  <tbody>\n",
       "    <tr>\n",
       "      <th>0</th>\n",
       "      <td>Asia</td>\n",
       "      <td>Mount Everest</td>\n",
       "      <td>8848</td>\n",
       "      <td>Dead Sea</td>\n",
       "      <td>−427</td>\n",
       "    </tr>\n",
       "    <tr>\n",
       "      <th>4</th>\n",
       "      <td>Europe</td>\n",
       "      <td>Mount Elbrus</td>\n",
       "      <td>5642</td>\n",
       "      <td>Caspian Sea</td>\n",
       "      <td>−28</td>\n",
       "    </tr>\n",
       "  </tbody>\n",
       "</table>\n",
       "</div>"
      ],
      "text/plain": [
       "  Continent  Highest point  Elevation high Lowest point Elevation low\n",
       "0      Asia  Mount Everest            8848     Dead Sea          −427\n",
       "4    Europe   Mount Elbrus            5642  Caspian Sea           −28"
      ]
     },
     "execution_count": 2,
     "metadata": {},
     "output_type": "execute_result"
    }
   ],
   "source": [
    "sel_continents = ['America', 'Europe', 'Asia']\n",
    "\n",
    "df[df['Continent'].isin(sel_continents)]"
   ]
  },
  {
   "cell_type": "markdown",
   "id": "49dd71d5",
   "metadata": {},
   "source": [
    "### 3.2. Negative selection"
   ]
  },
  {
   "cell_type": "code",
   "execution_count": 3,
   "id": "7d279221",
   "metadata": {},
   "outputs": [
    {
     "data": {
      "text/html": [
       "<div>\n",
       "<style scoped>\n",
       "    .dataframe tbody tr th:only-of-type {\n",
       "        vertical-align: middle;\n",
       "    }\n",
       "\n",
       "    .dataframe tbody tr th {\n",
       "        vertical-align: top;\n",
       "    }\n",
       "\n",
       "    .dataframe thead th {\n",
       "        text-align: right;\n",
       "    }\n",
       "</style>\n",
       "<table border=\"1\" class=\"dataframe\">\n",
       "  <thead>\n",
       "    <tr style=\"text-align: right;\">\n",
       "      <th></th>\n",
       "      <th>Continent</th>\n",
       "      <th>Highest point</th>\n",
       "      <th>Elevation high</th>\n",
       "      <th>Lowest point</th>\n",
       "      <th>Elevation low</th>\n",
       "    </tr>\n",
       "  </thead>\n",
       "  <tbody>\n",
       "    <tr>\n",
       "      <th>1</th>\n",
       "      <td>South America</td>\n",
       "      <td>Aconcagua</td>\n",
       "      <td>6960</td>\n",
       "      <td>Laguna del Carbón</td>\n",
       "      <td>−105</td>\n",
       "    </tr>\n",
       "    <tr>\n",
       "      <th>2</th>\n",
       "      <td>North America</td>\n",
       "      <td>Denali</td>\n",
       "      <td>6198</td>\n",
       "      <td>Death Valley</td>\n",
       "      <td>−86</td>\n",
       "    </tr>\n",
       "    <tr>\n",
       "      <th>3</th>\n",
       "      <td>Africa</td>\n",
       "      <td>Mount Kilimanjaro</td>\n",
       "      <td>5895</td>\n",
       "      <td>Lake Assal</td>\n",
       "      <td>−155</td>\n",
       "    </tr>\n",
       "    <tr>\n",
       "      <th>5</th>\n",
       "      <td>Antarctica</td>\n",
       "      <td>Vinson Massif</td>\n",
       "      <td>4892</td>\n",
       "      <td>Deep Lake, Vestfold Hills</td>\n",
       "      <td>−50</td>\n",
       "    </tr>\n",
       "    <tr>\n",
       "      <th>6</th>\n",
       "      <td>Australia</td>\n",
       "      <td>Puncak Jaya</td>\n",
       "      <td>4884</td>\n",
       "      <td>Lake Eyre</td>\n",
       "      <td>−15</td>\n",
       "    </tr>\n",
       "  </tbody>\n",
       "</table>\n",
       "</div>"
      ],
      "text/plain": [
       "       Continent      Highest point  Elevation high  \\\n",
       "1  South America          Aconcagua            6960   \n",
       "2  North America             Denali            6198   \n",
       "3         Africa  Mount Kilimanjaro            5895   \n",
       "5     Antarctica      Vinson Massif            4892   \n",
       "6      Australia        Puncak Jaya            4884   \n",
       "\n",
       "                Lowest point Elevation low  \n",
       "1          Laguna del Carbón          −105  \n",
       "2               Death Valley           −86  \n",
       "3                 Lake Assal          −155  \n",
       "5  Deep Lake, Vestfold Hills           −50  \n",
       "6                  Lake Eyre           −15  "
      ]
     },
     "execution_count": 3,
     "metadata": {},
     "output_type": "execute_result"
    }
   ],
   "source": [
    "df[~df['Continent'].isin(sel_continents)]"
   ]
  },
  {
   "cell_type": "markdown",
   "id": "6882b397",
   "metadata": {},
   "source": [
    "## 4. Query rows by values - method df.query()\n",
    "\n",
    "### 4.1. List of values"
   ]
  },
  {
   "cell_type": "code",
   "execution_count": 4,
   "id": "47c41321",
   "metadata": {},
   "outputs": [
    {
     "data": {
      "text/html": [
       "<div>\n",
       "<style scoped>\n",
       "    .dataframe tbody tr th:only-of-type {\n",
       "        vertical-align: middle;\n",
       "    }\n",
       "\n",
       "    .dataframe tbody tr th {\n",
       "        vertical-align: top;\n",
       "    }\n",
       "\n",
       "    .dataframe thead th {\n",
       "        text-align: right;\n",
       "    }\n",
       "</style>\n",
       "<table border=\"1\" class=\"dataframe\">\n",
       "  <thead>\n",
       "    <tr style=\"text-align: right;\">\n",
       "      <th></th>\n",
       "      <th>Continent</th>\n",
       "      <th>Highest point</th>\n",
       "      <th>Elevation high</th>\n",
       "      <th>Lowest point</th>\n",
       "      <th>Elevation low</th>\n",
       "    </tr>\n",
       "  </thead>\n",
       "  <tbody>\n",
       "    <tr>\n",
       "      <th>0</th>\n",
       "      <td>Asia</td>\n",
       "      <td>Mount Everest</td>\n",
       "      <td>8848</td>\n",
       "      <td>Dead Sea</td>\n",
       "      <td>−427</td>\n",
       "    </tr>\n",
       "    <tr>\n",
       "      <th>4</th>\n",
       "      <td>Europe</td>\n",
       "      <td>Mount Elbrus</td>\n",
       "      <td>5642</td>\n",
       "      <td>Caspian Sea</td>\n",
       "      <td>−28</td>\n",
       "    </tr>\n",
       "  </tbody>\n",
       "</table>\n",
       "</div>"
      ],
      "text/plain": [
       "  Continent  Highest point  Elevation high Lowest point Elevation low\n",
       "0      Asia  Mount Everest            8848     Dead Sea          −427\n",
       "4    Europe   Mount Elbrus            5642  Caspian Sea           −28"
      ]
     },
     "execution_count": 4,
     "metadata": {},
     "output_type": "execute_result"
    }
   ],
   "source": [
    "sel_continents = ['America', 'Europe', 'Asia']\n",
    "df.query('Continent in @sel_continents')"
   ]
  },
  {
   "cell_type": "markdown",
   "id": "6f392140",
   "metadata": {},
   "source": [
    "### 4.2. Range of numbers"
   ]
  },
  {
   "cell_type": "code",
   "execution_count": 5,
   "id": "89085b3f",
   "metadata": {},
   "outputs": [
    {
     "data": {
      "text/html": [
       "<div>\n",
       "<style scoped>\n",
       "    .dataframe tbody tr th:only-of-type {\n",
       "        vertical-align: middle;\n",
       "    }\n",
       "\n",
       "    .dataframe tbody tr th {\n",
       "        vertical-align: top;\n",
       "    }\n",
       "\n",
       "    .dataframe thead th {\n",
       "        text-align: right;\n",
       "    }\n",
       "</style>\n",
       "<table border=\"1\" class=\"dataframe\">\n",
       "  <thead>\n",
       "    <tr style=\"text-align: right;\">\n",
       "      <th></th>\n",
       "      <th>Continent</th>\n",
       "      <th>Highest point</th>\n",
       "      <th>Elevation high</th>\n",
       "      <th>Lowest point</th>\n",
       "      <th>Elevation low</th>\n",
       "    </tr>\n",
       "  </thead>\n",
       "  <tbody>\n",
       "    <tr>\n",
       "      <th>3</th>\n",
       "      <td>Africa</td>\n",
       "      <td>Mount Kilimanjaro</td>\n",
       "      <td>5895</td>\n",
       "      <td>Lake Assal</td>\n",
       "      <td>−155</td>\n",
       "    </tr>\n",
       "    <tr>\n",
       "      <th>4</th>\n",
       "      <td>Europe</td>\n",
       "      <td>Mount Elbrus</td>\n",
       "      <td>5642</td>\n",
       "      <td>Caspian Sea</td>\n",
       "      <td>−28</td>\n",
       "    </tr>\n",
       "  </tbody>\n",
       "</table>\n",
       "</div>"
      ],
      "text/plain": [
       "  Continent      Highest point  Elevation high Lowest point Elevation low\n",
       "3    Africa  Mount Kilimanjaro            5895   Lake Assal          −155\n",
       "4    Europe       Mount Elbrus            5642  Caspian Sea           −28"
      ]
     },
     "execution_count": 5,
     "metadata": {},
     "output_type": "execute_result"
    }
   ],
   "source": [
    "df.query('5000 < `Elevation high` < 6000')"
   ]
  },
  {
   "cell_type": "markdown",
   "id": "7c7d96bb",
   "metadata": {},
   "source": [
    "### 4.3. Select rows by multiple queries"
   ]
  },
  {
   "cell_type": "code",
   "execution_count": 6,
   "id": "52737e76",
   "metadata": {},
   "outputs": [
    {
     "data": {
      "text/html": [
       "<div>\n",
       "<style scoped>\n",
       "    .dataframe tbody tr th:only-of-type {\n",
       "        vertical-align: middle;\n",
       "    }\n",
       "\n",
       "    .dataframe tbody tr th {\n",
       "        vertical-align: top;\n",
       "    }\n",
       "\n",
       "    .dataframe thead th {\n",
       "        text-align: right;\n",
       "    }\n",
       "</style>\n",
       "<table border=\"1\" class=\"dataframe\">\n",
       "  <thead>\n",
       "    <tr style=\"text-align: right;\">\n",
       "      <th></th>\n",
       "      <th>Continent</th>\n",
       "      <th>Highest point</th>\n",
       "      <th>Elevation high</th>\n",
       "      <th>Lowest point</th>\n",
       "      <th>Elevation low</th>\n",
       "    </tr>\n",
       "  </thead>\n",
       "  <tbody>\n",
       "    <tr>\n",
       "      <th>0</th>\n",
       "      <td>Asia</td>\n",
       "      <td>Mount Everest</td>\n",
       "      <td>8848</td>\n",
       "      <td>Dead Sea</td>\n",
       "      <td>−427</td>\n",
       "    </tr>\n",
       "  </tbody>\n",
       "</table>\n",
       "</div>"
      ],
      "text/plain": [
       "  Continent  Highest point  Elevation high Lowest point Elevation low\n",
       "0      Asia  Mount Everest            8848     Dead Sea          −427"
      ]
     },
     "execution_count": 6,
     "metadata": {},
     "output_type": "execute_result"
    }
   ],
   "source": [
    "sel_continents = ['America', 'Europe', 'Asia']\n",
    "df.query('(Continent in @sel_continents) and (`Elevation high` > 8000)')"
   ]
  },
  {
   "cell_type": "markdown",
   "id": "442c3967",
   "metadata": {},
   "source": [
    "## 5. Select rows by values - `df.loc` + `df.apply(lambda`"
   ]
  },
  {
   "cell_type": "code",
   "execution_count": 7,
   "id": "586978c3",
   "metadata": {},
   "outputs": [
    {
     "data": {
      "text/html": [
       "<div>\n",
       "<style scoped>\n",
       "    .dataframe tbody tr th:only-of-type {\n",
       "        vertical-align: middle;\n",
       "    }\n",
       "\n",
       "    .dataframe tbody tr th {\n",
       "        vertical-align: top;\n",
       "    }\n",
       "\n",
       "    .dataframe thead th {\n",
       "        text-align: right;\n",
       "    }\n",
       "</style>\n",
       "<table border=\"1\" class=\"dataframe\">\n",
       "  <thead>\n",
       "    <tr style=\"text-align: right;\">\n",
       "      <th></th>\n",
       "      <th>Continent</th>\n",
       "      <th>Highest point</th>\n",
       "      <th>Elevation high</th>\n",
       "      <th>Lowest point</th>\n",
       "      <th>Elevation low</th>\n",
       "    </tr>\n",
       "  </thead>\n",
       "  <tbody>\n",
       "    <tr>\n",
       "      <th>0</th>\n",
       "      <td>Asia</td>\n",
       "      <td>Mount Everest</td>\n",
       "      <td>8848</td>\n",
       "      <td>Dead Sea</td>\n",
       "      <td>−427</td>\n",
       "    </tr>\n",
       "    <tr>\n",
       "      <th>4</th>\n",
       "      <td>Europe</td>\n",
       "      <td>Mount Elbrus</td>\n",
       "      <td>5642</td>\n",
       "      <td>Caspian Sea</td>\n",
       "      <td>−28</td>\n",
       "    </tr>\n",
       "  </tbody>\n",
       "</table>\n",
       "</div>"
      ],
      "text/plain": [
       "  Continent  Highest point  Elevation high Lowest point Elevation low\n",
       "0      Asia  Mount Everest            8848     Dead Sea          −427\n",
       "4    Europe   Mount Elbrus            5642  Caspian Sea           −28"
      ]
     },
     "execution_count": 7,
     "metadata": {},
     "output_type": "execute_result"
    }
   ],
   "source": [
    "sel_continents = ['America', 'Europe', 'Asia']\n",
    "df.loc[df.apply(lambda x: x['Continent'] in sel_continents, axis=1)]"
   ]
  },
  {
   "cell_type": "code",
   "execution_count": 8,
   "id": "cb6f6ae5",
   "metadata": {},
   "outputs": [
    {
     "data": {
      "text/html": [
       "<div>\n",
       "<style scoped>\n",
       "    .dataframe tbody tr th:only-of-type {\n",
       "        vertical-align: middle;\n",
       "    }\n",
       "\n",
       "    .dataframe tbody tr th {\n",
       "        vertical-align: top;\n",
       "    }\n",
       "\n",
       "    .dataframe thead th {\n",
       "        text-align: right;\n",
       "    }\n",
       "</style>\n",
       "<table border=\"1\" class=\"dataframe\">\n",
       "  <thead>\n",
       "    <tr style=\"text-align: right;\">\n",
       "      <th></th>\n",
       "      <th>Continent</th>\n",
       "      <th>Highest point</th>\n",
       "      <th>Elevation high</th>\n",
       "      <th>Lowest point</th>\n",
       "      <th>Elevation low</th>\n",
       "    </tr>\n",
       "  </thead>\n",
       "  <tbody>\n",
       "    <tr>\n",
       "      <th>0</th>\n",
       "      <td>Asia</td>\n",
       "      <td>Mount Everest</td>\n",
       "      <td>8848</td>\n",
       "      <td>Dead Sea</td>\n",
       "      <td>−427</td>\n",
       "    </tr>\n",
       "    <tr>\n",
       "      <th>4</th>\n",
       "      <td>Europe</td>\n",
       "      <td>Mount Elbrus</td>\n",
       "      <td>5642</td>\n",
       "      <td>Caspian Sea</td>\n",
       "      <td>−28</td>\n",
       "    </tr>\n",
       "  </tbody>\n",
       "</table>\n",
       "</div>"
      ],
      "text/plain": [
       "  Continent  Highest point  Elevation high Lowest point Elevation low\n",
       "0      Asia  Mount Everest            8848     Dead Sea          −427\n",
       "4    Europe   Mount Elbrus            5642  Caspian Sea           −28"
      ]
     },
     "execution_count": 8,
     "metadata": {},
     "output_type": "execute_result"
    }
   ],
   "source": [
    "sel_continents = ['America', 'Europe', 'Asia']\n",
    "sel_continents = [item.lower() for item in sel_continents]\n",
    "df.loc[df.apply(lambda x: x['Continent'].lower() in sel_continents, axis=1)]"
   ]
  },
  {
   "cell_type": "code",
   "execution_count": 9,
   "id": "a54c4986",
   "metadata": {},
   "outputs": [
    {
     "data": {
      "text/html": [
       "<div>\n",
       "<style scoped>\n",
       "    .dataframe tbody tr th:only-of-type {\n",
       "        vertical-align: middle;\n",
       "    }\n",
       "\n",
       "    .dataframe tbody tr th {\n",
       "        vertical-align: top;\n",
       "    }\n",
       "\n",
       "    .dataframe thead th {\n",
       "        text-align: right;\n",
       "    }\n",
       "</style>\n",
       "<table border=\"1\" class=\"dataframe\">\n",
       "  <thead>\n",
       "    <tr style=\"text-align: right;\">\n",
       "      <th></th>\n",
       "      <th>Continent</th>\n",
       "      <th>Highest point</th>\n",
       "      <th>Elevation high</th>\n",
       "      <th>Lowest point</th>\n",
       "      <th>Elevation low</th>\n",
       "    </tr>\n",
       "  </thead>\n",
       "  <tbody>\n",
       "    <tr>\n",
       "      <th>0</th>\n",
       "      <td>Asia</td>\n",
       "      <td>Mount Everest</td>\n",
       "      <td>8848</td>\n",
       "      <td>Dead Sea</td>\n",
       "      <td>−427</td>\n",
       "    </tr>\n",
       "    <tr>\n",
       "      <th>4</th>\n",
       "      <td>Europe</td>\n",
       "      <td>Mount Elbrus</td>\n",
       "      <td>5642</td>\n",
       "      <td>Caspian Sea</td>\n",
       "      <td>−28</td>\n",
       "    </tr>\n",
       "  </tbody>\n",
       "</table>\n",
       "</div>"
      ],
      "text/plain": [
       "  Continent  Highest point  Elevation high Lowest point Elevation low\n",
       "0      Asia  Mount Everest            8848     Dead Sea          −427\n",
       "4    Europe   Mount Elbrus            5642  Caspian Sea           −28"
      ]
     },
     "execution_count": 9,
     "metadata": {},
     "output_type": "execute_result"
    }
   ],
   "source": [
    "def some_function(x):\n",
    "    if x in sel_continents:\n",
    "        return True\n",
    "    else:\n",
    "        return False\n",
    "\n",
    "sel_continents = ['America', 'Europe', 'Asia']    \n",
    "df[df['Continent'].apply(some_function)]"
   ]
  }
 ],
 "metadata": {
  "kernelspec": {
   "display_name": "Python 3",
   "language": "python",
   "name": "python3"
  },
  "language_info": {
   "codemirror_mode": {
    "name": "ipython",
    "version": 3
   },
   "file_extension": ".py",
   "mimetype": "text/x-python",
   "name": "python",
   "nbconvert_exporter": "python",
   "pygments_lexer": "ipython3",
   "version": "3.8.0"
  },
  "toc": {
   "base_numbering": 1,
   "nav_menu": {},
   "number_sections": false,
   "sideBar": true,
   "skip_h1_title": false,
   "title_cell": "Table of Contents",
   "title_sidebar": "Contents",
   "toc_cell": false,
   "toc_position": {},
   "toc_section_display": true,
   "toc_window_display": false
  }
 },
 "nbformat": 4,
 "nbformat_minor": 5
}
