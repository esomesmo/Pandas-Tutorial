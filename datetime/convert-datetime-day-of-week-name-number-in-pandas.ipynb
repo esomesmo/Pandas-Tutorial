{
 "cells": [
  {
   "cell_type": "markdown",
   "metadata": {},
   "source": [
    "# How to Convert DateTime to Day of Week(name and number) in Pandas\n",
    "\n",
    "https://datascientyst.com/extract-month-and-year-datetime-column-in-pandas/"
   ]
  },
  {
   "cell_type": "markdown",
   "metadata": {},
   "source": [
    "## Step 1: Create sample DataFrame with date"
   ]
  },
  {
   "cell_type": "code",
   "execution_count": 1,
   "metadata": {},
   "outputs": [
    {
     "data": {
      "text/html": [
       "<div>\n",
       "<style scoped>\n",
       "    .dataframe tbody tr th:only-of-type {\n",
       "        vertical-align: middle;\n",
       "    }\n",
       "\n",
       "    .dataframe tbody tr th {\n",
       "        vertical-align: top;\n",
       "    }\n",
       "\n",
       "    .dataframe thead th {\n",
       "        text-align: right;\n",
       "    }\n",
       "</style>\n",
       "<table border=\"1\" class=\"dataframe\">\n",
       "  <thead>\n",
       "    <tr style=\"text-align: right;\">\n",
       "      <th></th>\n",
       "      <th>productivity</th>\n",
       "      <th>salary</th>\n",
       "      <th>age</th>\n",
       "      <th>duedate</th>\n",
       "      <th>person</th>\n",
       "    </tr>\n",
       "  </thead>\n",
       "  <tbody>\n",
       "    <tr>\n",
       "      <th>0</th>\n",
       "      <td>80</td>\n",
       "      <td>3500</td>\n",
       "      <td>25</td>\n",
       "      <td>2020-10-14</td>\n",
       "      <td>Tim</td>\n",
       "    </tr>\n",
       "    <tr>\n",
       "      <th>1</th>\n",
       "      <td>20</td>\n",
       "      <td>1500</td>\n",
       "      <td>30</td>\n",
       "      <td>2020-10-15</td>\n",
       "      <td>Jim</td>\n",
       "    </tr>\n",
       "    <tr>\n",
       "      <th>2</th>\n",
       "      <td>60</td>\n",
       "      <td>2000</td>\n",
       "      <td>40</td>\n",
       "      <td>2020-10-15</td>\n",
       "      <td>Kim</td>\n",
       "    </tr>\n",
       "    <tr>\n",
       "      <th>3</th>\n",
       "      <td>30</td>\n",
       "      <td>1000</td>\n",
       "      <td>35</td>\n",
       "      <td>2020-10-17</td>\n",
       "      <td>Bim</td>\n",
       "    </tr>\n",
       "    <tr>\n",
       "      <th>4</th>\n",
       "      <td>50</td>\n",
       "      <td>2000</td>\n",
       "      <td>20</td>\n",
       "      <td>2020-10-14</td>\n",
       "      <td>Dim</td>\n",
       "    </tr>\n",
       "    <tr>\n",
       "      <th>5</th>\n",
       "      <td>55</td>\n",
       "      <td>1500</td>\n",
       "      <td>40</td>\n",
       "      <td>2020-10-14</td>\n",
       "      <td>Sim</td>\n",
       "    </tr>\n",
       "    <tr>\n",
       "      <th>6</th>\n",
       "      <td>95</td>\n",
       "      <td>4000</td>\n",
       "      <td>22</td>\n",
       "      <td>2020-10-18</td>\n",
       "      <td>Lim</td>\n",
       "    </tr>\n",
       "  </tbody>\n",
       "</table>\n",
       "</div>"
      ],
      "text/plain": [
       "   productivity  salary  age     duedate person\n",
       "0            80    3500   25  2020-10-14    Tim\n",
       "1            20    1500   30  2020-10-15    Jim\n",
       "2            60    2000   40  2020-10-15    Kim\n",
       "3            30    1000   35  2020-10-17    Bim\n",
       "4            50    2000   20  2020-10-14    Dim\n",
       "5            55    1500   40  2020-10-14    Sim\n",
       "6            95    4000   22  2020-10-18    Lim"
      ]
     },
     "execution_count": 1,
     "metadata": {},
     "output_type": "execute_result"
    }
   ],
   "source": [
    "import pandas as pd\n",
    "\n",
    "data = {'productivity': [80, 20, 60, 30, 50, 55, 95],\n",
    "        'salary': [3500, 1500, 2000, 1000, 2000, 1500, 4000],\n",
    "        'age': [25, 30, 40, 35, 20, 40, 22],\n",
    "        'duedate': [\"2020-10-14\", \"2020-10-15\",\"2020-10-15\", \"2020-10-17\",\"2020-10-14\",\"2020-10-14\",\"2020-10-18\"],\n",
    "        'person': ['Tim', 'Jim', 'Kim', 'Bim', 'Dim', 'Sim', 'Lim']\n",
    "       }\n",
    "df = pd.DataFrame(data)\n",
    "df"
   ]
  },
  {
   "cell_type": "code",
   "execution_count": 2,
   "metadata": {},
   "outputs": [],
   "source": [
    "df['date'] = pd.to_datetime(df['duedate'])"
   ]
  },
  {
   "cell_type": "markdown",
   "metadata": {},
   "source": [
    "## Step 2: Extract Day of week from DateTime in Pandas"
   ]
  },
  {
   "cell_type": "code",
   "execution_count": 3,
   "metadata": {},
   "outputs": [
    {
     "data": {
      "text/plain": [
       "0    Wednesday\n",
       "1     Thursday\n",
       "2     Thursday\n",
       "3     Saturday\n",
       "4    Wednesday\n",
       "5    Wednesday\n",
       "6       Sunday\n",
       "Name: day_name, dtype: object"
      ]
     },
     "execution_count": 3,
     "metadata": {},
     "output_type": "execute_result"
    }
   ],
   "source": [
    "df['day_name'] = df['date'].dt.day_name()\n",
    "df['day_name'] "
   ]
  },
  {
   "cell_type": "markdown",
   "metadata": {},
   "source": [
    "## Step 3: Extract Day number of week from DateTime in Pandas"
   ]
  },
  {
   "cell_type": "code",
   "execution_count": 4,
   "metadata": {},
   "outputs": [
    {
     "data": {
      "text/plain": [
       "0    2\n",
       "1    3\n",
       "2    3\n",
       "3    5\n",
       "4    2\n",
       "5    2\n",
       "6    6\n",
       "Name: date, dtype: int64"
      ]
     },
     "execution_count": 4,
     "metadata": {},
     "output_type": "execute_result"
    }
   ],
   "source": [
    "df['date'].dt.dayofweek"
   ]
  },
  {
   "cell_type": "code",
   "execution_count": 5,
   "metadata": {},
   "outputs": [
    {
     "data": {
      "text/plain": [
       "0    2\n",
       "1    3\n",
       "2    3\n",
       "3    5\n",
       "4    2\n",
       "5    2\n",
       "6    6\n",
       "Name: day_number, dtype: int64"
      ]
     },
     "execution_count": 5,
     "metadata": {},
     "output_type": "execute_result"
    }
   ],
   "source": [
    "df['day_number'] = df['date'].dt.day_of_week\n",
    "df['day_number']"
   ]
  },
  {
   "cell_type": "code",
   "execution_count": 6,
   "metadata": {},
   "outputs": [
    {
     "data": {
      "text/plain": [
       "0    2\n",
       "1    3\n",
       "2    3\n",
       "3    5\n",
       "4    2\n",
       "5    2\n",
       "6    6\n",
       "Name: date, dtype: int64"
      ]
     },
     "execution_count": 6,
     "metadata": {},
     "output_type": "execute_result"
    }
   ],
   "source": [
    "df['date'].dt.weekday"
   ]
  },
  {
   "cell_type": "code",
   "execution_count": 8,
   "metadata": {},
   "outputs": [
    {
     "data": {
      "text/html": [
       "<div>\n",
       "<style scoped>\n",
       "    .dataframe tbody tr th:only-of-type {\n",
       "        vertical-align: middle;\n",
       "    }\n",
       "\n",
       "    .dataframe tbody tr th {\n",
       "        vertical-align: top;\n",
       "    }\n",
       "\n",
       "    .dataframe thead th {\n",
       "        text-align: right;\n",
       "    }\n",
       "</style>\n",
       "<table border=\"1\" class=\"dataframe\">\n",
       "  <thead>\n",
       "    <tr style=\"text-align: right;\">\n",
       "      <th></th>\n",
       "      <th>productivity</th>\n",
       "      <th>salary</th>\n",
       "      <th>age</th>\n",
       "      <th>duedate</th>\n",
       "      <th>person</th>\n",
       "      <th>date</th>\n",
       "      <th>day_name</th>\n",
       "      <th>day_number</th>\n",
       "    </tr>\n",
       "  </thead>\n",
       "  <tbody>\n",
       "    <tr>\n",
       "      <th>0</th>\n",
       "      <td>80</td>\n",
       "      <td>3500</td>\n",
       "      <td>25</td>\n",
       "      <td>2020-10-14</td>\n",
       "      <td>Tim</td>\n",
       "      <td>2020-10-14</td>\n",
       "      <td>Wednesday</td>\n",
       "      <td>2</td>\n",
       "    </tr>\n",
       "    <tr>\n",
       "      <th>1</th>\n",
       "      <td>20</td>\n",
       "      <td>1500</td>\n",
       "      <td>30</td>\n",
       "      <td>2020-10-15</td>\n",
       "      <td>Jim</td>\n",
       "      <td>2020-10-15</td>\n",
       "      <td>Thursday</td>\n",
       "      <td>3</td>\n",
       "    </tr>\n",
       "    <tr>\n",
       "      <th>2</th>\n",
       "      <td>60</td>\n",
       "      <td>2000</td>\n",
       "      <td>40</td>\n",
       "      <td>2020-10-15</td>\n",
       "      <td>Kim</td>\n",
       "      <td>2020-10-15</td>\n",
       "      <td>Thursday</td>\n",
       "      <td>3</td>\n",
       "    </tr>\n",
       "    <tr>\n",
       "      <th>3</th>\n",
       "      <td>30</td>\n",
       "      <td>1000</td>\n",
       "      <td>35</td>\n",
       "      <td>2020-10-17</td>\n",
       "      <td>Bim</td>\n",
       "      <td>2020-10-17</td>\n",
       "      <td>Saturday</td>\n",
       "      <td>5</td>\n",
       "    </tr>\n",
       "    <tr>\n",
       "      <th>4</th>\n",
       "      <td>50</td>\n",
       "      <td>2000</td>\n",
       "      <td>20</td>\n",
       "      <td>2020-10-14</td>\n",
       "      <td>Dim</td>\n",
       "      <td>2020-10-14</td>\n",
       "      <td>Wednesday</td>\n",
       "      <td>2</td>\n",
       "    </tr>\n",
       "    <tr>\n",
       "      <th>5</th>\n",
       "      <td>55</td>\n",
       "      <td>1500</td>\n",
       "      <td>40</td>\n",
       "      <td>2020-10-14</td>\n",
       "      <td>Sim</td>\n",
       "      <td>2020-10-14</td>\n",
       "      <td>Wednesday</td>\n",
       "      <td>2</td>\n",
       "    </tr>\n",
       "    <tr>\n",
       "      <th>6</th>\n",
       "      <td>95</td>\n",
       "      <td>4000</td>\n",
       "      <td>22</td>\n",
       "      <td>2020-10-18</td>\n",
       "      <td>Lim</td>\n",
       "      <td>2020-10-18</td>\n",
       "      <td>Sunday</td>\n",
       "      <td>6</td>\n",
       "    </tr>\n",
       "  </tbody>\n",
       "</table>\n",
       "</div>"
      ],
      "text/plain": [
       "   productivity  salary  age     duedate person       date   day_name  \\\n",
       "0            80    3500   25  2020-10-14    Tim 2020-10-14  Wednesday   \n",
       "1            20    1500   30  2020-10-15    Jim 2020-10-15   Thursday   \n",
       "2            60    2000   40  2020-10-15    Kim 2020-10-15   Thursday   \n",
       "3            30    1000   35  2020-10-17    Bim 2020-10-17   Saturday   \n",
       "4            50    2000   20  2020-10-14    Dim 2020-10-14  Wednesday   \n",
       "5            55    1500   40  2020-10-14    Sim 2020-10-14  Wednesday   \n",
       "6            95    4000   22  2020-10-18    Lim 2020-10-18     Sunday   \n",
       "\n",
       "   day_number  \n",
       "0           2  \n",
       "1           3  \n",
       "2           3  \n",
       "3           5  \n",
       "4           2  \n",
       "5           2  \n",
       "6           6  "
      ]
     },
     "execution_count": 8,
     "metadata": {},
     "output_type": "execute_result"
    }
   ],
   "source": [
    "df"
   ]
  },
  {
   "cell_type": "markdown",
   "metadata": {},
   "source": [
    "## Step 4: Get day name and number of week"
   ]
  },
  {
   "cell_type": "code",
   "execution_count": 7,
   "metadata": {},
   "outputs": [
    {
     "data": {
      "text/plain": [
       "<AxesSubplot:xlabel='day_number,day_name'>"
      ]
     },
     "execution_count": 7,
     "metadata": {},
     "output_type": "execute_result"
    },
    {
     "data": {
      "image/png": "[encoded data removed]",
      "text/plain": [
       "<Figure size 432x288 with 1 Axes>"
      ]
     },
     "metadata": {
      "needs_background": "light"
     },
     "output_type": "display_data"
    }
   ],
   "source": [
    "df[['day_number', 'salary', 'day_name']].groupby(['day_number', 'day_name']).mean().sort_index().plot(kind='bar', legend=None)"
   ]
  }
 ],
 "metadata": {
  "kernelspec": {
   "display_name": "Python 3",
   "language": "python",
   "name": "python3"
  },
  "language_info": {
   "codemirror_mode": {
    "name": "ipython",
    "version": 3
   },
   "file_extension": ".py",
   "mimetype": "text/x-python",
   "name": "python",
   "nbconvert_exporter": "python",
   "pygments_lexer": "ipython3",
   "version": "3.8.0"
  },
  "toc": {
   "base_numbering": 1,
   "nav_menu": {},
   "number_sections": true,
   "sideBar": true,
   "skip_h1_title": false,
   "title_cell": "Table of Contents",
   "title_sidebar": "Contents",
   "toc_cell": false,
   "toc_position": {},
   "toc_section_display": true,
   "toc_window_display": false
  }
 },
 "nbformat": 4,
 "nbformat_minor": 2
}
