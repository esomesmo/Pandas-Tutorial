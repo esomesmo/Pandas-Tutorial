{
 "cells": [
  {
   "cell_type": "markdown",
   "metadata": {},
   "source": [
    "# How to Convert Month Number to Month Name in Pandas Dataframe"
   ]
  },
  {
   "cell_type": "code",
   "execution_count": 41,
   "metadata": {},
   "outputs": [
    {
     "data": {
      "text/html": [
       "<div>\n",
       "<style scoped>\n",
       "    .dataframe tbody tr th:only-of-type {\n",
       "        vertical-align: middle;\n",
       "    }\n",
       "\n",
       "    .dataframe tbody tr th {\n",
       "        vertical-align: top;\n",
       "    }\n",
       "\n",
       "    .dataframe thead th {\n",
       "        text-align: right;\n",
       "    }\n",
       "</style>\n",
       "<table border=\"1\" class=\"dataframe\">\n",
       "  <thead>\n",
       "    <tr style=\"text-align: right;\">\n",
       "      <th></th>\n",
       "      <th>id</th>\n",
       "      <th>url</th>\n",
       "      <th>title</th>\n",
       "      <th>subtitle</th>\n",
       "      <th>image</th>\n",
       "      <th>claps</th>\n",
       "      <th>responses</th>\n",
       "      <th>reading_time</th>\n",
       "      <th>publication</th>\n",
       "      <th>date</th>\n",
       "    </tr>\n",
       "  </thead>\n",
       "  <tbody>\n",
       "    <tr>\n",
       "      <th>0</th>\n",
       "      <td>1</td>\n",
       "      <td>https://towardsdatascience.com/a-beginners-gui...</td>\n",
       "      <td>A Beginner’s Guide to Word Embedding with Gens...</td>\n",
       "      <td>NaN</td>\n",
       "      <td>1.png</td>\n",
       "      <td>850</td>\n",
       "      <td>8</td>\n",
       "      <td>8</td>\n",
       "      <td>Towards Data Science</td>\n",
       "      <td>2019-05-30</td>\n",
       "    </tr>\n",
       "    <tr>\n",
       "      <th>1</th>\n",
       "      <td>2</td>\n",
       "      <td>https://towardsdatascience.com/hands-on-graph-...</td>\n",
       "      <td>Hands-on Graph Neural Networks with PyTorch &amp; ...</td>\n",
       "      <td>NaN</td>\n",
       "      <td>2.png</td>\n",
       "      <td>1100</td>\n",
       "      <td>11</td>\n",
       "      <td>9</td>\n",
       "      <td>Towards Data Science</td>\n",
       "      <td>2019-05-30</td>\n",
       "    </tr>\n",
       "    <tr>\n",
       "      <th>2</th>\n",
       "      <td>3</td>\n",
       "      <td>https://towardsdatascience.com/how-to-use-ggpl...</td>\n",
       "      <td>How to Use ggplot2 in Python</td>\n",
       "      <td>A Grammar of Graphics for Python</td>\n",
       "      <td>3.png</td>\n",
       "      <td>767</td>\n",
       "      <td>1</td>\n",
       "      <td>5</td>\n",
       "      <td>Towards Data Science</td>\n",
       "      <td>2019-05-30</td>\n",
       "    </tr>\n",
       "    <tr>\n",
       "      <th>3</th>\n",
       "      <td>4</td>\n",
       "      <td>https://towardsdatascience.com/databricks-how-...</td>\n",
       "      <td>Databricks: How to Save Files in CSV on Your L...</td>\n",
       "      <td>When I work on Python projects dealing…</td>\n",
       "      <td>4.jpeg</td>\n",
       "      <td>354</td>\n",
       "      <td>0</td>\n",
       "      <td>4</td>\n",
       "      <td>Towards Data Science</td>\n",
       "      <td>2019-05-30</td>\n",
       "    </tr>\n",
       "    <tr>\n",
       "      <th>4</th>\n",
       "      <td>5</td>\n",
       "      <td>https://towardsdatascience.com/a-step-by-step-...</td>\n",
       "      <td>A Step-by-Step Implementation of Gradient Desc...</td>\n",
       "      <td>One example of building neural…</td>\n",
       "      <td>5.jpeg</td>\n",
       "      <td>211</td>\n",
       "      <td>3</td>\n",
       "      <td>4</td>\n",
       "      <td>Towards Data Science</td>\n",
       "      <td>2019-05-30</td>\n",
       "    </tr>\n",
       "    <tr>\n",
       "      <th>...</th>\n",
       "      <td>...</td>\n",
       "      <td>...</td>\n",
       "      <td>...</td>\n",
       "      <td>...</td>\n",
       "      <td>...</td>\n",
       "      <td>...</td>\n",
       "      <td>...</td>\n",
       "      <td>...</td>\n",
       "      <td>...</td>\n",
       "      <td>...</td>\n",
       "    </tr>\n",
       "    <tr>\n",
       "      <th>6503</th>\n",
       "      <td>6504</td>\n",
       "      <td>https://medium.com/better-marketing/we-vs-i-ho...</td>\n",
       "      <td>“We” vs “I” — How Should You Talk About Yourse...</td>\n",
       "      <td>Basic copywriting choices with a big…</td>\n",
       "      <td>6504.jpg</td>\n",
       "      <td>661</td>\n",
       "      <td>6</td>\n",
       "      <td>6</td>\n",
       "      <td>Better Marketing</td>\n",
       "      <td>2019-12-05</td>\n",
       "    </tr>\n",
       "    <tr>\n",
       "      <th>6504</th>\n",
       "      <td>6505</td>\n",
       "      <td>https://medium.com/better-marketing/how-donald...</td>\n",
       "      <td>How Donald Trump Markets Himself</td>\n",
       "      <td>Lessons from who might be the most popular bra...</td>\n",
       "      <td>6505.jpeg</td>\n",
       "      <td>189</td>\n",
       "      <td>1</td>\n",
       "      <td>5</td>\n",
       "      <td>Better Marketing</td>\n",
       "      <td>2019-12-05</td>\n",
       "    </tr>\n",
       "    <tr>\n",
       "      <th>6505</th>\n",
       "      <td>6506</td>\n",
       "      <td>https://medium.com/better-marketing/content-an...</td>\n",
       "      <td>Content and Marketing Beyond Mass Consumption</td>\n",
       "      <td>How to acquire customers without wasting money...</td>\n",
       "      <td>6506.jpg</td>\n",
       "      <td>207</td>\n",
       "      <td>1</td>\n",
       "      <td>8</td>\n",
       "      <td>Better Marketing</td>\n",
       "      <td>2019-12-05</td>\n",
       "    </tr>\n",
       "    <tr>\n",
       "      <th>6506</th>\n",
       "      <td>6507</td>\n",
       "      <td>https://medium.com/better-marketing/5-question...</td>\n",
       "      <td>5 Questions All Copywriters Should Ask Clients...</td>\n",
       "      <td>Save time and effort by…</td>\n",
       "      <td>6507.jpg</td>\n",
       "      <td>253</td>\n",
       "      <td>2</td>\n",
       "      <td>5</td>\n",
       "      <td>Better Marketing</td>\n",
       "      <td>2019-12-05</td>\n",
       "    </tr>\n",
       "    <tr>\n",
       "      <th>6507</th>\n",
       "      <td>6508</td>\n",
       "      <td>https://medium.com/better-marketing/how-to-wri...</td>\n",
       "      <td>How To Write a Good Business Blog Post</td>\n",
       "      <td>An A-to-Z guide for non-writers</td>\n",
       "      <td>6508.jpg</td>\n",
       "      <td>147</td>\n",
       "      <td>0</td>\n",
       "      <td>9</td>\n",
       "      <td>Better Marketing</td>\n",
       "      <td>2019-12-05</td>\n",
       "    </tr>\n",
       "  </tbody>\n",
       "</table>\n",
       "<p>6508 rows × 10 columns</p>\n",
       "</div>"
      ],
      "text/plain": [
       "        id                                                url  \\\n",
       "0        1  https://towardsdatascience.com/a-beginners-gui...   \n",
       "1        2  https://towardsdatascience.com/hands-on-graph-...   \n",
       "2        3  https://towardsdatascience.com/how-to-use-ggpl...   \n",
       "3        4  https://towardsdatascience.com/databricks-how-...   \n",
       "4        5  https://towardsdatascience.com/a-step-by-step-...   \n",
       "...    ...                                                ...   \n",
       "6503  6504  https://medium.com/better-marketing/we-vs-i-ho...   \n",
       "6504  6505  https://medium.com/better-marketing/how-donald...   \n",
       "6505  6506  https://medium.com/better-marketing/content-an...   \n",
       "6506  6507  https://medium.com/better-marketing/5-question...   \n",
       "6507  6508  https://medium.com/better-marketing/how-to-wri...   \n",
       "\n",
       "                                                  title  \\\n",
       "0     A Beginner’s Guide to Word Embedding with Gens...   \n",
       "1     Hands-on Graph Neural Networks with PyTorch & ...   \n",
       "2                          How to Use ggplot2 in Python   \n",
       "3     Databricks: How to Save Files in CSV on Your L...   \n",
       "4     A Step-by-Step Implementation of Gradient Desc...   \n",
       "...                                                 ...   \n",
       "6503  “We” vs “I” — How Should You Talk About Yourse...   \n",
       "6504                   How Donald Trump Markets Himself   \n",
       "6505      Content and Marketing Beyond Mass Consumption   \n",
       "6506  5 Questions All Copywriters Should Ask Clients...   \n",
       "6507             How To Write a Good Business Blog Post   \n",
       "\n",
       "                                               subtitle      image  claps  \\\n",
       "0                                                   NaN      1.png    850   \n",
       "1                                                   NaN      2.png   1100   \n",
       "2                      A Grammar of Graphics for Python      3.png    767   \n",
       "3               When I work on Python projects dealing…     4.jpeg    354   \n",
       "4                       One example of building neural…     5.jpeg    211   \n",
       "...                                                 ...        ...    ...   \n",
       "6503              Basic copywriting choices with a big…   6504.jpg    661   \n",
       "6504  Lessons from who might be the most popular bra...  6505.jpeg    189   \n",
       "6505  How to acquire customers without wasting money...   6506.jpg    207   \n",
       "6506                           Save time and effort by…   6507.jpg    253   \n",
       "6507                    An A-to-Z guide for non-writers   6508.jpg    147   \n",
       "\n",
       "     responses  reading_time           publication        date  \n",
       "0            8             8  Towards Data Science  2019-05-30  \n",
       "1           11             9  Towards Data Science  2019-05-30  \n",
       "2            1             5  Towards Data Science  2019-05-30  \n",
       "3            0             4  Towards Data Science  2019-05-30  \n",
       "4            3             4  Towards Data Science  2019-05-30  \n",
       "...        ...           ...                   ...         ...  \n",
       "6503         6             6      Better Marketing  2019-12-05  \n",
       "6504         1             5      Better Marketing  2019-12-05  \n",
       "6505         1             8      Better Marketing  2019-12-05  \n",
       "6506         2             5      Better Marketing  2019-12-05  \n",
       "6507         0             9      Better Marketing  2019-12-05  \n",
       "\n",
       "[6508 rows x 10 columns]"
      ]
     },
     "execution_count": 41,
     "metadata": {},
     "output_type": "execute_result"
    }
   ],
   "source": [
    "import pandas as pd\n",
    "df = pd.read_csv('../data/medium_data.csv.zip')\n",
    "df"
   ]
  },
  {
   "cell_type": "code",
   "execution_count": 45,
   "metadata": {},
   "outputs": [],
   "source": [
    "df['date'] = pd.to_datetime(df['date'])"
   ]
  },
  {
   "cell_type": "markdown",
   "metadata": {},
   "source": [
    "## Step 2: Convert Month Number to Full Month Name"
   ]
  },
  {
   "cell_type": "code",
   "execution_count": 27,
   "metadata": {},
   "outputs": [],
   "source": [
    "df['month_full'] = df['date'].dt.month_name()"
   ]
  },
  {
   "cell_type": "markdown",
   "metadata": {},
   "source": [
    "## Step 3: Convert Month Number to Month abbreviation"
   ]
  },
  {
   "cell_type": "code",
   "execution_count": 32,
   "metadata": {},
   "outputs": [],
   "source": [
    "df['month_short'] = df['date'].dt.month_name().str[:3]"
   ]
  },
  {
   "cell_type": "code",
   "execution_count": 36,
   "metadata": {},
   "outputs": [
    {
     "data": {
      "text/plain": [
       "2552    Jul\n",
       "5895    Mar\n",
       "610     Mar\n",
       "6371    Dec\n",
       "3816    Aug\n",
       "Name: date, dtype: object"
      ]
     },
     "execution_count": 36,
     "metadata": {},
     "output_type": "execute_result"
    }
   ],
   "source": [
    "df['date'].dt.month_name().str[:3].sample(5)"
   ]
  },
  {
   "cell_type": "markdown",
   "metadata": {},
   "source": [
    "## Step 4: Convert Month Number to Month name with strftime"
   ]
  },
  {
   "cell_type": "code",
   "execution_count": 38,
   "metadata": {},
   "outputs": [
    {
     "data": {
      "text/plain": [
       "0       May\n",
       "1       May\n",
       "2       May\n",
       "3       May\n",
       "4       May\n",
       "       ... \n",
       "6503    Dec\n",
       "6504    Dec\n",
       "6505    Dec\n",
       "6506    Dec\n",
       "6507    Dec\n",
       "Name: date, Length: 6508, dtype: object"
      ]
     },
     "execution_count": 38,
     "metadata": {},
     "output_type": "execute_result"
    }
   ],
   "source": [
    "df['date'].dt.strftime('%b') "
   ]
  },
  {
   "cell_type": "code",
   "execution_count": 39,
   "metadata": {},
   "outputs": [
    {
     "data": {
      "text/plain": [
       "0            May\n",
       "1            May\n",
       "2            May\n",
       "3            May\n",
       "4            May\n",
       "          ...   \n",
       "6503    December\n",
       "6504    December\n",
       "6505    December\n",
       "6506    December\n",
       "6507    December\n",
       "Name: date, Length: 6508, dtype: object"
      ]
     },
     "execution_count": 39,
     "metadata": {},
     "output_type": "execute_result"
    }
   ],
   "source": [
    "df['date'].dt.strftime('%B') "
   ]
  },
  {
   "cell_type": "markdown",
   "metadata": {},
   "source": [
    "## Step 5: Convert Month Number to custom name with mapping"
   ]
  },
  {
   "cell_type": "code",
   "execution_count": 51,
   "metadata": {},
   "outputs": [
    {
     "data": {
      "text/plain": [
       "0         V\n",
       "1         V\n",
       "2         V\n",
       "3         V\n",
       "4         V\n",
       "       ... \n",
       "6503    XII\n",
       "6504    XII\n",
       "6505    XII\n",
       "6506    XII\n",
       "6507    XII\n",
       "Name: month, Length: 6508, dtype: object"
      ]
     },
     "execution_count": 51,
     "metadata": {},
     "output_type": "execute_result"
    }
   ],
   "source": [
    "import pandas as pd\n",
    "\n",
    "month_labels = {1: 'I', 2: 'II', 3: 'III', 4: 'IV', 5: 'V', 6: 'VI', 7: 'VII', 8: 'VIII', \n",
    "                9: 'IX', 10: 'X', 11: 'XI', 12: 'XII'}\n",
    "\n",
    "\n",
    "df['month'] = df['date'].dt.month\n",
    "df['month'].apply(lambda x: month_labels[x])"
   ]
  },
  {
   "cell_type": "code",
   "execution_count": null,
   "metadata": {},
   "outputs": [],
   "source": []
  }
 ],
 "metadata": {
  "kernelspec": {
   "display_name": "Python 3",
   "language": "python",
   "name": "python3"
  },
  "language_info": {
   "codemirror_mode": {
    "name": "ipython",
    "version": 3
   },
   "file_extension": ".py",
   "mimetype": "text/x-python",
   "name": "python",
   "nbconvert_exporter": "python",
   "pygments_lexer": "ipython3",
   "version": "3.6.9"
  },
  "toc": {
   "base_numbering": 1,
   "nav_menu": {},
   "number_sections": true,
   "sideBar": true,
   "skip_h1_title": false,
   "title_cell": "Table of Contents",
   "title_sidebar": "Contents",
   "toc_cell": false,
   "toc_position": {},
   "toc_section_display": true,
   "toc_window_display": false
  }
 },
 "nbformat": 4,
 "nbformat_minor": 2
}
