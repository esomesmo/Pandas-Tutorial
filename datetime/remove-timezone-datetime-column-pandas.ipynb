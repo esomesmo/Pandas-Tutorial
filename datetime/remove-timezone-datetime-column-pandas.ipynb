{
 "cells": [
  {
   "cell_type": "markdown",
   "id": "c90680e8",
   "metadata": {},
   "source": [
    "# How to Remove Timezone from a DateTime Column in Pandas"
   ]
  },
  {
   "cell_type": "code",
   "execution_count": 45,
   "id": "f99915f6",
   "metadata": {},
   "outputs": [
    {
     "data": {
      "text/html": [
       "<div>\n",
       "<style scoped>\n",
       "    .dataframe tbody tr th:only-of-type {\n",
       "        vertical-align: middle;\n",
       "    }\n",
       "\n",
       "    .dataframe tbody tr th {\n",
       "        vertical-align: top;\n",
       "    }\n",
       "\n",
       "    .dataframe thead th {\n",
       "        text-align: right;\n",
       "    }\n",
       "</style>\n",
       "<table border=\"1\" class=\"dataframe\">\n",
       "  <thead>\n",
       "    <tr style=\"text-align: right;\">\n",
       "      <th></th>\n",
       "      <th>start_date</th>\n",
       "      <th>time</th>\n",
       "      <th>time_tz</th>\n",
       "    </tr>\n",
       "  </thead>\n",
       "  <tbody>\n",
       "    <tr>\n",
       "      <th>0</th>\n",
       "      <td>2021-08-01</td>\n",
       "      <td>2021-08-01 12:30:41.775854</td>\n",
       "      <td>2021-08-01 13:23:41.775854-07:00</td>\n",
       "    </tr>\n",
       "    <tr>\n",
       "      <th>1</th>\n",
       "      <td>2021-08-02</td>\n",
       "      <td>2021-08-02 12:31:12.432523</td>\n",
       "      <td>2021-08-02 13:24:12.432523-07:00</td>\n",
       "    </tr>\n",
       "    <tr>\n",
       "      <th>2</th>\n",
       "      <td>2021-08-03</td>\n",
       "      <td>2021-08-03 12:29:59.123512</td>\n",
       "      <td>2021-08-03 13:22:59.123512-07:00</td>\n",
       "    </tr>\n",
       "  </tbody>\n",
       "</table>\n",
       "</div>"
      ],
      "text/plain": [
       "   start_date                       time                          time_tz\n",
       "0  2021-08-01 2021-08-01 12:30:41.775854 2021-08-01 13:23:41.775854-07:00\n",
       "1  2021-08-02 2021-08-02 12:31:12.432523 2021-08-02 13:24:12.432523-07:00\n",
       "2  2021-08-03 2021-08-03 12:29:59.123512 2021-08-03 13:22:59.123512-07:00"
      ]
     },
     "execution_count": 45,
     "metadata": {},
     "output_type": "execute_result"
    }
   ],
   "source": [
    "import pandas as pd\n",
    "import datetime\n",
    "import pytz\n",
    "\n",
    "dates = ['2021-08-01', '2021-08-02', '2021-08-03']\n",
    "\n",
    "timestamps_tz = [\n",
    "    datetime.datetime(2021, 8, 1, 12, 30, 41, 775854, tzinfo=pytz.timezone('US/Pacific')),\n",
    "    datetime.datetime(2021, 8, 2, 12, 31, 12, 432523, tzinfo=pytz.timezone('US/Pacific')),\n",
    "    datetime.datetime(2021, 8, 3, 12, 29, 59, 123512, tzinfo=pytz.timezone('US/Pacific')),    \n",
    "]\n",
    "\n",
    "timestamps = [\n",
    "    datetime.datetime(2021, 8, 1, 12, 30, 41, 775854),\n",
    "    datetime.datetime(2021, 8, 2, 12, 31, 12, 432523),\n",
    "    datetime.datetime(2021, 8, 3, 12, 29, 59, 123512),    \n",
    "]\n",
    "\n",
    "df = pd.DataFrame({'start_date': dates, 'time': timestamps, 'time_tz': timestamps_tz})\n",
    "df\n"
   ]
  },
  {
   "cell_type": "code",
   "execution_count": 46,
   "id": "ba302f96",
   "metadata": {},
   "outputs": [],
   "source": [
    "import pyperclip\n",
    "\n",
    "pyperclip.copy((df.head().to_html(classes='table table-striped text-center', justify='center', index=False)))\n"
   ]
  },
  {
   "cell_type": "code",
   "execution_count": 26,
   "id": "e4c2d0c4",
   "metadata": {},
   "outputs": [
    {
     "data": {
      "text/plain": [
       "0   2021-08-01 12:30:41.775854\n",
       "1   2021-08-02 12:31:12.432523\n",
       "2   2021-08-03 12:29:59.123512\n",
       "Name: time, dtype: datetime64[ns]"
      ]
     },
     "execution_count": 26,
     "metadata": {},
     "output_type": "execute_result"
    }
   ],
   "source": [
    "df['time']"
   ]
  },
  {
   "cell_type": "code",
   "execution_count": 33,
   "id": "119b6381",
   "metadata": {},
   "outputs": [
    {
     "name": "stderr",
     "output_type": "stream",
     "text": [
      "Traceback (most recent call last):\n",
      "  File \"/home/vanx/PycharmProjects/datascientyst/venv/lib/python3.8/site-packages/pandas/core/arrays/datetimelike.py\", line 554, in _validate_comparison_value\n",
      "    self._check_compatible_with(other)\n",
      "TypeError: Cannot compare tz-naive and tz-aware datetime-like objects.\n",
      "\n",
      "The above exception was the direct cause of the following exception:\n",
      "\n",
      "Traceback (most recent call last):\n",
      "  File \"/home/vanx/PycharmProjects/datascientyst/venv/lib/python3.8/site-packages/pandas/core/arrays/datetimelike.py\", line 1008, in _cmp_method\n",
      "    other = self._validate_comparison_value(other)\n",
      "pandas.core.arrays.datetimelike.InvalidComparison: <DatetimeArray>\n",
      "['2021-08-01 13:23:41.775854-07:00', '2021-08-02 13:24:12.432523-07:00',\n",
      " '2021-08-03 13:22:59.123512-07:00']\n",
      "Length: 3, dtype: datetime64[ns, US/Pacific]\n",
      "\n",
      "During handling of the above exception, another exception occurred:\n",
      "\n",
      "Traceback (most recent call last):\n",
      "  File \"/tmp/ipykernel_5846/1818200402.py\", line 6, in <module>\n",
      "    df['time'] > df['time_tz']\n",
      "TypeError: Invalid comparison between dtype=datetime64[ns] and DatetimeArray\n"
     ]
    }
   ],
   "source": [
    "import pandas as pd\n",
    "import traceback\n",
    "\n",
    "try:\n",
    "    \n",
    "    df['time'] > df['time_tz']\n",
    "\n",
    "except Exception as e:\n",
    "    traceback.print_exc(limit=1)\n",
    "    exit(1)"
   ]
  },
  {
   "cell_type": "code",
   "execution_count": 32,
   "id": "c90e04fe",
   "metadata": {},
   "outputs": [
    {
     "name": "stderr",
     "output_type": "stream",
     "text": [
      "Traceback (most recent call last):\n",
      "  File \"/tmp/ipykernel_5846/394564695.py\", line 6, in <module>\n",
      "    df['time'] - df['time_tz']\n",
      "TypeError: DatetimeArray subtraction must have the same timezones or no timezones\n"
     ]
    }
   ],
   "source": [
    "import pandas as pd\n",
    "import traceback\n",
    "\n",
    "try:\n",
    "    \n",
    "    df['time'] - df['time_tz']\n",
    "\n",
    "except Exception as e:\n",
    "    traceback.print_exc(limit=1)\n",
    "    exit(1)"
   ]
  },
  {
   "cell_type": "code",
   "execution_count": 36,
   "id": "ef156bfd",
   "metadata": {},
   "outputs": [
    {
     "name": "stderr",
     "output_type": "stream",
     "text": [
      "Traceback (most recent call last):\n",
      "  File \"/home/vanx/PycharmProjects/datascientyst/venv/lib/python3.8/site-packages/pandas/core/arrays/datetimelike.py\", line 554, in _validate_comparison_value\n",
      "    self._check_compatible_with(other)\n",
      "TypeError: Cannot compare tz-naive and tz-aware datetime-like objects\n",
      "\n",
      "The above exception was the direct cause of the following exception:\n",
      "\n",
      "Traceback (most recent call last):\n",
      "  File \"/home/vanx/PycharmProjects/datascientyst/venv/lib/python3.8/site-packages/pandas/core/arrays/datetimelike.py\", line 1008, in _cmp_method\n",
      "    other = self._validate_comparison_value(other)\n",
      "pandas.core.arrays.datetimelike.InvalidComparison: <DatetimeArray>\n",
      "['2021-08-01 00:00:00', '2021-08-02 00:00:00', '2021-08-03 00:00:00']\n",
      "Length: 3, dtype: datetime64[ns]\n",
      "\n",
      "During handling of the above exception, another exception occurred:\n",
      "\n",
      "Traceback (most recent call last):\n",
      "  File \"/tmp/ipykernel_5846/929996482.py\", line 6, in <module>\n",
      "    df['time_tz'] > pd.to_datetime(df['start_date'])\n",
      "TypeError: Invalid comparison between dtype=datetime64[ns, US/Pacific] and DatetimeArray\n"
     ]
    }
   ],
   "source": [
    "import pandas as pd\n",
    "import traceback\n",
    "\n",
    "try:\n",
    "    \n",
    "    df['time_tz'] > pd.to_datetime(df['start_date'])\n",
    "\n",
    "except Exception as e:\n",
    "    traceback.print_exc(limit=1)\n",
    "    exit(1)"
   ]
  },
  {
   "cell_type": "code",
   "execution_count": 37,
   "id": "75000cdb",
   "metadata": {},
   "outputs": [
    {
     "data": {
      "text/plain": [
       "0    True\n",
       "1    True\n",
       "2    True\n",
       "dtype: bool"
      ]
     },
     "execution_count": 37,
     "metadata": {},
     "output_type": "execute_result"
    }
   ],
   "source": [
    "df['time'] > pd.to_datetime(df['start_date'])"
   ]
  },
  {
   "cell_type": "code",
   "execution_count": null,
   "id": "0befa45f",
   "metadata": {},
   "outputs": [],
   "source": []
  },
  {
   "cell_type": "code",
   "execution_count": 41,
   "id": "5331c074",
   "metadata": {},
   "outputs": [
    {
     "data": {
      "text/plain": [
       "0   2021-08-01 13:23:41.775854\n",
       "1   2021-08-02 13:24:12.432523\n",
       "2   2021-08-03 13:22:59.123512\n",
       "Name: time_tz, dtype: datetime64[ns]"
      ]
     },
     "execution_count": 41,
     "metadata": {},
     "output_type": "execute_result"
    }
   ],
   "source": [
    "df['time_tz'].dt.tz_localize(None)"
   ]
  },
  {
   "cell_type": "code",
   "execution_count": 44,
   "id": "e946c790",
   "metadata": {},
   "outputs": [
    {
     "data": {
      "text/plain": [
       "0   2021-08-01 20:23:41.775854+00:00\n",
       "1   2021-08-02 20:24:12.432523+00:00\n",
       "2   2021-08-03 20:22:59.123512+00:00\n",
       "Name: time_tz, dtype: datetime64[ns, UTC]"
      ]
     },
     "execution_count": 44,
     "metadata": {},
     "output_type": "execute_result"
    }
   ],
   "source": [
    "df['time_tz'].dt.tz_convert('UTC')"
   ]
  },
  {
   "cell_type": "code",
   "execution_count": null,
   "id": "c5dbf45e",
   "metadata": {},
   "outputs": [],
   "source": []
  }
 ],
 "metadata": {
  "kernelspec": {
   "display_name": "Python 3",
   "language": "python",
   "name": "python3"
  },
  "language_info": {
   "codemirror_mode": {
    "name": "ipython",
    "version": 3
   },
   "file_extension": ".py",
   "mimetype": "text/x-python",
   "name": "python",
   "nbconvert_exporter": "python",
   "pygments_lexer": "ipython3",
   "version": "3.8.0"
  },
  "toc": {
   "base_numbering": 1,
   "nav_menu": {},
   "number_sections": false,
   "sideBar": true,
   "skip_h1_title": false,
   "title_cell": "Table of Contents",
   "title_sidebar": "Contents",
   "toc_cell": false,
   "toc_position": {},
   "toc_section_display": true,
   "toc_window_display": false
  }
 },
 "nbformat": 4,
 "nbformat_minor": 5
}
