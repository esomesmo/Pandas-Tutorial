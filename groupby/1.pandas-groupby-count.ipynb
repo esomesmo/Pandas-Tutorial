{
 "cells": [
  {
   "cell_type": "markdown",
   "metadata": {},
   "source": [
    "# GroupBy and Count in Pandas"
   ]
  },
  {
   "cell_type": "code",
   "execution_count": 1,
   "metadata": {},
   "outputs": [],
   "source": [
    "import pandas as pd\n",
    "df = pd.read_csv('../data/medium_data.csv.zip')"
   ]
  },
  {
   "cell_type": "markdown",
   "metadata": {},
   "source": [
    "## Option 1: GroupBy and Count in Pandas"
   ]
  },
  {
   "cell_type": "code",
   "execution_count": 2,
   "metadata": {},
   "outputs": [],
   "source": [
    "df['date'] = pd.to_datetime(df['date'])\n",
    "df['date_m'] = df['date'].dt.to_period('M')"
   ]
  },
  {
   "cell_type": "code",
   "execution_count": 3,
   "metadata": {},
   "outputs": [
    {
     "data": {
      "text/plain": [
       "publication    date_m \n",
       "Better Humans  2019-03     5\n",
       "               2019-04     4\n",
       "               2019-05     4\n",
       "               2019-06     1\n",
       "               2019-07     3\n",
       "                          ..\n",
       "UX Collective  2019-08    24\n",
       "               2019-09    33\n",
       "               2019-10    86\n",
       "               2019-11    28\n",
       "               2019-12    46\n",
       "Name: url, Length: 79, dtype: int64"
      ]
     },
     "execution_count": 3,
     "metadata": {},
     "output_type": "execute_result"
    }
   ],
   "source": [
    "df.groupby(['publication', 'date_m'])['url'].count()"
   ]
  },
  {
   "cell_type": "markdown",
   "metadata": {},
   "source": [
    "## Option 2: GroupBy and Aggregate functions in Pandas"
   ]
  },
  {
   "cell_type": "code",
   "execution_count": 4,
   "metadata": {},
   "outputs": [
    {
     "data": {
      "text/plain": [
       "<pandas.core.groupby.generic.DataFrameGroupBy object at 0x7fc350575be0>"
      ]
     },
     "execution_count": 4,
     "metadata": {},
     "output_type": "execute_result"
    }
   ],
   "source": [
    "df.groupby(['publication', 'date_m'])"
   ]
  },
  {
   "cell_type": "code",
   "execution_count": 5,
   "metadata": {},
   "outputs": [
    {
     "data": {
      "text/html": [
       "<div>\n",
       "<style scoped>\n",
       "    .dataframe tbody tr th:only-of-type {\n",
       "        vertical-align: middle;\n",
       "    }\n",
       "\n",
       "    .dataframe tbody tr th {\n",
       "        vertical-align: top;\n",
       "    }\n",
       "\n",
       "    .dataframe thead tr th {\n",
       "        text-align: left;\n",
       "    }\n",
       "\n",
       "    .dataframe thead tr:last-of-type th {\n",
       "        text-align: right;\n",
       "    }\n",
       "</style>\n",
       "<table border=\"1\" class=\"dataframe\">\n",
       "  <thead>\n",
       "    <tr>\n",
       "      <th></th>\n",
       "      <th></th>\n",
       "      <th colspan=\"3\" halign=\"left\">id</th>\n",
       "      <th colspan=\"3\" halign=\"left\">claps</th>\n",
       "      <th colspan=\"3\" halign=\"left\">reading_time</th>\n",
       "    </tr>\n",
       "    <tr>\n",
       "      <th></th>\n",
       "      <th></th>\n",
       "      <th>mean</th>\n",
       "      <th>count</th>\n",
       "      <th>sum</th>\n",
       "      <th>mean</th>\n",
       "      <th>count</th>\n",
       "      <th>sum</th>\n",
       "      <th>mean</th>\n",
       "      <th>count</th>\n",
       "      <th>sum</th>\n",
       "    </tr>\n",
       "    <tr>\n",
       "      <th>publication</th>\n",
       "      <th>date_m</th>\n",
       "      <th></th>\n",
       "      <th></th>\n",
       "      <th></th>\n",
       "      <th></th>\n",
       "      <th></th>\n",
       "      <th></th>\n",
       "      <th></th>\n",
       "      <th></th>\n",
       "      <th></th>\n",
       "    </tr>\n",
       "  </thead>\n",
       "  <tbody>\n",
       "    <tr>\n",
       "      <th rowspan=\"9\" valign=\"top\">Better Humans</th>\n",
       "      <th>2019-03</th>\n",
       "      <td>5138.200000</td>\n",
       "      <td>5</td>\n",
       "      <td>25691</td>\n",
       "      <td>1710.800000</td>\n",
       "      <td>5</td>\n",
       "      <td>8554</td>\n",
       "      <td>12.000000</td>\n",
       "      <td>5</td>\n",
       "      <td>60</td>\n",
       "    </tr>\n",
       "    <tr>\n",
       "      <th>2019-04</th>\n",
       "      <td>2308.250000</td>\n",
       "      <td>4</td>\n",
       "      <td>9233</td>\n",
       "      <td>3942.250000</td>\n",
       "      <td>4</td>\n",
       "      <td>15769</td>\n",
       "      <td>7.500000</td>\n",
       "      <td>4</td>\n",
       "      <td>30</td>\n",
       "    </tr>\n",
       "    <tr>\n",
       "      <th>2019-05</th>\n",
       "      <td>3382.000000</td>\n",
       "      <td>4</td>\n",
       "      <td>13528</td>\n",
       "      <td>1187.000000</td>\n",
       "      <td>4</td>\n",
       "      <td>4748</td>\n",
       "      <td>25.000000</td>\n",
       "      <td>4</td>\n",
       "      <td>100</td>\n",
       "    </tr>\n",
       "    <tr>\n",
       "      <th>2019-06</th>\n",
       "      <td>6326.000000</td>\n",
       "      <td>1</td>\n",
       "      <td>6326</td>\n",
       "      <td>9700.000000</td>\n",
       "      <td>1</td>\n",
       "      <td>9700</td>\n",
       "      <td>5.000000</td>\n",
       "      <td>1</td>\n",
       "      <td>5</td>\n",
       "    </tr>\n",
       "    <tr>\n",
       "      <th>2019-07</th>\n",
       "      <td>1189.333333</td>\n",
       "      <td>3</td>\n",
       "      <td>3568</td>\n",
       "      <td>1183.333333</td>\n",
       "      <td>3</td>\n",
       "      <td>3550</td>\n",
       "      <td>22.333333</td>\n",
       "      <td>3</td>\n",
       "      <td>67</td>\n",
       "    </tr>\n",
       "    <tr>\n",
       "      <th>2019-09</th>\n",
       "      <td>2201.333333</td>\n",
       "      <td>3</td>\n",
       "      <td>6604</td>\n",
       "      <td>439.333333</td>\n",
       "      <td>3</td>\n",
       "      <td>1318</td>\n",
       "      <td>12.000000</td>\n",
       "      <td>3</td>\n",
       "      <td>36</td>\n",
       "    </tr>\n",
       "    <tr>\n",
       "      <th>2019-10</th>\n",
       "      <td>2422.000000</td>\n",
       "      <td>4</td>\n",
       "      <td>9688</td>\n",
       "      <td>204.500000</td>\n",
       "      <td>4</td>\n",
       "      <td>818</td>\n",
       "      <td>9.750000</td>\n",
       "      <td>4</td>\n",
       "      <td>39</td>\n",
       "    </tr>\n",
       "    <tr>\n",
       "      <th>2019-11</th>\n",
       "      <td>2441.500000</td>\n",
       "      <td>2</td>\n",
       "      <td>4883</td>\n",
       "      <td>1460.500000</td>\n",
       "      <td>2</td>\n",
       "      <td>2921</td>\n",
       "      <td>9.000000</td>\n",
       "      <td>2</td>\n",
       "      <td>18</td>\n",
       "    </tr>\n",
       "    <tr>\n",
       "      <th>2019-12</th>\n",
       "      <td>2299.500000</td>\n",
       "      <td>2</td>\n",
       "      <td>4599</td>\n",
       "      <td>1900.000000</td>\n",
       "      <td>2</td>\n",
       "      <td>3800</td>\n",
       "      <td>9.500000</td>\n",
       "      <td>2</td>\n",
       "      <td>19</td>\n",
       "    </tr>\n",
       "    <tr>\n",
       "      <th rowspan=\"6\" valign=\"top\">Better Marketing</th>\n",
       "      <th>2019-03</th>\n",
       "      <td>4798.600000</td>\n",
       "      <td>5</td>\n",
       "      <td>23993</td>\n",
       "      <td>1857.600000</td>\n",
       "      <td>5</td>\n",
       "      <td>9288</td>\n",
       "      <td>9.600000</td>\n",
       "      <td>5</td>\n",
       "      <td>48</td>\n",
       "    </tr>\n",
       "    <tr>\n",
       "      <th>2019-04</th>\n",
       "      <td>3816.750000</td>\n",
       "      <td>4</td>\n",
       "      <td>15267</td>\n",
       "      <td>1494.500000</td>\n",
       "      <td>4</td>\n",
       "      <td>5978</td>\n",
       "      <td>5.500000</td>\n",
       "      <td>4</td>\n",
       "      <td>22</td>\n",
       "    </tr>\n",
       "    <tr>\n",
       "      <th>2019-05</th>\n",
       "      <td>2650.911765</td>\n",
       "      <td>34</td>\n",
       "      <td>90131</td>\n",
       "      <td>637.588235</td>\n",
       "      <td>34</td>\n",
       "      <td>21678</td>\n",
       "      <td>6.529412</td>\n",
       "      <td>34</td>\n",
       "      <td>222</td>\n",
       "    </tr>\n",
       "    <tr>\n",
       "      <th>2019-06</th>\n",
       "      <td>5757.200000</td>\n",
       "      <td>15</td>\n",
       "      <td>86358</td>\n",
       "      <td>649.200000</td>\n",
       "      <td>15</td>\n",
       "      <td>9738</td>\n",
       "      <td>7.000000</td>\n",
       "      <td>15</td>\n",
       "      <td>105</td>\n",
       "    </tr>\n",
       "    <tr>\n",
       "      <th>2019-07</th>\n",
       "      <td>1835.382979</td>\n",
       "      <td>47</td>\n",
       "      <td>86263</td>\n",
       "      <td>517.957447</td>\n",
       "      <td>47</td>\n",
       "      <td>24344</td>\n",
       "      <td>6.106383</td>\n",
       "      <td>47</td>\n",
       "      <td>287</td>\n",
       "    </tr>\n",
       "    <tr>\n",
       "      <th>2019-08</th>\n",
       "      <td>3423.400000</td>\n",
       "      <td>25</td>\n",
       "      <td>85585</td>\n",
       "      <td>935.840000</td>\n",
       "      <td>25</td>\n",
       "      <td>23396</td>\n",
       "      <td>5.880000</td>\n",
       "      <td>25</td>\n",
       "      <td>147</td>\n",
       "    </tr>\n",
       "  </tbody>\n",
       "</table>\n",
       "</div>"
      ],
      "text/plain": [
       "                                   id                     claps               \\\n",
       "                                 mean count    sum         mean count    sum   \n",
       "publication      date_m                                                        \n",
       "Better Humans    2019-03  5138.200000     5  25691  1710.800000     5   8554   \n",
       "                 2019-04  2308.250000     4   9233  3942.250000     4  15769   \n",
       "                 2019-05  3382.000000     4  13528  1187.000000     4   4748   \n",
       "                 2019-06  6326.000000     1   6326  9700.000000     1   9700   \n",
       "                 2019-07  1189.333333     3   3568  1183.333333     3   3550   \n",
       "                 2019-09  2201.333333     3   6604   439.333333     3   1318   \n",
       "                 2019-10  2422.000000     4   9688   204.500000     4    818   \n",
       "                 2019-11  2441.500000     2   4883  1460.500000     2   2921   \n",
       "                 2019-12  2299.500000     2   4599  1900.000000     2   3800   \n",
       "Better Marketing 2019-03  4798.600000     5  23993  1857.600000     5   9288   \n",
       "                 2019-04  3816.750000     4  15267  1494.500000     4   5978   \n",
       "                 2019-05  2650.911765    34  90131   637.588235    34  21678   \n",
       "                 2019-06  5757.200000    15  86358   649.200000    15   9738   \n",
       "                 2019-07  1835.382979    47  86263   517.957447    47  24344   \n",
       "                 2019-08  3423.400000    25  85585   935.840000    25  23396   \n",
       "\n",
       "                         reading_time             \n",
       "                                 mean count  sum  \n",
       "publication      date_m                           \n",
       "Better Humans    2019-03    12.000000     5   60  \n",
       "                 2019-04     7.500000     4   30  \n",
       "                 2019-05    25.000000     4  100  \n",
       "                 2019-06     5.000000     1    5  \n",
       "                 2019-07    22.333333     3   67  \n",
       "                 2019-09    12.000000     3   36  \n",
       "                 2019-10     9.750000     4   39  \n",
       "                 2019-11     9.000000     2   18  \n",
       "                 2019-12     9.500000     2   19  \n",
       "Better Marketing 2019-03     9.600000     5   48  \n",
       "                 2019-04     5.500000     4   22  \n",
       "                 2019-05     6.529412    34  222  \n",
       "                 2019-06     7.000000    15  105  \n",
       "                 2019-07     6.106383    47  287  \n",
       "                 2019-08     5.880000    25  147  "
      ]
     },
     "execution_count": 5,
     "metadata": {},
     "output_type": "execute_result"
    }
   ],
   "source": [
    "df.groupby(['publication', 'date_m']).agg(['mean', 'count', 'sum']).head(15)"
   ]
  },
  {
   "cell_type": "markdown",
   "metadata": {},
   "source": [
    "## Option 3: GroupBy, Count and value_counts in Pandas"
   ]
  },
  {
   "cell_type": "code",
   "execution_count": 6,
   "metadata": {},
   "outputs": [
    {
     "data": {
      "text/plain": [
       "publication    date_m \n",
       "The Startup    2019-05    656\n",
       "               2019-10    477\n",
       "               2019-07    401\n",
       "               2019-12    310\n",
       "               2019-06    286\n",
       "                         ... \n",
       "Better Humans  2019-07      3\n",
       "UX Collective  2019-01      2\n",
       "Better Humans  2019-12      2\n",
       "               2019-11      2\n",
       "               2019-06      1\n",
       "Length: 79, dtype: int64"
      ]
     },
     "execution_count": 6,
     "metadata": {},
     "output_type": "execute_result"
    }
   ],
   "source": [
    "df.value_counts(['publication', 'date_m']) "
   ]
  },
  {
   "cell_type": "code",
   "execution_count": 7,
   "metadata": {},
   "outputs": [
    {
     "data": {
      "text/plain": [
       "publication    date_m \n",
       "The Startup    2019-05    656\n",
       "               2019-10    477\n",
       "               2019-07    401\n",
       "               2019-12    310\n",
       "               2019-06    286\n",
       "                         ... \n",
       "Better Humans  2019-07      3\n",
       "UX Collective  2019-01      2\n",
       "Better Humans  2019-12      2\n",
       "               2019-11      2\n",
       "               2019-06      1\n",
       "Name: url, Length: 79, dtype: int64"
      ]
     },
     "execution_count": 7,
     "metadata": {},
     "output_type": "execute_result"
    }
   ],
   "source": [
    "df.groupby(['publication', 'date_m'])['url'].count().sort_values(ascending=False)"
   ]
  },
  {
   "cell_type": "markdown",
   "metadata": {},
   "source": [
    "## Option 4: GroupBy and Count + Size in Pandas"
   ]
  },
  {
   "cell_type": "code",
   "execution_count": 8,
   "metadata": {},
   "outputs": [
    {
     "data": {
      "text/plain": [
       "publication    date_m \n",
       "Better Humans  2019-03     5\n",
       "               2019-04     4\n",
       "               2019-05     4\n",
       "               2019-06     1\n",
       "               2019-07     3\n",
       "                          ..\n",
       "UX Collective  2019-08    24\n",
       "               2019-09    33\n",
       "               2019-10    86\n",
       "               2019-11    28\n",
       "               2019-12    46\n",
       "Length: 79, dtype: int64"
      ]
     },
     "execution_count": 8,
     "metadata": {},
     "output_type": "execute_result"
    }
   ],
   "source": [
    "df.groupby(['publication', 'date_m']).size()"
   ]
  },
  {
   "cell_type": "markdown",
   "metadata": {},
   "source": [
    "## Option 5: GroupBy and Count + Size in Pandas"
   ]
  },
  {
   "cell_type": "code",
   "execution_count": 9,
   "metadata": {},
   "outputs": [
    {
     "data": {
      "text/html": [
       "<div>\n",
       "<style scoped>\n",
       "    .dataframe tbody tr th:only-of-type {\n",
       "        vertical-align: middle;\n",
       "    }\n",
       "\n",
       "    .dataframe tbody tr th {\n",
       "        vertical-align: top;\n",
       "    }\n",
       "\n",
       "    .dataframe thead th {\n",
       "        text-align: right;\n",
       "    }\n",
       "</style>\n",
       "<table border=\"1\" class=\"dataframe\">\n",
       "  <thead>\n",
       "    <tr style=\"text-align: right;\">\n",
       "      <th></th>\n",
       "      <th></th>\n",
       "      <th>count</th>\n",
       "      <th>mean</th>\n",
       "      <th>std</th>\n",
       "      <th>min</th>\n",
       "      <th>25%</th>\n",
       "      <th>50%</th>\n",
       "      <th>75%</th>\n",
       "      <th>max</th>\n",
       "    </tr>\n",
       "    <tr>\n",
       "      <th>publication</th>\n",
       "      <th>date_m</th>\n",
       "      <th></th>\n",
       "      <th></th>\n",
       "      <th></th>\n",
       "      <th></th>\n",
       "      <th></th>\n",
       "      <th></th>\n",
       "      <th></th>\n",
       "      <th></th>\n",
       "    </tr>\n",
       "  </thead>\n",
       "  <tbody>\n",
       "    <tr>\n",
       "      <th rowspan=\"5\" valign=\"top\">Better Humans</th>\n",
       "      <th>2019-03</th>\n",
       "      <td>5.0</td>\n",
       "      <td>12.000000</td>\n",
       "      <td>5.196152</td>\n",
       "      <td>3.0</td>\n",
       "      <td>13.00</td>\n",
       "      <td>13.0</td>\n",
       "      <td>15.00</td>\n",
       "      <td>16.0</td>\n",
       "    </tr>\n",
       "    <tr>\n",
       "      <th>2019-04</th>\n",
       "      <td>4.0</td>\n",
       "      <td>7.500000</td>\n",
       "      <td>5.196152</td>\n",
       "      <td>2.0</td>\n",
       "      <td>4.25</td>\n",
       "      <td>7.0</td>\n",
       "      <td>10.25</td>\n",
       "      <td>14.0</td>\n",
       "    </tr>\n",
       "    <tr>\n",
       "      <th>2019-05</th>\n",
       "      <td>4.0</td>\n",
       "      <td>25.000000</td>\n",
       "      <td>7.958224</td>\n",
       "      <td>17.0</td>\n",
       "      <td>21.50</td>\n",
       "      <td>23.5</td>\n",
       "      <td>27.00</td>\n",
       "      <td>36.0</td>\n",
       "    </tr>\n",
       "    <tr>\n",
       "      <th>2019-06</th>\n",
       "      <td>1.0</td>\n",
       "      <td>5.000000</td>\n",
       "      <td>NaN</td>\n",
       "      <td>5.0</td>\n",
       "      <td>5.00</td>\n",
       "      <td>5.0</td>\n",
       "      <td>5.00</td>\n",
       "      <td>5.0</td>\n",
       "    </tr>\n",
       "    <tr>\n",
       "      <th>2019-07</th>\n",
       "      <td>3.0</td>\n",
       "      <td>22.333333</td>\n",
       "      <td>15.307950</td>\n",
       "      <td>13.0</td>\n",
       "      <td>13.50</td>\n",
       "      <td>14.0</td>\n",
       "      <td>27.00</td>\n",
       "      <td>40.0</td>\n",
       "    </tr>\n",
       "    <tr>\n",
       "      <th>...</th>\n",
       "      <th>...</th>\n",
       "      <td>...</td>\n",
       "      <td>...</td>\n",
       "      <td>...</td>\n",
       "      <td>...</td>\n",
       "      <td>...</td>\n",
       "      <td>...</td>\n",
       "      <td>...</td>\n",
       "      <td>...</td>\n",
       "    </tr>\n",
       "    <tr>\n",
       "      <th rowspan=\"5\" valign=\"top\">UX Collective</th>\n",
       "      <th>2019-08</th>\n",
       "      <td>24.0</td>\n",
       "      <td>6.333333</td>\n",
       "      <td>3.102126</td>\n",
       "      <td>2.0</td>\n",
       "      <td>4.00</td>\n",
       "      <td>5.0</td>\n",
       "      <td>7.50</td>\n",
       "      <td>14.0</td>\n",
       "    </tr>\n",
       "    <tr>\n",
       "      <th>2019-09</th>\n",
       "      <td>33.0</td>\n",
       "      <td>5.757576</td>\n",
       "      <td>2.738959</td>\n",
       "      <td>2.0</td>\n",
       "      <td>4.00</td>\n",
       "      <td>5.0</td>\n",
       "      <td>7.00</td>\n",
       "      <td>13.0</td>\n",
       "    </tr>\n",
       "    <tr>\n",
       "      <th>2019-10</th>\n",
       "      <td>86.0</td>\n",
       "      <td>6.104651</td>\n",
       "      <td>5.788486</td>\n",
       "      <td>2.0</td>\n",
       "      <td>4.00</td>\n",
       "      <td>5.0</td>\n",
       "      <td>7.00</td>\n",
       "      <td>55.0</td>\n",
       "    </tr>\n",
       "    <tr>\n",
       "      <th>2019-11</th>\n",
       "      <td>28.0</td>\n",
       "      <td>5.535714</td>\n",
       "      <td>2.516349</td>\n",
       "      <td>2.0</td>\n",
       "      <td>3.00</td>\n",
       "      <td>5.0</td>\n",
       "      <td>7.00</td>\n",
       "      <td>12.0</td>\n",
       "    </tr>\n",
       "    <tr>\n",
       "      <th>2019-12</th>\n",
       "      <td>46.0</td>\n",
       "      <td>6.326087</td>\n",
       "      <td>3.496375</td>\n",
       "      <td>1.0</td>\n",
       "      <td>4.25</td>\n",
       "      <td>6.0</td>\n",
       "      <td>7.00</td>\n",
       "      <td>20.0</td>\n",
       "    </tr>\n",
       "  </tbody>\n",
       "</table>\n",
       "<p>79 rows × 8 columns</p>\n",
       "</div>"
      ],
      "text/plain": [
       "                       count       mean        std   min    25%   50%    75%  \\\n",
       "publication   date_m                                                           \n",
       "Better Humans 2019-03    5.0  12.000000   5.196152   3.0  13.00  13.0  15.00   \n",
       "              2019-04    4.0   7.500000   5.196152   2.0   4.25   7.0  10.25   \n",
       "              2019-05    4.0  25.000000   7.958224  17.0  21.50  23.5  27.00   \n",
       "              2019-06    1.0   5.000000        NaN   5.0   5.00   5.0   5.00   \n",
       "              2019-07    3.0  22.333333  15.307950  13.0  13.50  14.0  27.00   \n",
       "...                      ...        ...        ...   ...    ...   ...    ...   \n",
       "UX Collective 2019-08   24.0   6.333333   3.102126   2.0   4.00   5.0   7.50   \n",
       "              2019-09   33.0   5.757576   2.738959   2.0   4.00   5.0   7.00   \n",
       "              2019-10   86.0   6.104651   5.788486   2.0   4.00   5.0   7.00   \n",
       "              2019-11   28.0   5.535714   2.516349   2.0   3.00   5.0   7.00   \n",
       "              2019-12   46.0   6.326087   3.496375   1.0   4.25   6.0   7.00   \n",
       "\n",
       "                        max  \n",
       "publication   date_m         \n",
       "Better Humans 2019-03  16.0  \n",
       "              2019-04  14.0  \n",
       "              2019-05  36.0  \n",
       "              2019-06   5.0  \n",
       "              2019-07  40.0  \n",
       "...                     ...  \n",
       "UX Collective 2019-08  14.0  \n",
       "              2019-09  13.0  \n",
       "              2019-10  55.0  \n",
       "              2019-11  12.0  \n",
       "              2019-12  20.0  \n",
       "\n",
       "[79 rows x 8 columns]"
      ]
     },
     "execution_count": 9,
     "metadata": {},
     "output_type": "execute_result"
    }
   ],
   "source": [
    "df.groupby(['publication', 'date_m'])['reading_time'].describe()"
   ]
  },
  {
   "cell_type": "markdown",
   "metadata": {},
   "source": [
    "## Performance"
   ]
  },
  {
   "cell_type": "code",
   "execution_count": 10,
   "metadata": {},
   "outputs": [
    {
     "name": "stdout",
     "output_type": "stream",
     "text": [
      "1.41 ms ± 21.6 µs per loop (mean ± std. dev. of 7 runs, 1000 loops each)\n"
     ]
    }
   ],
   "source": [
    "%timeit df.groupby(['publication', 'date_m'])['publication'].count()"
   ]
  },
  {
   "cell_type": "code",
   "execution_count": 11,
   "metadata": {},
   "outputs": [
    {
     "name": "stdout",
     "output_type": "stream",
     "text": [
      "1.06 ms ± 12.7 µs per loop (mean ± std. dev. of 7 runs, 1000 loops each)\n"
     ]
    }
   ],
   "source": [
    "%timeit df.value_counts(subset=['publication', 'date_m'], sort=False)"
   ]
  },
  {
   "cell_type": "code",
   "execution_count": 12,
   "metadata": {},
   "outputs": [
    {
     "name": "stdout",
     "output_type": "stream",
     "text": [
      "1.18 ms ± 6.17 µs per loop (mean ± std. dev. of 7 runs, 1000 loops each)\n"
     ]
    }
   ],
   "source": [
    "%timeit df.value_counts(subset=['publication', 'date_m'])"
   ]
  },
  {
   "cell_type": "code",
   "execution_count": 13,
   "metadata": {},
   "outputs": [
    {
     "data": {
      "text/plain": [
       "publication    date_m \n",
       "Better Humans  2019-03     5\n",
       "               2019-04     4\n",
       "               2019-05     4\n",
       "               2019-06     1\n",
       "               2019-07     3\n",
       "                          ..\n",
       "UX Collective  2019-08    24\n",
       "               2019-09    33\n",
       "               2019-10    86\n",
       "               2019-11    28\n",
       "               2019-12    46\n",
       "Name: publication, Length: 79, dtype: int64"
      ]
     },
     "execution_count": 13,
     "metadata": {},
     "output_type": "execute_result"
    }
   ],
   "source": [
    "df.groupby(['publication', 'date_m'])['publication'].count()"
   ]
  },
  {
   "cell_type": "code",
   "execution_count": 14,
   "metadata": {},
   "outputs": [
    {
     "data": {
      "text/plain": [
       "publication    date_m \n",
       "Better Humans  2019-03     5\n",
       "               2019-04     4\n",
       "               2019-05     4\n",
       "               2019-06     1\n",
       "               2019-07     3\n",
       "                          ..\n",
       "UX Collective  2019-08    24\n",
       "               2019-09    33\n",
       "               2019-10    86\n",
       "               2019-11    28\n",
       "               2019-12    46\n",
       "Length: 79, dtype: int64"
      ]
     },
     "execution_count": 14,
     "metadata": {},
     "output_type": "execute_result"
    }
   ],
   "source": [
    "df.value_counts(subset=['publication', 'date_m'], sort=False)"
   ]
  },
  {
   "cell_type": "code",
   "execution_count": null,
   "metadata": {},
   "outputs": [],
   "source": []
  }
 ],
 "metadata": {
  "kernelspec": {
   "display_name": "Python 3",
   "language": "python",
   "name": "python3"
  },
  "language_info": {
   "codemirror_mode": {
    "name": "ipython",
    "version": 3
   },
   "file_extension": ".py",
   "mimetype": "text/x-python",
   "name": "python",
   "nbconvert_exporter": "python",
   "pygments_lexer": "ipython3",
   "version": "3.8.0"
  },
  "toc": {
   "base_numbering": 1,
   "nav_menu": {},
   "number_sections": true,
   "sideBar": true,
   "skip_h1_title": false,
   "title_cell": "Table of Contents",
   "title_sidebar": "Contents",
   "toc_cell": false,
   "toc_position": {},
   "toc_section_display": true,
   "toc_window_display": false
  }
 },
 "nbformat": 4,
 "nbformat_minor": 2
}
