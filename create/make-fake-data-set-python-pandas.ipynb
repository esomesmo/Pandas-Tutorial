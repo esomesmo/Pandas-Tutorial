{
 "cells": [
  {
   "cell_type": "markdown",
   "id": "a7676c8f",
   "metadata": {},
   "source": [
    "# How To Make a Fake Data Set in Python and Pandas"
   ]
  },
  {
   "cell_type": "markdown",
   "id": "7c2e41bc",
   "metadata": {},
   "source": [
    "## 3. Generate data with Faker"
   ]
  },
  {
   "cell_type": "code",
   "execution_count": 1,
   "id": "b35574ad",
   "metadata": {},
   "outputs": [
    {
     "name": "stdout",
     "output_type": "stream",
     "text": [
      "Lina Ossola-Acerbi\n",
      "Leopoldo Lanfranchi\n",
      "Gianpaolo Versace\n",
      "Sandro Galuppi\n",
      "Augusto Mercati-Barcella\n"
     ]
    }
   ],
   "source": [
    "from faker import Faker\n",
    "fake = Faker('it_IT')\n",
    "for _ in range(5):\n",
    "    print(fake.name())"
   ]
  },
  {
   "cell_type": "code",
   "execution_count": 2,
   "id": "8842a190",
   "metadata": {},
   "outputs": [
    {
     "name": "stdout",
     "output_type": "stream",
     "text": [
      "John Harris\n",
      "Isa Benigni-Dellucci\n",
      "James Nguyen\n",
      "Marcello Bonanno\n",
      "Timothy Palmer\n",
      "Alfredo Battelli\n",
      "石川 里佳\n",
      "Gelsomina Sbarbaro\n",
      "Sig.ra Sophia Camuccini\n",
      "Dino Schiaparelli-Morosini\n"
     ]
    }
   ],
   "source": [
    "from faker import Faker\n",
    "fake = Faker(['it_IT', 'en_US', 'ja_JP'])\n",
    "for _ in range(10):\n",
    "    print(fake.name())"
   ]
  },
  {
   "cell_type": "markdown",
   "id": "f9669204",
   "metadata": {},
   "source": [
    "### 3.1. Locales"
   ]
  },
  {
   "cell_type": "code",
   "execution_count": 3,
   "id": "9392b547",
   "metadata": {},
   "outputs": [
    {
     "name": "stdout",
     "output_type": "stream",
     "text": [
      "Ryanport, USA\n",
      "Sesto Augusto, Italy\n"
     ]
    }
   ],
   "source": [
    "from faker import Faker\n",
    "\n",
    "en_us_faker = Faker('en_US')\n",
    "it_it_fake = Faker('it_IT')\n",
    "\n",
    "print(f'{en_us_faker.city()}, USA')\n",
    "print(f'{it_it_fake.city()}, Italy')"
   ]
  },
  {
   "cell_type": "markdown",
   "id": "4b1fe799",
   "metadata": {},
   "source": [
    "### 3.2. Providers"
   ]
  },
  {
   "cell_type": "code",
   "execution_count": 4,
   "id": "84b88144",
   "metadata": {},
   "outputs": [
    {
     "data": {
      "text/plain": [
       "'Data Mining'"
      ]
     },
     "execution_count": 4,
     "metadata": {},
     "output_type": "execute_result"
    }
   ],
   "source": [
    "from faker.providers import DynamicProvider\n",
    "\n",
    "skill_provider = DynamicProvider(\n",
    "     provider_name=\"skills\",\n",
    "     elements=[\"Python\", \"Pandas\", \"Linux\", \"SQL\", \"Data Mining\"],\n",
    ")\n",
    "\n",
    "\n",
    "fake = Faker('en_US')\n",
    "fake.add_provider(skill_provider)\n",
    "\n",
    "fake.skills()"
   ]
  },
  {
   "cell_type": "markdown",
   "id": "c52c0891",
   "metadata": {},
   "source": [
    "## 4. Create DataFrame with Fake Data"
   ]
  },
  {
   "cell_type": "code",
   "execution_count": 5,
   "id": "eb394f87",
   "metadata": {},
   "outputs": [
    {
     "data": {
      "text/html": [
       "<div>\n",
       "<style scoped>\n",
       "    .dataframe tbody tr th:only-of-type {\n",
       "        vertical-align: middle;\n",
       "    }\n",
       "\n",
       "    .dataframe tbody tr th {\n",
       "        vertical-align: top;\n",
       "    }\n",
       "\n",
       "    .dataframe thead th {\n",
       "        text-align: right;\n",
       "    }\n",
       "</style>\n",
       "<table border=\"1\" class=\"dataframe\">\n",
       "  <thead>\n",
       "    <tr style=\"text-align: right;\">\n",
       "      <th></th>\n",
       "      <th>First Name</th>\n",
       "      <th>Last Name</th>\n",
       "      <th>Birth Date</th>\n",
       "      <th>Email</th>\n",
       "      <th>Hobby</th>\n",
       "      <th>Experience</th>\n",
       "      <th>Start Year</th>\n",
       "      <th>Sallary</th>\n",
       "      <th>City</th>\n",
       "      <th>Nationality</th>\n",
       "      <th>Skill</th>\n",
       "    </tr>\n",
       "  </thead>\n",
       "  <tbody>\n",
       "    <tr>\n",
       "      <th>0</th>\n",
       "      <td>Craig</td>\n",
       "      <td>Hale</td>\n",
       "      <td>1988-01-09</td>\n",
       "      <td>craig.hale@fake_domain-2.com</td>\n",
       "      <td>fact</td>\n",
       "      <td>4</td>\n",
       "      <td>1977</td>\n",
       "      <td>100000</td>\n",
       "      <td>Rebeccastad</td>\n",
       "      <td>Gambia</td>\n",
       "      <td>Python</td>\n",
       "    </tr>\n",
       "    <tr>\n",
       "      <th>1</th>\n",
       "      <td>Frank</td>\n",
       "      <td>Davis</td>\n",
       "      <td>1976-09-18</td>\n",
       "      <td>frank.davis@fake_domain-2.com</td>\n",
       "      <td>event</td>\n",
       "      <td>13</td>\n",
       "      <td>2007</td>\n",
       "      <td>100000</td>\n",
       "      <td>Port Emilyborough</td>\n",
       "      <td>Serbia</td>\n",
       "      <td>Linux</td>\n",
       "    </tr>\n",
       "    <tr>\n",
       "      <th>2</th>\n",
       "      <td>Elijah</td>\n",
       "      <td>Murphy</td>\n",
       "      <td>1973-05-28</td>\n",
       "      <td>elijah.murphy@fake_domain-2.com</td>\n",
       "      <td>as</td>\n",
       "      <td>5</td>\n",
       "      <td>1979</td>\n",
       "      <td>90000</td>\n",
       "      <td>North Brandiberg</td>\n",
       "      <td>Kazakhstan</td>\n",
       "      <td>Pandas</td>\n",
       "    </tr>\n",
       "    <tr>\n",
       "      <th>3</th>\n",
       "      <td>Jesse</td>\n",
       "      <td>Fox</td>\n",
       "      <td>1984-10-14</td>\n",
       "      <td>jesse.fox@fake_domain-2.com</td>\n",
       "      <td>upon</td>\n",
       "      <td>5</td>\n",
       "      <td>1987</td>\n",
       "      <td>130000</td>\n",
       "      <td>Amyshire</td>\n",
       "      <td>Botswana</td>\n",
       "      <td>Pandas</td>\n",
       "    </tr>\n",
       "    <tr>\n",
       "      <th>4</th>\n",
       "      <td>Yesenia</td>\n",
       "      <td>Bradford</td>\n",
       "      <td>1985-02-06</td>\n",
       "      <td>yesenia.bradford@fake_domain-2.com</td>\n",
       "      <td>would</td>\n",
       "      <td>9</td>\n",
       "      <td>2003</td>\n",
       "      <td>110000</td>\n",
       "      <td>East Brett</td>\n",
       "      <td>Pitcairn Islands</td>\n",
       "      <td>SQL</td>\n",
       "    </tr>\n",
       "  </tbody>\n",
       "</table>\n",
       "</div>"
      ],
      "text/plain": [
       "  First Name Last Name  Birth Date                               Email  Hobby  \\\n",
       "0      Craig      Hale  1988-01-09        craig.hale@fake_domain-2.com   fact   \n",
       "1      Frank     Davis  1976-09-18       frank.davis@fake_domain-2.com  event   \n",
       "2     Elijah    Murphy  1973-05-28     elijah.murphy@fake_domain-2.com     as   \n",
       "3      Jesse       Fox  1984-10-14         jesse.fox@fake_domain-2.com   upon   \n",
       "4    Yesenia  Bradford  1985-02-06  yesenia.bradford@fake_domain-2.com  would   \n",
       "\n",
       "   Experience Start Year  Sallary               City       Nationality   Skill  \n",
       "0           4       1977   100000        Rebeccastad            Gambia  Python  \n",
       "1          13       2007   100000  Port Emilyborough            Serbia   Linux  \n",
       "2           5       1979    90000   North Brandiberg        Kazakhstan  Pandas  \n",
       "3           5       1987   130000           Amyshire          Botswana  Pandas  \n",
       "4           9       2003   110000         East Brett  Pitcairn Islands     SQL  "
      ]
     },
     "execution_count": 5,
     "metadata": {},
     "output_type": "execute_result"
    }
   ],
   "source": [
    "import csv\n",
    "import pandas as pd\n",
    "from faker import Faker\n",
    "import datetime\n",
    "import random\n",
    "from faker.providers import DynamicProvider\n",
    "\n",
    "skill_provider = DynamicProvider(\n",
    "     provider_name=\"skills\",\n",
    "     elements=[\"Python\", \"Pandas\", \"Linux\", \"SQL\", \"Data Mining\"],\n",
    ")\n",
    "\n",
    "\n",
    "def fake_data_generation(records):\n",
    "    fake = Faker('en_US')\n",
    "    \n",
    "    employee = []\n",
    "    \n",
    "    fake.add_provider(skill_provider)\n",
    "\n",
    "    for i in range(records):\n",
    "        first_name = fake.first_name()\n",
    "        last_name = fake.last_name()\n",
    "\n",
    "\n",
    "\n",
    "        employee.append({\n",
    "                \"First Name\": first_name,\n",
    "                \"Last Name\": last_name,\n",
    "                \"Birth Date\" : fake.date(pattern=\"%Y-%m-%d\", end_datetime=datetime.date(1995, 1,1)),\n",
    "                \"Email\": str.lower(f\"{first_name}.{last_name}@fake_domain-2.com\"),\n",
    "                \"Hobby\": fake.word(),\n",
    "                \"Experience\" : random.randint(0,15),\n",
    "                \"Start Year\": fake.year(),\n",
    "                \"Sallary\": random.randrange(75000,150000, 5000),\n",
    "                \"City\" : fake.city(),\n",
    "                \"Nationality\" : fake.country(),\n",
    "                \"Skill\": fake.skills()\n",
    "                })\n",
    "        \n",
    "    return employee\n",
    "\n",
    "\n",
    "df = pd.DataFrame(fake_data_generation(50))\n",
    "df.head()"
   ]
  },
  {
   "cell_type": "markdown",
   "id": "1173e7e3",
   "metadata": {},
   "source": [
    "## 5. Create big CSV file with Fake Data"
   ]
  },
  {
   "cell_type": "code",
   "execution_count": 6,
   "id": "293c1f81",
   "metadata": {},
   "outputs": [],
   "source": [
    "import csv\n",
    "from faker import Faker\n",
    "import datetime\n",
    "import random\n",
    "from faker.providers import DynamicProvider\n",
    "\n",
    "skill_provider = DynamicProvider(\n",
    "     provider_name=\"skills\",\n",
    "     elements=[\"Python\", \"Pandas\", \"Linux\", \"SQL\", \"Data Mining\"],\n",
    ")\n",
    "\n",
    "\n",
    "def fake_data_generation(records, headers):\n",
    "    fake = Faker('en_US')\n",
    "    \n",
    "    fake.add_provider(skill_provider)\n",
    "\n",
    "    \n",
    "    with open(\"employee.csv\", 'wt') as csvFile:\n",
    "        writer = csv.DictWriter(csvFile, fieldnames=headers)\n",
    "        writer.writeheader()\n",
    "        for i in range(records):\n",
    "            first_name = fake.first_name()\n",
    "            last_name = fake.last_name()\n",
    "            \n",
    "            \n",
    "            \n",
    "            writer.writerow({\n",
    "                    \"First Name\": first_name,\n",
    "                    \"Last Name\": last_name,\n",
    "                    \"Birth Date\" : fake.date(pattern=\"%Y-%m-%d\", end_datetime=datetime.date(1995, 1,1)),\n",
    "                    \"Email\": str.lower(f\"{first_name}.{last_name}@fake_domain-2.com\"),\n",
    "                    \"Hobby\": fake.word(),\n",
    "                    \"Experience\" : random.randint(0,15),\n",
    "                    \"Start Year\": fake.year(),\n",
    "                    \"Sallary\": random.randrange(75000,150000, 5000),\n",
    "                    \"City\" : fake.city(),\n",
    "                    \"Nationality\" : fake.country(),\n",
    "                    \"Skill\": fake.skills()\n",
    "                    })\n",
    "    \n",
    "\n",
    "number_records = 100\n",
    "fields = [\"First Name\", \"Last Name\", \"Birth Date\", \"Email\", \"Hobby\", \"Experience\",\n",
    "           \"Start Year\", \"Sallary\", \"City\", \"Nationality\", \"Skill\"]\n",
    "\n",
    "fake_data_generation(number_records, fields)\n"
   ]
  },
  {
   "cell_type": "code",
   "execution_count": null,
   "id": "d4ecdcc9",
   "metadata": {},
   "outputs": [],
   "source": []
  }
 ],
 "metadata": {
  "kernelspec": {
   "display_name": "Python 3",
   "language": "python",
   "name": "python3"
  },
  "language_info": {
   "codemirror_mode": {
    "name": "ipython",
    "version": 3
   },
   "file_extension": ".py",
   "mimetype": "text/x-python",
   "name": "python",
   "nbconvert_exporter": "python",
   "pygments_lexer": "ipython3",
   "version": "3.8.0"
  },
  "toc": {
   "base_numbering": 1,
   "nav_menu": {},
   "number_sections": false,
   "sideBar": true,
   "skip_h1_title": false,
   "title_cell": "Table of Contents",
   "title_sidebar": "Contents",
   "toc_cell": false,
   "toc_position": {},
   "toc_section_display": true,
   "toc_window_display": false
  }
 },
 "nbformat": 4,
 "nbformat_minor": 5
}
