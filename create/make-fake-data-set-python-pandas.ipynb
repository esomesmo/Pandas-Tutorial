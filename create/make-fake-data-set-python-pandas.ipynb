{
 "cells": [
  {
   "cell_type": "markdown",
   "id": "4e8cd612",
   "metadata": {},
   "source": [
    "# How To Make a Fake Data Set in Python and Pandas"
   ]
  },
  {
   "cell_type": "markdown",
   "id": "6c8377cc",
   "metadata": {},
   "source": [
    "## 3. Generate data with Faker"
   ]
  },
  {
   "cell_type": "code",
   "execution_count": 1,
   "id": "e8e590b3",
   "metadata": {},
   "outputs": [
    {
     "name": "stdout",
     "output_type": "stream",
     "text": [
      "Vincenza Grisoni\n",
      "Sig.ra Barbara Filippelli\n",
      "Ninetta Trupiano\n",
      "Ruggero Parri\n",
      "Marina Bottaro-Fattori\n"
     ]
    }
   ],
   "source": [
    "from faker import Faker\n",
    "fake = Faker('it_IT')\n",
    "for _ in range(5):\n",
    "    print(fake.name())"
   ]
  },
  {
   "cell_type": "code",
   "execution_count": 2,
   "id": "3c986024",
   "metadata": {},
   "outputs": [
    {
     "name": "stdout",
     "output_type": "stream",
     "text": [
      "Matthew Greene\n",
      "Santino Sinisi\n",
      "Arnaldo Necci\n",
      "Barbara Rose\n",
      "加藤 知実\n",
      "山本 修平\n",
      "Ms. Maria Taylor DVM\n",
      "Christopher Taylor\n",
      "Beverly Martinez\n",
      "佐藤 春香\n"
     ]
    }
   ],
   "source": [
    "from faker import Faker\n",
    "fake = Faker(['it_IT', 'en_US', 'ja_JP'])\n",
    "for _ in range(10):\n",
    "    print(fake.name())"
   ]
  },
  {
   "cell_type": "markdown",
   "id": "0f80fd46",
   "metadata": {},
   "source": [
    "### 3.1. Locales"
   ]
  },
  {
   "cell_type": "code",
   "execution_count": 3,
   "id": "f330ce1c",
   "metadata": {},
   "outputs": [
    {
     "name": "stdout",
     "output_type": "stream",
     "text": [
      "North James, USA\n",
      "Settimo Sylvia terme, Italy\n"
     ]
    }
   ],
   "source": [
    "from faker import Faker\n",
    "\n",
    "en_us_faker = Faker('en_US')\n",
    "it_it_fake = Faker('it_IT')\n",
    "\n",
    "print(f'{en_us_faker.city()}, USA')\n",
    "print(f'{it_it_fake.city()}, Italy')"
   ]
  },
  {
   "cell_type": "markdown",
   "id": "ea72df6c",
   "metadata": {},
   "source": [
    "### 3.2. Providers"
   ]
  },
  {
   "cell_type": "code",
   "execution_count": 4,
   "id": "d477dc99",
   "metadata": {},
   "outputs": [
    {
     "data": {
      "text/plain": [
       "'SQL'"
      ]
     },
     "execution_count": 4,
     "metadata": {},
     "output_type": "execute_result"
    }
   ],
   "source": [
    "from faker.providers import DynamicProvider\n",
    "\n",
    "skill_provider = DynamicProvider(\n",
    "     provider_name=\"skills\",\n",
    "     elements=[\"Python\", \"Pandas\", \"Linux\", \"SQL\", \"Data Mining\"],\n",
    ")\n",
    "\n",
    "\n",
    "fake = Faker('en_US')\n",
    "fake.add_provider(skill_provider)\n",
    "\n",
    "fake.skills()"
   ]
  },
  {
   "cell_type": "markdown",
   "id": "36f9892c",
   "metadata": {},
   "source": [
    "## 4. Create DataFrame with Fake Data"
   ]
  },
  {
   "cell_type": "code",
   "execution_count": 5,
   "id": "72804742",
   "metadata": {},
   "outputs": [
    {
     "data": {
      "text/html": [
       "<div>\n",
       "<style scoped>\n",
       "    .dataframe tbody tr th:only-of-type {\n",
       "        vertical-align: middle;\n",
       "    }\n",
       "\n",
       "    .dataframe tbody tr th {\n",
       "        vertical-align: top;\n",
       "    }\n",
       "\n",
       "    .dataframe thead th {\n",
       "        text-align: right;\n",
       "    }\n",
       "</style>\n",
       "<table border=\"1\" class=\"dataframe\">\n",
       "  <thead>\n",
       "    <tr style=\"text-align: right;\">\n",
       "      <th></th>\n",
       "      <th>First Name</th>\n",
       "      <th>Last Name</th>\n",
       "      <th>Birth Date</th>\n",
       "      <th>Email</th>\n",
       "      <th>Hobby</th>\n",
       "      <th>Experience</th>\n",
       "      <th>Start Year</th>\n",
       "      <th>Salary</th>\n",
       "      <th>City</th>\n",
       "      <th>Nationality</th>\n",
       "      <th>Skill</th>\n",
       "    </tr>\n",
       "  </thead>\n",
       "  <tbody>\n",
       "    <tr>\n",
       "      <th>0</th>\n",
       "      <td>Austin</td>\n",
       "      <td>Ibarra</td>\n",
       "      <td>1976-09-26</td>\n",
       "      <td>austin.ibarra@fake_domain-2.com</td>\n",
       "      <td>challenge</td>\n",
       "      <td>13</td>\n",
       "      <td>1978</td>\n",
       "      <td>140000</td>\n",
       "      <td>Kerrfurt</td>\n",
       "      <td>Iceland</td>\n",
       "      <td>Data Mining</td>\n",
       "    </tr>\n",
       "    <tr>\n",
       "      <th>1</th>\n",
       "      <td>Gerald</td>\n",
       "      <td>Gilmore</td>\n",
       "      <td>1971-01-18</td>\n",
       "      <td>gerald.gilmore@fake_domain-2.com</td>\n",
       "      <td>difficult</td>\n",
       "      <td>4</td>\n",
       "      <td>2007</td>\n",
       "      <td>115000</td>\n",
       "      <td>Douglasstad</td>\n",
       "      <td>Japan</td>\n",
       "      <td>SQL</td>\n",
       "    </tr>\n",
       "    <tr>\n",
       "      <th>2</th>\n",
       "      <td>Aaron</td>\n",
       "      <td>Pineda</td>\n",
       "      <td>1980-03-12</td>\n",
       "      <td>aaron.pineda@fake_domain-2.com</td>\n",
       "      <td>ability</td>\n",
       "      <td>14</td>\n",
       "      <td>2001</td>\n",
       "      <td>85000</td>\n",
       "      <td>Lukeberg</td>\n",
       "      <td>Christmas Island</td>\n",
       "      <td>Pandas</td>\n",
       "    </tr>\n",
       "    <tr>\n",
       "      <th>3</th>\n",
       "      <td>Anthony</td>\n",
       "      <td>Ross</td>\n",
       "      <td>1974-05-05</td>\n",
       "      <td>anthony.ross@fake_domain-2.com</td>\n",
       "      <td>nation</td>\n",
       "      <td>8</td>\n",
       "      <td>1976</td>\n",
       "      <td>105000</td>\n",
       "      <td>Bakerview</td>\n",
       "      <td>Thailand</td>\n",
       "      <td>SQL</td>\n",
       "    </tr>\n",
       "    <tr>\n",
       "      <th>4</th>\n",
       "      <td>Mark</td>\n",
       "      <td>Hanson</td>\n",
       "      <td>1975-04-03</td>\n",
       "      <td>mark.hanson@fake_domain-2.com</td>\n",
       "      <td>war</td>\n",
       "      <td>1</td>\n",
       "      <td>2015</td>\n",
       "      <td>95000</td>\n",
       "      <td>Calebview</td>\n",
       "      <td>Pakistan</td>\n",
       "      <td>SQL</td>\n",
       "    </tr>\n",
       "  </tbody>\n",
       "</table>\n",
       "</div>"
      ],
      "text/plain": [
       "  First Name Last Name  Birth Date                             Email  \\\n",
       "0     Austin    Ibarra  1976-09-26   austin.ibarra@fake_domain-2.com   \n",
       "1     Gerald   Gilmore  1971-01-18  gerald.gilmore@fake_domain-2.com   \n",
       "2      Aaron    Pineda  1980-03-12    aaron.pineda@fake_domain-2.com   \n",
       "3    Anthony      Ross  1974-05-05    anthony.ross@fake_domain-2.com   \n",
       "4       Mark    Hanson  1975-04-03     mark.hanson@fake_domain-2.com   \n",
       "\n",
       "       Hobby  Experience Start Year  Salary         City       Nationality  \\\n",
       "0  challenge          13       1978  140000     Kerrfurt           Iceland   \n",
       "1  difficult           4       2007  115000  Douglasstad             Japan   \n",
       "2    ability          14       2001   85000     Lukeberg  Christmas Island   \n",
       "3     nation           8       1976  105000    Bakerview          Thailand   \n",
       "4        war           1       2015   95000    Calebview          Pakistan   \n",
       "\n",
       "         Skill  \n",
       "0  Data Mining  \n",
       "1          SQL  \n",
       "2       Pandas  \n",
       "3          SQL  \n",
       "4          SQL  "
      ]
     },
     "execution_count": 5,
     "metadata": {},
     "output_type": "execute_result"
    }
   ],
   "source": [
    "import csv\n",
    "import pandas as pd\n",
    "from faker import Faker\n",
    "import datetime\n",
    "import random\n",
    "from faker.providers import DynamicProvider\n",
    "\n",
    "skill_provider = DynamicProvider(\n",
    "     provider_name=\"skills\",\n",
    "     elements=[\"Python\", \"Pandas\", \"Linux\", \"SQL\", \"Data Mining\"],\n",
    ")\n",
    "\n",
    "\n",
    "def fake_data_generation(records):\n",
    "    fake = Faker('en_US')\n",
    "    \n",
    "    employee = []\n",
    "    \n",
    "    fake.add_provider(skill_provider)\n",
    "\n",
    "    for i in range(records):\n",
    "        first_name = fake.first_name()\n",
    "        last_name = fake.last_name()\n",
    "\n",
    "\n",
    "\n",
    "        employee.append({\n",
    "                \"First Name\": first_name,\n",
    "                \"Last Name\": last_name,\n",
    "                \"Birth Date\" : fake.date(pattern=\"%Y-%m-%d\", end_datetime=datetime.date(1995, 1,1)),\n",
    "                \"Email\": str.lower(f\"{first_name}.{last_name}@fake_domain-2.com\"),\n",
    "                \"Hobby\": fake.word(),\n",
    "                \"Experience\" : random.randint(0,15),\n",
    "                \"Start Year\": fake.year(),\n",
    "                \"Salary\": random.randrange(75000,150000, 5000),\n",
    "                \"City\" : fake.city(),\n",
    "                \"Nationality\" : fake.country(),\n",
    "                \"Skill\": fake.skills()\n",
    "                })\n",
    "        \n",
    "    return employee\n",
    "\n",
    "\n",
    "df = pd.DataFrame(fake_data_generation(50))\n",
    "df.head()"
   ]
  },
  {
   "cell_type": "markdown",
   "id": "623d896d",
   "metadata": {},
   "source": [
    "## 5. Create big CSV file with Fake Data"
   ]
  },
  {
   "cell_type": "code",
   "execution_count": 6,
   "id": "0f01ce4e",
   "metadata": {},
   "outputs": [],
   "source": [
    "import csv\n",
    "from faker import Faker\n",
    "import datetime\n",
    "import random\n",
    "from faker.providers import DynamicProvider\n",
    "\n",
    "skill_provider = DynamicProvider(\n",
    "     provider_name=\"skills\",\n",
    "     elements=[\"Python\", \"Pandas\", \"Linux\", \"SQL\", \"Data Mining\"],\n",
    ")\n",
    "\n",
    "\n",
    "def fake_data_generation(records, headers):\n",
    "    fake = Faker('en_US')\n",
    "    \n",
    "    fake.add_provider(skill_provider)\n",
    "\n",
    "    \n",
    "    with open(\"employee.csv\", 'wt') as csvFile:\n",
    "        writer = csv.DictWriter(csvFile, fieldnames=headers)\n",
    "        writer.writeheader()\n",
    "        for i in range(records):\n",
    "            first_name = fake.first_name()\n",
    "            last_name = fake.last_name()\n",
    "            \n",
    "            \n",
    "            \n",
    "            writer.writerow({\n",
    "                    \"First Name\": first_name,\n",
    "                    \"Last Name\": last_name,\n",
    "                    \"Birth Date\" : fake.date(pattern=\"%Y-%m-%d\", end_datetime=datetime.date(1995, 1,1)),\n",
    "                    \"Email\": str.lower(f\"{first_name}.{last_name}@fake_domain-2.com\"),\n",
    "                    \"Hobby\": fake.word(),\n",
    "                    \"Experience\" : random.randint(0,15),\n",
    "                    \"Start Year\": fake.year(),\n",
    "                    \"Salary\": random.randrange(75000,150000, 5000),\n",
    "                    \"City\" : fake.city(),\n",
    "                    \"Nationality\" : fake.country(),\n",
    "                    \"Skill\": fake.skills()\n",
    "                    })\n",
    "    \n",
    "\n",
    "number_records = 100\n",
    "fields = [\"First Name\", \"Last Name\", \"Birth Date\", \"Email\", \"Hobby\", \"Experience\",\n",
    "           \"Start Year\", \"Salary\", \"City\", \"Nationality\", \"Skill\"]\n",
    "\n",
    "fake_data_generation(number_records, fields)\n"
   ]
  },
  {
   "cell_type": "code",
   "execution_count": null,
   "id": "5a9bdbaa",
   "metadata": {},
   "outputs": [],
   "source": []
  }
 ],
 "metadata": {
  "kernelspec": {
   "display_name": "Python 3",
   "language": "python",
   "name": "python3"
  },
  "language_info": {
   "codemirror_mode": {
    "name": "ipython",
    "version": 3
   },
   "file_extension": ".py",
   "mimetype": "text/x-python",
   "name": "python",
   "nbconvert_exporter": "python",
   "pygments_lexer": "ipython3",
   "version": "3.8.0"
  },
  "toc": {
   "base_numbering": 1,
   "nav_menu": {},
   "number_sections": false,
   "sideBar": true,
   "skip_h1_title": false,
   "title_cell": "Table of Contents",
   "title_sidebar": "Contents",
   "toc_cell": false,
   "toc_position": {},
   "toc_section_display": true,
   "toc_window_display": false
  }
 },
 "nbformat": 4,
 "nbformat_minor": 5
}
